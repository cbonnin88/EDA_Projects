{
  "nbformat": 4,
  "nbformat_minor": 0,
  "metadata": {
    "colab": {
      "provenance": [],
      "authorship_tag": "ABX9TyNzk+84c3Nv0ok5TOLCc1Mh",
      "include_colab_link": true
    },
    "kernelspec": {
      "name": "python3",
      "display_name": "Python 3"
    },
    "language_info": {
      "name": "python"
    }
  },
  "cells": [
    {
      "cell_type": "markdown",
      "metadata": {
        "id": "view-in-github",
        "colab_type": "text"
      },
      "source": [
        "<a href=\"https://colab.research.google.com/github/cbonnin88/EDA_Projects/blob/main/performance_review_polars.ipynb\" target=\"_parent\"><img src=\"https://colab.research.google.com/assets/colab-badge.svg\" alt=\"Open In Colab\"/></a>"
      ]
    },
    {
      "cell_type": "code",
      "execution_count": 2,
      "metadata": {
        "id": "zPl8toZZbRti"
      },
      "outputs": [],
      "source": [
        "import polars as pl\n",
        "import plotly.express as px\n",
        "import gdown as gd"
      ]
    },
    {
      "cell_type": "code",
      "source": [
        "url = 'https://drive.google.com/uc?id=1CUZ7HDjvh99e6iM78aEFf41ib2fyvsiB'"
      ],
      "metadata": {
        "id": "N8JO7yA0bnek"
      },
      "execution_count": 3,
      "outputs": []
    },
    {
      "cell_type": "code",
      "source": [
        "gd.download(url,'performance_review.csv',quiet=True)\n",
        "df_performance = pl.read_csv('performance_review.csv')"
      ],
      "metadata": {
        "id": "T6CBDsxKdaiJ"
      },
      "execution_count": 4,
      "outputs": []
    },
    {
      "cell_type": "code",
      "source": [
        "df_performance.head()"
      ],
      "metadata": {
        "colab": {
          "base_uri": "https://localhost:8080/",
          "height": 255
        },
        "id": "7vHxFWt_drbX",
        "outputId": "757571e6-8740-41c1-dfb9-a1838ebeccb7"
      },
      "execution_count": 5,
      "outputs": [
        {
          "output_type": "execute_result",
          "data": {
            "text/plain": [
              "shape: (5, 8)\n",
              "┌─────────────┬─────────────┬───────────┬──────────────┬────────┬─────┬──────────────┬─────────────┐\n",
              "│ employee_id ┆ department  ┆ job_level ┆ tenure_month ┆ gender ┆ age ┆ performance_ ┆ potential_r │\n",
              "│ ---         ┆ ---         ┆ ---       ┆ s            ┆ ---    ┆ --- ┆ rating       ┆ ating       │\n",
              "│ i64         ┆ str         ┆ str       ┆ ---          ┆ str    ┆ i64 ┆ ---          ┆ ---         │\n",
              "│             ┆             ┆           ┆ i64          ┆        ┆     ┆ i64          ┆ i64         │\n",
              "╞═════════════╪═════════════╪═══════════╪══════════════╪════════╪═════╪══════════════╪═════════════╡\n",
              "│ 101         ┆ Sales       ┆ T4        ┆ 59           ┆ Female ┆ 63  ┆ 5            ┆ 2           │\n",
              "│ 102         ┆ Product     ┆ T5        ┆ 36           ┆ Female ┆ 41  ┆ 4            ┆ 4           │\n",
              "│ 103         ┆ Sales       ┆ T2        ┆ 57           ┆ Male   ┆ 25  ┆ 2            ┆ 5           │\n",
              "│ 104         ┆ Engineering ┆ T3        ┆ 41           ┆ Female ┆ 59  ┆ 3            ┆ 1           │\n",
              "│ 105         ┆ Engineering ┆ T3        ┆ 22           ┆ Male   ┆ 48  ┆ 2            ┆ 2           │\n",
              "└─────────────┴─────────────┴───────────┴──────────────┴────────┴─────┴──────────────┴─────────────┘"
            ],
            "text/html": [
              "<div><style>\n",
              ".dataframe > thead > tr,\n",
              ".dataframe > tbody > tr {\n",
              "  text-align: right;\n",
              "  white-space: pre-wrap;\n",
              "}\n",
              "</style>\n",
              "<small>shape: (5, 8)</small><table border=\"1\" class=\"dataframe\"><thead><tr><th>employee_id</th><th>department</th><th>job_level</th><th>tenure_months</th><th>gender</th><th>age</th><th>performance_rating</th><th>potential_rating</th></tr><tr><td>i64</td><td>str</td><td>str</td><td>i64</td><td>str</td><td>i64</td><td>i64</td><td>i64</td></tr></thead><tbody><tr><td>101</td><td>&quot;Sales&quot;</td><td>&quot;T4&quot;</td><td>59</td><td>&quot;Female&quot;</td><td>63</td><td>5</td><td>2</td></tr><tr><td>102</td><td>&quot;Product&quot;</td><td>&quot;T5&quot;</td><td>36</td><td>&quot;Female&quot;</td><td>41</td><td>4</td><td>4</td></tr><tr><td>103</td><td>&quot;Sales&quot;</td><td>&quot;T2&quot;</td><td>57</td><td>&quot;Male&quot;</td><td>25</td><td>2</td><td>5</td></tr><tr><td>104</td><td>&quot;Engineering&quot;</td><td>&quot;T3&quot;</td><td>41</td><td>&quot;Female&quot;</td><td>59</td><td>3</td><td>1</td></tr><tr><td>105</td><td>&quot;Engineering&quot;</td><td>&quot;T3&quot;</td><td>22</td><td>&quot;Male&quot;</td><td>48</td><td>2</td><td>2</td></tr></tbody></table></div>"
            ]
          },
          "metadata": {},
          "execution_count": 5
        }
      ]
    },
    {
      "cell_type": "code",
      "source": [
        "# Showing missing values\n",
        "missing_values = df_performance.null_count()\n",
        "display(missing_values)"
      ],
      "metadata": {
        "colab": {
          "base_uri": "https://localhost:8080/",
          "height": 129
        },
        "id": "lIBifmk1wry6",
        "outputId": "7242385a-ea8b-41fc-db8e-05d2bba561e9"
      },
      "execution_count": 14,
      "outputs": [
        {
          "output_type": "display_data",
          "data": {
            "text/plain": [
              "shape: (1, 8)\n",
              "┌─────────────┬────────────┬───────────┬──────────────┬────────┬─────┬──────────────┬──────────────┐\n",
              "│ employee_id ┆ department ┆ job_level ┆ tenure_month ┆ gender ┆ age ┆ performance_ ┆ potential_ra │\n",
              "│ ---         ┆ ---        ┆ ---       ┆ s            ┆ ---    ┆ --- ┆ rating       ┆ ting         │\n",
              "│ u32         ┆ u32        ┆ u32       ┆ ---          ┆ u32    ┆ u32 ┆ ---          ┆ ---          │\n",
              "│             ┆            ┆           ┆ u32          ┆        ┆     ┆ u32          ┆ u32          │\n",
              "╞═════════════╪════════════╪═══════════╪══════════════╪════════╪═════╪══════════════╪══════════════╡\n",
              "│ 0           ┆ 0          ┆ 0         ┆ 0            ┆ 0      ┆ 0   ┆ 0            ┆ 0            │\n",
              "└─────────────┴────────────┴───────────┴──────────────┴────────┴─────┴──────────────┴──────────────┘"
            ],
            "text/html": [
              "<div><style>\n",
              ".dataframe > thead > tr,\n",
              ".dataframe > tbody > tr {\n",
              "  text-align: right;\n",
              "  white-space: pre-wrap;\n",
              "}\n",
              "</style>\n",
              "<small>shape: (1, 8)</small><table border=\"1\" class=\"dataframe\"><thead><tr><th>employee_id</th><th>department</th><th>job_level</th><th>tenure_months</th><th>gender</th><th>age</th><th>performance_rating</th><th>potential_rating</th></tr><tr><td>u32</td><td>u32</td><td>u32</td><td>u32</td><td>u32</td><td>u32</td><td>u32</td><td>u32</td></tr></thead><tbody><tr><td>0</td><td>0</td><td>0</td><td>0</td><td>0</td><td>0</td><td>0</td><td>0</td></tr></tbody></table></div>"
            ]
          },
          "metadata": {}
        }
      ]
    },
    {
      "cell_type": "code",
      "source": [
        "num_cols = df_performance.shape[0]\n",
        "num_rows = df_performance.shape[1]\n",
        "\n",
        "print(f'Number of rows in the data frame: {num_cols}')\n",
        "print(f'Number of columns in the data frame: {num_rows}')"
      ],
      "metadata": {
        "colab": {
          "base_uri": "https://localhost:8080/"
        },
        "id": "Fg-ypGFtw-K5",
        "outputId": "10ab41c5-5659-4ee0-fb85-1a87f0b3c316"
      },
      "execution_count": 16,
      "outputs": [
        {
          "output_type": "stream",
          "name": "stdout",
          "text": [
            "Number of rows in the data frame: 1000\n",
            "Number of columns in the data frame: 8\n"
          ]
        }
      ]
    },
    {
      "cell_type": "markdown",
      "source": [
        "# **Exploratory Data Analysis with Polars**"
      ],
      "metadata": {
        "id": "xGnNTJKydvcd"
      }
    },
    {
      "cell_type": "code",
      "source": [
        "# Description Statistics\n",
        "print('\\nDescriptive Statistics')\n",
        "display(df_performance.select(['performance_rating','tenure_months','age']).describe())"
      ],
      "metadata": {
        "colab": {
          "base_uri": "https://localhost:8080/",
          "height": 415
        },
        "id": "IKQ-mdK6smkD",
        "outputId": "68c7bb09-9836-4af8-dcae-c1590483fa03"
      },
      "execution_count": 8,
      "outputs": [
        {
          "output_type": "stream",
          "name": "stdout",
          "text": [
            "\n",
            "Descriptive Statistics\n"
          ]
        },
        {
          "output_type": "display_data",
          "data": {
            "text/plain": [
              "shape: (9, 4)\n",
              "┌────────────┬────────────────────┬───────────────┬───────────┐\n",
              "│ statistic  ┆ performance_rating ┆ tenure_months ┆ age       │\n",
              "│ ---        ┆ ---                ┆ ---           ┆ ---       │\n",
              "│ str        ┆ f64                ┆ f64           ┆ f64       │\n",
              "╞════════════╪════════════════════╪═══════════════╪═══════════╡\n",
              "│ count      ┆ 1000.0             ┆ 1000.0        ┆ 1000.0    │\n",
              "│ null_count ┆ 0.0                ┆ 0.0           ┆ 0.0       │\n",
              "│ mean       ┆ 3.497              ┆ 36.755        ┆ 42.379    │\n",
              "│ std        ┆ 1.292153           ┆ 20.188922     ┆ 12.481312 │\n",
              "│ min        ┆ 1.0                ┆ 1.0           ┆ 21.0      │\n",
              "│ 25%        ┆ 2.0                ┆ 20.0          ┆ 32.0      │\n",
              "│ 50%        ┆ 4.0                ┆ 37.0          ┆ 42.0      │\n",
              "│ 75%        ┆ 5.0                ┆ 54.0          ┆ 53.0      │\n",
              "│ max        ┆ 5.0                ┆ 71.0          ┆ 64.0      │\n",
              "└────────────┴────────────────────┴───────────────┴───────────┘"
            ],
            "text/html": [
              "<div><style>\n",
              ".dataframe > thead > tr,\n",
              ".dataframe > tbody > tr {\n",
              "  text-align: right;\n",
              "  white-space: pre-wrap;\n",
              "}\n",
              "</style>\n",
              "<small>shape: (9, 4)</small><table border=\"1\" class=\"dataframe\"><thead><tr><th>statistic</th><th>performance_rating</th><th>tenure_months</th><th>age</th></tr><tr><td>str</td><td>f64</td><td>f64</td><td>f64</td></tr></thead><tbody><tr><td>&quot;count&quot;</td><td>1000.0</td><td>1000.0</td><td>1000.0</td></tr><tr><td>&quot;null_count&quot;</td><td>0.0</td><td>0.0</td><td>0.0</td></tr><tr><td>&quot;mean&quot;</td><td>3.497</td><td>36.755</td><td>42.379</td></tr><tr><td>&quot;std&quot;</td><td>1.292153</td><td>20.188922</td><td>12.481312</td></tr><tr><td>&quot;min&quot;</td><td>1.0</td><td>1.0</td><td>21.0</td></tr><tr><td>&quot;25%&quot;</td><td>2.0</td><td>20.0</td><td>32.0</td></tr><tr><td>&quot;50%&quot;</td><td>4.0</td><td>37.0</td><td>42.0</td></tr><tr><td>&quot;75%&quot;</td><td>5.0</td><td>54.0</td><td>53.0</td></tr><tr><td>&quot;max&quot;</td><td>5.0</td><td>71.0</td><td>64.0</td></tr></tbody></table></div>"
            ]
          },
          "metadata": {}
        }
      ]
    },
    {
      "cell_type": "code",
      "source": [
        "# Analyzing performance distribution\n",
        "performance_distribution = df_performance.group_by('performance_rating').len().sort('performance_rating')\n",
        "\n",
        "print('\\nPerformance Rating Distribution:')\n",
        "display(performance_distribution)"
      ],
      "metadata": {
        "colab": {
          "base_uri": "https://localhost:8080/",
          "height": 289
        },
        "id": "VsE_2ZBWtTtA",
        "outputId": "fcbbe6eb-3791-4bf8-a2a9-0e036c471998"
      },
      "execution_count": 10,
      "outputs": [
        {
          "output_type": "stream",
          "name": "stdout",
          "text": [
            "\n",
            "Performance Rating Distribution:\n"
          ]
        },
        {
          "output_type": "display_data",
          "data": {
            "text/plain": [
              "shape: (5, 2)\n",
              "┌────────────────────┬─────┐\n",
              "│ performance_rating ┆ len │\n",
              "│ ---                ┆ --- │\n",
              "│ i64                ┆ u32 │\n",
              "╞════════════════════╪═════╡\n",
              "│ 1                  ┆ 69  │\n",
              "│ 2                  ┆ 197 │\n",
              "│ 3                  ┆ 207 │\n",
              "│ 4                  ┆ 222 │\n",
              "│ 5                  ┆ 305 │\n",
              "└────────────────────┴─────┘"
            ],
            "text/html": [
              "<div><style>\n",
              ".dataframe > thead > tr,\n",
              ".dataframe > tbody > tr {\n",
              "  text-align: right;\n",
              "  white-space: pre-wrap;\n",
              "}\n",
              "</style>\n",
              "<small>shape: (5, 2)</small><table border=\"1\" class=\"dataframe\"><thead><tr><th>performance_rating</th><th>len</th></tr><tr><td>i64</td><td>u32</td></tr></thead><tbody><tr><td>1</td><td>69</td></tr><tr><td>2</td><td>197</td></tr><tr><td>3</td><td>207</td></tr><tr><td>4</td><td>222</td></tr><tr><td>5</td><td>305</td></tr></tbody></table></div>"
            ]
          },
          "metadata": {}
        }
      ]
    },
    {
      "cell_type": "code",
      "source": [
        "# Average Performance by Department\n",
        "avg_perf_by_dept = (\n",
        "    df_performance.group_by('department')\n",
        "    .agg(\n",
        "        pl.col('performance_rating').mean().round(1).alias('avg_performance'),\n",
        "    )\n",
        "    .sort('avg_performance',descending=True)\n",
        "    )\n",
        "\n",
        "print('\\nAverage Performance by Department:')\n",
        "display(avg_perf_by_dept)"
      ],
      "metadata": {
        "colab": {
          "base_uri": "https://localhost:8080/",
          "height": 352
        },
        "id": "3axJo-aKu8p3",
        "outputId": "64fa9cfc-d8a1-439b-9961-1f17902c3b62"
      },
      "execution_count": 17,
      "outputs": [
        {
          "output_type": "stream",
          "name": "stdout",
          "text": [
            "\n",
            "Average Performance by Department:\n"
          ]
        },
        {
          "output_type": "display_data",
          "data": {
            "text/plain": [
              "shape: (7, 2)\n",
              "┌─────────────┬─────────────────┐\n",
              "│ department  ┆ avg_performance │\n",
              "│ ---         ┆ ---             │\n",
              "│ str         ┆ f64             │\n",
              "╞═════════════╪═════════════════╡\n",
              "│ Engineering ┆ 3.7             │\n",
              "│ Leadership  ┆ 3.6             │\n",
              "│ Product     ┆ 3.5             │\n",
              "│ HR          ┆ 3.5             │\n",
              "│ Marketing   ┆ 3.5             │\n",
              "│ Data        ┆ 3.4             │\n",
              "│ Sales       ┆ 3.3             │\n",
              "└─────────────┴─────────────────┘"
            ],
            "text/html": [
              "<div><style>\n",
              ".dataframe > thead > tr,\n",
              ".dataframe > tbody > tr {\n",
              "  text-align: right;\n",
              "  white-space: pre-wrap;\n",
              "}\n",
              "</style>\n",
              "<small>shape: (7, 2)</small><table border=\"1\" class=\"dataframe\"><thead><tr><th>department</th><th>avg_performance</th></tr><tr><td>str</td><td>f64</td></tr></thead><tbody><tr><td>&quot;Engineering&quot;</td><td>3.7</td></tr><tr><td>&quot;Leadership&quot;</td><td>3.6</td></tr><tr><td>&quot;Product&quot;</td><td>3.5</td></tr><tr><td>&quot;HR&quot;</td><td>3.5</td></tr><tr><td>&quot;Marketing&quot;</td><td>3.5</td></tr><tr><td>&quot;Data&quot;</td><td>3.4</td></tr><tr><td>&quot;Sales&quot;</td><td>3.3</td></tr></tbody></table></div>"
            ]
          },
          "metadata": {}
        }
      ]
    },
    {
      "cell_type": "code",
      "source": [
        "# Average performance by job level\n",
        "avg_perf_by_job_level = (\n",
        "    df_performance.group_by('job_level')\n",
        "    .agg(\n",
        "        pl.col('performance_rating').mean().round(1).alias('avg_performance_job_level')\n",
        "    )\n",
        "    .sort('avg_performance_job_level',descending=True)\n",
        ")\n",
        "print('\\nAverage Performance by Job Level')\n",
        "display(avg_perf_by_job_level)"
      ],
      "metadata": {
        "colab": {
          "base_uri": "https://localhost:8080/",
          "height": 289
        },
        "id": "H_Ci1pVpx7gq",
        "outputId": "e68f0620-b159-4e62-8a93-2c0731e9fbf9"
      },
      "execution_count": 18,
      "outputs": [
        {
          "output_type": "stream",
          "name": "stdout",
          "text": [
            "\n",
            "Average Performance by Job Level\n"
          ]
        },
        {
          "output_type": "display_data",
          "data": {
            "text/plain": [
              "shape: (5, 2)\n",
              "┌───────────┬───────────────────────────┐\n",
              "│ job_level ┆ avg_performance_job_level │\n",
              "│ ---       ┆ ---                       │\n",
              "│ str       ┆ f64                       │\n",
              "╞═══════════╪═══════════════════════════╡\n",
              "│ T1        ┆ 3.6                       │\n",
              "│ T2        ┆ 3.5                       │\n",
              "│ T5        ┆ 3.5                       │\n",
              "│ T3        ┆ 3.5                       │\n",
              "│ T4        ┆ 3.4                       │\n",
              "└───────────┴───────────────────────────┘"
            ],
            "text/html": [
              "<div><style>\n",
              ".dataframe > thead > tr,\n",
              ".dataframe > tbody > tr {\n",
              "  text-align: right;\n",
              "  white-space: pre-wrap;\n",
              "}\n",
              "</style>\n",
              "<small>shape: (5, 2)</small><table border=\"1\" class=\"dataframe\"><thead><tr><th>job_level</th><th>avg_performance_job_level</th></tr><tr><td>str</td><td>f64</td></tr></thead><tbody><tr><td>&quot;T1&quot;</td><td>3.6</td></tr><tr><td>&quot;T2&quot;</td><td>3.5</td></tr><tr><td>&quot;T5&quot;</td><td>3.5</td></tr><tr><td>&quot;T3&quot;</td><td>3.5</td></tr><tr><td>&quot;T4&quot;</td><td>3.4</td></tr></tbody></table></div>"
            ]
          },
          "metadata": {}
        }
      ]
    },
    {
      "cell_type": "markdown",
      "source": [
        "# **Visualization with Plotly**"
      ],
      "metadata": {
        "id": "q7wtIvkWyt2v"
      }
    },
    {
      "cell_type": "code",
      "source": [
        "df_performance_viz = df_performance.to_pandas()"
      ],
      "metadata": {
        "id": "9kFqjVf3yxlS"
      },
      "execution_count": 19,
      "outputs": []
    },
    {
      "cell_type": "code",
      "source": [
        "# Overall Performance Distribution\n",
        "fig_hist = px.histogram(\n",
        "    df_performance_viz,\n",
        "    x='performance_rating',\n",
        "    title='Distribution of Employee Performance Ratings',\n",
        "    labels={'performance_ration':'Performance Rating (1-5)'},\n",
        "    nbins=5,\n",
        "    text_auto=True\n",
        ")\n",
        "fig_hist.update_traces(marker=dict(color='#70aa58'))\n",
        "fig_hist.show()\n"
      ],
      "metadata": {
        "colab": {
          "base_uri": "https://localhost:8080/",
          "height": 542
        },
        "id": "1aymLYlTz06C",
        "outputId": "3f4b4eb5-c667-4a5f-994b-700de43df174"
      },
      "execution_count": 22,
      "outputs": [
        {
          "output_type": "display_data",
          "data": {
            "text/html": [
              "<html>\n",
              "<head><meta charset=\"utf-8\" /></head>\n",
              "<body>\n",
              "    <div>            <script src=\"https://cdnjs.cloudflare.com/ajax/libs/mathjax/2.7.5/MathJax.js?config=TeX-AMS-MML_SVG\"></script><script type=\"text/javascript\">if (window.MathJax && window.MathJax.Hub && window.MathJax.Hub.Config) {window.MathJax.Hub.Config({SVG: {font: \"STIX-Web\"}});}</script>                <script type=\"text/javascript\">window.PlotlyConfig = {MathJaxConfig: 'local'};</script>\n",
              "        <script charset=\"utf-8\" src=\"https://cdn.plot.ly/plotly-2.35.2.min.js\"></script>                <div id=\"4ea90c88-576d-48c5-8b8b-0dd0581999a3\" class=\"plotly-graph-div\" style=\"height:525px; width:100%;\"></div>            <script type=\"text/javascript\">                                    window.PLOTLYENV=window.PLOTLYENV || {};                                    if (document.getElementById(\"4ea90c88-576d-48c5-8b8b-0dd0581999a3\")) {                    Plotly.newPlot(                        \"4ea90c88-576d-48c5-8b8b-0dd0581999a3\",                        [{\"alignmentgroup\":\"True\",\"bingroup\":\"x\",\"hovertemplate\":\"performance_rating=%{x}\\u003cbr\\u003ecount=%{y}\\u003cextra\\u003e\\u003c\\u002fextra\\u003e\",\"legendgroup\":\"\",\"marker\":{\"color\":\"#70aa58\",\"pattern\":{\"shape\":\"\"}},\"name\":\"\",\"nbinsx\":5,\"offsetgroup\":\"\",\"orientation\":\"v\",\"showlegend\":false,\"texttemplate\":\"%{value}\",\"x\":[5,4,2,3,2,3,2,5,3,4,2,4,4,5,3,5,5,5,5,4,5,3,5,2,4,3,5,2,2,5,2,5,5,5,4,5,5,4,5,2,2,3,2,4,2,2,4,5,4,5,1,5,5,4,3,1,2,1,4,3,4,1,1,5,3,4,5,5,5,5,3,4,5,4,4,3,5,4,3,2,5,2,5,4,5,5,3,5,5,5,2,5,3,5,3,3,5,1,2,3,2,2,5,5,1,4,1,4,5,3,4,3,5,3,5,4,5,2,3,2,4,5,3,4,3,4,3,3,1,5,2,3,3,3,3,4,5,4,5,5,4,2,3,5,3,5,5,5,1,3,4,4,3,3,3,5,5,5,1,1,4,5,1,2,1,4,3,5,5,5,3,3,3,3,4,4,4,3,5,4,3,5,2,1,1,3,4,3,3,2,4,4,1,4,5,5,5,3,5,5,5,1,5,3,1,3,2,3,2,3,4,4,2,5,3,1,4,5,4,4,4,2,5,5,5,5,2,2,2,4,5,5,5,2,5,2,5,4,5,4,2,1,1,5,3,1,4,1,2,2,2,4,5,5,3,3,2,5,5,4,2,3,4,2,3,2,3,2,3,5,5,5,2,3,2,4,4,4,5,5,5,1,2,2,2,4,5,1,5,2,3,2,5,5,4,3,3,2,2,2,4,3,2,3,2,3,5,4,3,3,4,3,5,3,5,2,2,4,4,3,1,5,1,5,1,4,5,3,4,2,4,3,5,5,5,3,5,5,5,5,5,2,2,4,2,3,4,5,5,4,5,5,5,3,3,5,5,4,5,4,5,2,3,4,3,4,3,3,2,5,3,5,5,1,5,5,5,4,2,3,2,4,4,3,3,5,4,5,5,5,3,5,4,4,2,2,3,5,4,5,4,4,3,4,5,3,5,3,2,5,5,3,3,4,4,2,3,5,3,4,5,5,5,5,2,5,5,4,1,4,2,3,2,3,2,2,3,4,2,4,5,4,5,2,4,5,4,3,2,5,5,3,1,5,2,3,4,5,2,1,3,5,5,2,2,4,1,4,4,4,4,3,2,4,4,3,5,5,3,5,4,2,5,5,3,2,2,4,1,1,5,2,4,2,5,4,5,4,5,1,4,3,4,3,3,2,5,4,5,2,5,5,5,1,4,2,5,2,3,2,4,4,5,2,4,4,4,5,3,3,5,5,4,5,3,2,5,5,2,3,3,4,5,2,2,3,4,1,5,2,2,4,1,4,1,3,4,2,5,4,3,3,5,5,4,5,5,4,5,5,3,3,4,5,5,3,4,4,5,5,5,1,4,4,5,2,1,4,4,5,5,2,2,5,4,5,5,2,4,2,3,3,2,2,5,4,2,2,5,3,4,1,2,5,2,2,3,3,1,2,5,5,2,3,3,3,1,5,5,2,2,3,3,2,5,5,3,2,1,3,1,2,2,2,4,4,3,5,4,4,3,4,2,5,3,5,3,5,2,1,1,3,4,4,5,2,5,3,5,2,2,3,5,5,2,2,5,5,2,4,4,2,4,5,5,3,2,4,5,2,5,5,2,2,4,4,3,3,3,4,3,2,5,5,3,2,3,5,5,2,4,3,4,5,2,3,5,5,5,5,2,4,1,5,2,4,5,3,4,3,3,3,1,3,5,2,5,3,5,5,4,2,4,2,4,4,5,1,5,4,3,5,5,5,2,5,3,2,3,2,2,4,5,2,5,3,3,3,4,4,5,5,3,2,1,4,5,2,5,2,5,5,5,4,5,4,5,5,5,5,2,5,4,5,5,3,2,4,2,4,5,3,2,2,2,5,1,2,3,5,2,1,5,4,4,4,3,5,5,5,2,3,4,3,4,5,3,1,5,3,5,4,4,2,2,2,4,5,1,5,2,2,5,3,4,3,4,2,3,4,5,2,5,2,4,2,1,4,4,4,4,4,3,1,2,5,3,1,1,3,4,2,2,4,2,3,4,5,5,2,5,2,4,3,2,3,4,3,4,5,2,4,2,2,3,1,4,2,5,1,4,5,3,1,5,2,4,4,4,3,3,4,3,3,3,5,3,2,3,4,4,3,4,5,5,3,4,5,4,5,5,5,5,3,5,2,5,5,3,4,3,3,5,4,4,3,5,4,5,3,3,2,4,3,3,5,4,2,5,4,4,2,5,5,3,5,2,4,2,5,1,4,1,5,3,4,1,5,2,4,2,2,1,2,2,5,5,4,4,5,3,4,2,4,3,3,3,4,3,2],\"xaxis\":\"x\",\"yaxis\":\"y\",\"type\":\"histogram\"}],                        {\"template\":{\"data\":{\"histogram2dcontour\":[{\"type\":\"histogram2dcontour\",\"colorbar\":{\"outlinewidth\":0,\"ticks\":\"\"},\"colorscale\":[[0.0,\"#0d0887\"],[0.1111111111111111,\"#46039f\"],[0.2222222222222222,\"#7201a8\"],[0.3333333333333333,\"#9c179e\"],[0.4444444444444444,\"#bd3786\"],[0.5555555555555556,\"#d8576b\"],[0.6666666666666666,\"#ed7953\"],[0.7777777777777778,\"#fb9f3a\"],[0.8888888888888888,\"#fdca26\"],[1.0,\"#f0f921\"]]}],\"choropleth\":[{\"type\":\"choropleth\",\"colorbar\":{\"outlinewidth\":0,\"ticks\":\"\"}}],\"histogram2d\":[{\"type\":\"histogram2d\",\"colorbar\":{\"outlinewidth\":0,\"ticks\":\"\"},\"colorscale\":[[0.0,\"#0d0887\"],[0.1111111111111111,\"#46039f\"],[0.2222222222222222,\"#7201a8\"],[0.3333333333333333,\"#9c179e\"],[0.4444444444444444,\"#bd3786\"],[0.5555555555555556,\"#d8576b\"],[0.6666666666666666,\"#ed7953\"],[0.7777777777777778,\"#fb9f3a\"],[0.8888888888888888,\"#fdca26\"],[1.0,\"#f0f921\"]]}],\"heatmap\":[{\"type\":\"heatmap\",\"colorbar\":{\"outlinewidth\":0,\"ticks\":\"\"},\"colorscale\":[[0.0,\"#0d0887\"],[0.1111111111111111,\"#46039f\"],[0.2222222222222222,\"#7201a8\"],[0.3333333333333333,\"#9c179e\"],[0.4444444444444444,\"#bd3786\"],[0.5555555555555556,\"#d8576b\"],[0.6666666666666666,\"#ed7953\"],[0.7777777777777778,\"#fb9f3a\"],[0.8888888888888888,\"#fdca26\"],[1.0,\"#f0f921\"]]}],\"heatmapgl\":[{\"type\":\"heatmapgl\",\"colorbar\":{\"outlinewidth\":0,\"ticks\":\"\"},\"colorscale\":[[0.0,\"#0d0887\"],[0.1111111111111111,\"#46039f\"],[0.2222222222222222,\"#7201a8\"],[0.3333333333333333,\"#9c179e\"],[0.4444444444444444,\"#bd3786\"],[0.5555555555555556,\"#d8576b\"],[0.6666666666666666,\"#ed7953\"],[0.7777777777777778,\"#fb9f3a\"],[0.8888888888888888,\"#fdca26\"],[1.0,\"#f0f921\"]]}],\"contourcarpet\":[{\"type\":\"contourcarpet\",\"colorbar\":{\"outlinewidth\":0,\"ticks\":\"\"}}],\"contour\":[{\"type\":\"contour\",\"colorbar\":{\"outlinewidth\":0,\"ticks\":\"\"},\"colorscale\":[[0.0,\"#0d0887\"],[0.1111111111111111,\"#46039f\"],[0.2222222222222222,\"#7201a8\"],[0.3333333333333333,\"#9c179e\"],[0.4444444444444444,\"#bd3786\"],[0.5555555555555556,\"#d8576b\"],[0.6666666666666666,\"#ed7953\"],[0.7777777777777778,\"#fb9f3a\"],[0.8888888888888888,\"#fdca26\"],[1.0,\"#f0f921\"]]}],\"surface\":[{\"type\":\"surface\",\"colorbar\":{\"outlinewidth\":0,\"ticks\":\"\"},\"colorscale\":[[0.0,\"#0d0887\"],[0.1111111111111111,\"#46039f\"],[0.2222222222222222,\"#7201a8\"],[0.3333333333333333,\"#9c179e\"],[0.4444444444444444,\"#bd3786\"],[0.5555555555555556,\"#d8576b\"],[0.6666666666666666,\"#ed7953\"],[0.7777777777777778,\"#fb9f3a\"],[0.8888888888888888,\"#fdca26\"],[1.0,\"#f0f921\"]]}],\"mesh3d\":[{\"type\":\"mesh3d\",\"colorbar\":{\"outlinewidth\":0,\"ticks\":\"\"}}],\"scatter\":[{\"fillpattern\":{\"fillmode\":\"overlay\",\"size\":10,\"solidity\":0.2},\"type\":\"scatter\"}],\"parcoords\":[{\"type\":\"parcoords\",\"line\":{\"colorbar\":{\"outlinewidth\":0,\"ticks\":\"\"}}}],\"scatterpolargl\":[{\"type\":\"scatterpolargl\",\"marker\":{\"colorbar\":{\"outlinewidth\":0,\"ticks\":\"\"}}}],\"bar\":[{\"error_x\":{\"color\":\"#2a3f5f\"},\"error_y\":{\"color\":\"#2a3f5f\"},\"marker\":{\"line\":{\"color\":\"#E5ECF6\",\"width\":0.5},\"pattern\":{\"fillmode\":\"overlay\",\"size\":10,\"solidity\":0.2}},\"type\":\"bar\"}],\"scattergeo\":[{\"type\":\"scattergeo\",\"marker\":{\"colorbar\":{\"outlinewidth\":0,\"ticks\":\"\"}}}],\"scatterpolar\":[{\"type\":\"scatterpolar\",\"marker\":{\"colorbar\":{\"outlinewidth\":0,\"ticks\":\"\"}}}],\"histogram\":[{\"marker\":{\"pattern\":{\"fillmode\":\"overlay\",\"size\":10,\"solidity\":0.2}},\"type\":\"histogram\"}],\"scattergl\":[{\"type\":\"scattergl\",\"marker\":{\"colorbar\":{\"outlinewidth\":0,\"ticks\":\"\"}}}],\"scatter3d\":[{\"type\":\"scatter3d\",\"line\":{\"colorbar\":{\"outlinewidth\":0,\"ticks\":\"\"}},\"marker\":{\"colorbar\":{\"outlinewidth\":0,\"ticks\":\"\"}}}],\"scattermapbox\":[{\"type\":\"scattermapbox\",\"marker\":{\"colorbar\":{\"outlinewidth\":0,\"ticks\":\"\"}}}],\"scatterternary\":[{\"type\":\"scatterternary\",\"marker\":{\"colorbar\":{\"outlinewidth\":0,\"ticks\":\"\"}}}],\"scattercarpet\":[{\"type\":\"scattercarpet\",\"marker\":{\"colorbar\":{\"outlinewidth\":0,\"ticks\":\"\"}}}],\"carpet\":[{\"aaxis\":{\"endlinecolor\":\"#2a3f5f\",\"gridcolor\":\"white\",\"linecolor\":\"white\",\"minorgridcolor\":\"white\",\"startlinecolor\":\"#2a3f5f\"},\"baxis\":{\"endlinecolor\":\"#2a3f5f\",\"gridcolor\":\"white\",\"linecolor\":\"white\",\"minorgridcolor\":\"white\",\"startlinecolor\":\"#2a3f5f\"},\"type\":\"carpet\"}],\"table\":[{\"cells\":{\"fill\":{\"color\":\"#EBF0F8\"},\"line\":{\"color\":\"white\"}},\"header\":{\"fill\":{\"color\":\"#C8D4E3\"},\"line\":{\"color\":\"white\"}},\"type\":\"table\"}],\"barpolar\":[{\"marker\":{\"line\":{\"color\":\"#E5ECF6\",\"width\":0.5},\"pattern\":{\"fillmode\":\"overlay\",\"size\":10,\"solidity\":0.2}},\"type\":\"barpolar\"}],\"pie\":[{\"automargin\":true,\"type\":\"pie\"}]},\"layout\":{\"autotypenumbers\":\"strict\",\"colorway\":[\"#636efa\",\"#EF553B\",\"#00cc96\",\"#ab63fa\",\"#FFA15A\",\"#19d3f3\",\"#FF6692\",\"#B6E880\",\"#FF97FF\",\"#FECB52\"],\"font\":{\"color\":\"#2a3f5f\"},\"hovermode\":\"closest\",\"hoverlabel\":{\"align\":\"left\"},\"paper_bgcolor\":\"white\",\"plot_bgcolor\":\"#E5ECF6\",\"polar\":{\"bgcolor\":\"#E5ECF6\",\"angularaxis\":{\"gridcolor\":\"white\",\"linecolor\":\"white\",\"ticks\":\"\"},\"radialaxis\":{\"gridcolor\":\"white\",\"linecolor\":\"white\",\"ticks\":\"\"}},\"ternary\":{\"bgcolor\":\"#E5ECF6\",\"aaxis\":{\"gridcolor\":\"white\",\"linecolor\":\"white\",\"ticks\":\"\"},\"baxis\":{\"gridcolor\":\"white\",\"linecolor\":\"white\",\"ticks\":\"\"},\"caxis\":{\"gridcolor\":\"white\",\"linecolor\":\"white\",\"ticks\":\"\"}},\"coloraxis\":{\"colorbar\":{\"outlinewidth\":0,\"ticks\":\"\"}},\"colorscale\":{\"sequential\":[[0.0,\"#0d0887\"],[0.1111111111111111,\"#46039f\"],[0.2222222222222222,\"#7201a8\"],[0.3333333333333333,\"#9c179e\"],[0.4444444444444444,\"#bd3786\"],[0.5555555555555556,\"#d8576b\"],[0.6666666666666666,\"#ed7953\"],[0.7777777777777778,\"#fb9f3a\"],[0.8888888888888888,\"#fdca26\"],[1.0,\"#f0f921\"]],\"sequentialminus\":[[0.0,\"#0d0887\"],[0.1111111111111111,\"#46039f\"],[0.2222222222222222,\"#7201a8\"],[0.3333333333333333,\"#9c179e\"],[0.4444444444444444,\"#bd3786\"],[0.5555555555555556,\"#d8576b\"],[0.6666666666666666,\"#ed7953\"],[0.7777777777777778,\"#fb9f3a\"],[0.8888888888888888,\"#fdca26\"],[1.0,\"#f0f921\"]],\"diverging\":[[0,\"#8e0152\"],[0.1,\"#c51b7d\"],[0.2,\"#de77ae\"],[0.3,\"#f1b6da\"],[0.4,\"#fde0ef\"],[0.5,\"#f7f7f7\"],[0.6,\"#e6f5d0\"],[0.7,\"#b8e186\"],[0.8,\"#7fbc41\"],[0.9,\"#4d9221\"],[1,\"#276419\"]]},\"xaxis\":{\"gridcolor\":\"white\",\"linecolor\":\"white\",\"ticks\":\"\",\"title\":{\"standoff\":15},\"zerolinecolor\":\"white\",\"automargin\":true,\"zerolinewidth\":2},\"yaxis\":{\"gridcolor\":\"white\",\"linecolor\":\"white\",\"ticks\":\"\",\"title\":{\"standoff\":15},\"zerolinecolor\":\"white\",\"automargin\":true,\"zerolinewidth\":2},\"scene\":{\"xaxis\":{\"backgroundcolor\":\"#E5ECF6\",\"gridcolor\":\"white\",\"linecolor\":\"white\",\"showbackground\":true,\"ticks\":\"\",\"zerolinecolor\":\"white\",\"gridwidth\":2},\"yaxis\":{\"backgroundcolor\":\"#E5ECF6\",\"gridcolor\":\"white\",\"linecolor\":\"white\",\"showbackground\":true,\"ticks\":\"\",\"zerolinecolor\":\"white\",\"gridwidth\":2},\"zaxis\":{\"backgroundcolor\":\"#E5ECF6\",\"gridcolor\":\"white\",\"linecolor\":\"white\",\"showbackground\":true,\"ticks\":\"\",\"zerolinecolor\":\"white\",\"gridwidth\":2}},\"shapedefaults\":{\"line\":{\"color\":\"#2a3f5f\"}},\"annotationdefaults\":{\"arrowcolor\":\"#2a3f5f\",\"arrowhead\":0,\"arrowwidth\":1},\"geo\":{\"bgcolor\":\"white\",\"landcolor\":\"#E5ECF6\",\"subunitcolor\":\"white\",\"showland\":true,\"showlakes\":true,\"lakecolor\":\"white\"},\"title\":{\"x\":0.05},\"mapbox\":{\"style\":\"light\"}}},\"xaxis\":{\"anchor\":\"y\",\"domain\":[0.0,1.0],\"title\":{\"text\":\"performance_rating\"}},\"yaxis\":{\"anchor\":\"x\",\"domain\":[0.0,1.0],\"title\":{\"text\":\"count\"}},\"legend\":{\"tracegroupgap\":0},\"title\":{\"text\":\"Distribution of Employee Performance Ratings\"},\"barmode\":\"relative\"},                        {\"responsive\": true}                    ).then(function(){\n",
              "                            \n",
              "var gd = document.getElementById('4ea90c88-576d-48c5-8b8b-0dd0581999a3');\n",
              "var x = new MutationObserver(function (mutations, observer) {{\n",
              "        var display = window.getComputedStyle(gd).display;\n",
              "        if (!display || display === 'none') {{\n",
              "            console.log([gd, 'removed!']);\n",
              "            Plotly.purge(gd);\n",
              "            observer.disconnect();\n",
              "        }}\n",
              "}});\n",
              "\n",
              "// Listen for the removal of the full notebook cells\n",
              "var notebookContainer = gd.closest('#notebook-container');\n",
              "if (notebookContainer) {{\n",
              "    x.observe(notebookContainer, {childList: true});\n",
              "}}\n",
              "\n",
              "// Listen for the clearing of the current output cell\n",
              "var outputEl = gd.closest('.output');\n",
              "if (outputEl) {{\n",
              "    x.observe(outputEl, {childList: true});\n",
              "}}\n",
              "\n",
              "                        })                };                            </script>        </div>\n",
              "</body>\n",
              "</html>"
            ]
          },
          "metadata": {}
        }
      ]
    },
    {
      "cell_type": "code",
      "source": [
        "# Department Performance Comparison\n",
        "avg_perf_by_dept_pd = avg_perf_by_dept.to_pandas()\n",
        "\n",
        "fig_bar = px.bar(\n",
        "    avg_perf_by_dept_pd,\n",
        "    x='department',\n",
        "    y='avg_performance',\n",
        "    title='Average Performance Rating by Department',\n",
        "    labels={'department':'Department','avg_performance':'Average Performance Rating'},\n",
        "    color='department',\n",
        "    text='avg_performance'\n",
        ")\n",
        "\n",
        "fig_bar.update_traces(texttemplate='%{text:.1f}',textposition='outside')\n",
        "fig_bar.show()"
      ],
      "metadata": {
        "colab": {
          "base_uri": "https://localhost:8080/",
          "height": 542
        },
        "id": "vjixWDQ91fy4",
        "outputId": "4aaa905d-642a-4327-a12f-4fe0c64d2123"
      },
      "execution_count": 24,
      "outputs": [
        {
          "output_type": "display_data",
          "data": {
            "text/html": [
              "<html>\n",
              "<head><meta charset=\"utf-8\" /></head>\n",
              "<body>\n",
              "    <div>            <script src=\"https://cdnjs.cloudflare.com/ajax/libs/mathjax/2.7.5/MathJax.js?config=TeX-AMS-MML_SVG\"></script><script type=\"text/javascript\">if (window.MathJax && window.MathJax.Hub && window.MathJax.Hub.Config) {window.MathJax.Hub.Config({SVG: {font: \"STIX-Web\"}});}</script>                <script type=\"text/javascript\">window.PlotlyConfig = {MathJaxConfig: 'local'};</script>\n",
              "        <script charset=\"utf-8\" src=\"https://cdn.plot.ly/plotly-2.35.2.min.js\"></script>                <div id=\"871c6f33-b08a-4645-bdc0-c131a77d8177\" class=\"plotly-graph-div\" style=\"height:525px; width:100%;\"></div>            <script type=\"text/javascript\">                                    window.PLOTLYENV=window.PLOTLYENV || {};                                    if (document.getElementById(\"871c6f33-b08a-4645-bdc0-c131a77d8177\")) {                    Plotly.newPlot(                        \"871c6f33-b08a-4645-bdc0-c131a77d8177\",                        [{\"alignmentgroup\":\"True\",\"hovertemplate\":\"Department=%{x}\\u003cbr\\u003eAverage Performance Rating=%{text}\\u003cextra\\u003e\\u003c\\u002fextra\\u003e\",\"legendgroup\":\"Engineering\",\"marker\":{\"color\":\"#636efa\",\"pattern\":{\"shape\":\"\"}},\"name\":\"Engineering\",\"offsetgroup\":\"Engineering\",\"orientation\":\"v\",\"showlegend\":true,\"text\":[3.7],\"textposition\":\"outside\",\"x\":[\"Engineering\"],\"xaxis\":\"x\",\"y\":[3.7],\"yaxis\":\"y\",\"type\":\"bar\",\"texttemplate\":\"%{text:.1f}\"},{\"alignmentgroup\":\"True\",\"hovertemplate\":\"Department=%{x}\\u003cbr\\u003eAverage Performance Rating=%{text}\\u003cextra\\u003e\\u003c\\u002fextra\\u003e\",\"legendgroup\":\"Leadership\",\"marker\":{\"color\":\"#EF553B\",\"pattern\":{\"shape\":\"\"}},\"name\":\"Leadership\",\"offsetgroup\":\"Leadership\",\"orientation\":\"v\",\"showlegend\":true,\"text\":[3.6],\"textposition\":\"outside\",\"x\":[\"Leadership\"],\"xaxis\":\"x\",\"y\":[3.6],\"yaxis\":\"y\",\"type\":\"bar\",\"texttemplate\":\"%{text:.1f}\"},{\"alignmentgroup\":\"True\",\"hovertemplate\":\"Department=%{x}\\u003cbr\\u003eAverage Performance Rating=%{text}\\u003cextra\\u003e\\u003c\\u002fextra\\u003e\",\"legendgroup\":\"Product\",\"marker\":{\"color\":\"#00cc96\",\"pattern\":{\"shape\":\"\"}},\"name\":\"Product\",\"offsetgroup\":\"Product\",\"orientation\":\"v\",\"showlegend\":true,\"text\":[3.5],\"textposition\":\"outside\",\"x\":[\"Product\"],\"xaxis\":\"x\",\"y\":[3.5],\"yaxis\":\"y\",\"type\":\"bar\",\"texttemplate\":\"%{text:.1f}\"},{\"alignmentgroup\":\"True\",\"hovertemplate\":\"Department=%{x}\\u003cbr\\u003eAverage Performance Rating=%{text}\\u003cextra\\u003e\\u003c\\u002fextra\\u003e\",\"legendgroup\":\"HR\",\"marker\":{\"color\":\"#ab63fa\",\"pattern\":{\"shape\":\"\"}},\"name\":\"HR\",\"offsetgroup\":\"HR\",\"orientation\":\"v\",\"showlegend\":true,\"text\":[3.5],\"textposition\":\"outside\",\"x\":[\"HR\"],\"xaxis\":\"x\",\"y\":[3.5],\"yaxis\":\"y\",\"type\":\"bar\",\"texttemplate\":\"%{text:.1f}\"},{\"alignmentgroup\":\"True\",\"hovertemplate\":\"Department=%{x}\\u003cbr\\u003eAverage Performance Rating=%{text}\\u003cextra\\u003e\\u003c\\u002fextra\\u003e\",\"legendgroup\":\"Marketing\",\"marker\":{\"color\":\"#FFA15A\",\"pattern\":{\"shape\":\"\"}},\"name\":\"Marketing\",\"offsetgroup\":\"Marketing\",\"orientation\":\"v\",\"showlegend\":true,\"text\":[3.5],\"textposition\":\"outside\",\"x\":[\"Marketing\"],\"xaxis\":\"x\",\"y\":[3.5],\"yaxis\":\"y\",\"type\":\"bar\",\"texttemplate\":\"%{text:.1f}\"},{\"alignmentgroup\":\"True\",\"hovertemplate\":\"Department=%{x}\\u003cbr\\u003eAverage Performance Rating=%{text}\\u003cextra\\u003e\\u003c\\u002fextra\\u003e\",\"legendgroup\":\"Data\",\"marker\":{\"color\":\"#19d3f3\",\"pattern\":{\"shape\":\"\"}},\"name\":\"Data\",\"offsetgroup\":\"Data\",\"orientation\":\"v\",\"showlegend\":true,\"text\":[3.4],\"textposition\":\"outside\",\"x\":[\"Data\"],\"xaxis\":\"x\",\"y\":[3.4],\"yaxis\":\"y\",\"type\":\"bar\",\"texttemplate\":\"%{text:.1f}\"},{\"alignmentgroup\":\"True\",\"hovertemplate\":\"Department=%{x}\\u003cbr\\u003eAverage Performance Rating=%{text}\\u003cextra\\u003e\\u003c\\u002fextra\\u003e\",\"legendgroup\":\"Sales\",\"marker\":{\"color\":\"#FF6692\",\"pattern\":{\"shape\":\"\"}},\"name\":\"Sales\",\"offsetgroup\":\"Sales\",\"orientation\":\"v\",\"showlegend\":true,\"text\":[3.3],\"textposition\":\"outside\",\"x\":[\"Sales\"],\"xaxis\":\"x\",\"y\":[3.3],\"yaxis\":\"y\",\"type\":\"bar\",\"texttemplate\":\"%{text:.1f}\"}],                        {\"template\":{\"data\":{\"histogram2dcontour\":[{\"type\":\"histogram2dcontour\",\"colorbar\":{\"outlinewidth\":0,\"ticks\":\"\"},\"colorscale\":[[0.0,\"#0d0887\"],[0.1111111111111111,\"#46039f\"],[0.2222222222222222,\"#7201a8\"],[0.3333333333333333,\"#9c179e\"],[0.4444444444444444,\"#bd3786\"],[0.5555555555555556,\"#d8576b\"],[0.6666666666666666,\"#ed7953\"],[0.7777777777777778,\"#fb9f3a\"],[0.8888888888888888,\"#fdca26\"],[1.0,\"#f0f921\"]]}],\"choropleth\":[{\"type\":\"choropleth\",\"colorbar\":{\"outlinewidth\":0,\"ticks\":\"\"}}],\"histogram2d\":[{\"type\":\"histogram2d\",\"colorbar\":{\"outlinewidth\":0,\"ticks\":\"\"},\"colorscale\":[[0.0,\"#0d0887\"],[0.1111111111111111,\"#46039f\"],[0.2222222222222222,\"#7201a8\"],[0.3333333333333333,\"#9c179e\"],[0.4444444444444444,\"#bd3786\"],[0.5555555555555556,\"#d8576b\"],[0.6666666666666666,\"#ed7953\"],[0.7777777777777778,\"#fb9f3a\"],[0.8888888888888888,\"#fdca26\"],[1.0,\"#f0f921\"]]}],\"heatmap\":[{\"type\":\"heatmap\",\"colorbar\":{\"outlinewidth\":0,\"ticks\":\"\"},\"colorscale\":[[0.0,\"#0d0887\"],[0.1111111111111111,\"#46039f\"],[0.2222222222222222,\"#7201a8\"],[0.3333333333333333,\"#9c179e\"],[0.4444444444444444,\"#bd3786\"],[0.5555555555555556,\"#d8576b\"],[0.6666666666666666,\"#ed7953\"],[0.7777777777777778,\"#fb9f3a\"],[0.8888888888888888,\"#fdca26\"],[1.0,\"#f0f921\"]]}],\"heatmapgl\":[{\"type\":\"heatmapgl\",\"colorbar\":{\"outlinewidth\":0,\"ticks\":\"\"},\"colorscale\":[[0.0,\"#0d0887\"],[0.1111111111111111,\"#46039f\"],[0.2222222222222222,\"#7201a8\"],[0.3333333333333333,\"#9c179e\"],[0.4444444444444444,\"#bd3786\"],[0.5555555555555556,\"#d8576b\"],[0.6666666666666666,\"#ed7953\"],[0.7777777777777778,\"#fb9f3a\"],[0.8888888888888888,\"#fdca26\"],[1.0,\"#f0f921\"]]}],\"contourcarpet\":[{\"type\":\"contourcarpet\",\"colorbar\":{\"outlinewidth\":0,\"ticks\":\"\"}}],\"contour\":[{\"type\":\"contour\",\"colorbar\":{\"outlinewidth\":0,\"ticks\":\"\"},\"colorscale\":[[0.0,\"#0d0887\"],[0.1111111111111111,\"#46039f\"],[0.2222222222222222,\"#7201a8\"],[0.3333333333333333,\"#9c179e\"],[0.4444444444444444,\"#bd3786\"],[0.5555555555555556,\"#d8576b\"],[0.6666666666666666,\"#ed7953\"],[0.7777777777777778,\"#fb9f3a\"],[0.8888888888888888,\"#fdca26\"],[1.0,\"#f0f921\"]]}],\"surface\":[{\"type\":\"surface\",\"colorbar\":{\"outlinewidth\":0,\"ticks\":\"\"},\"colorscale\":[[0.0,\"#0d0887\"],[0.1111111111111111,\"#46039f\"],[0.2222222222222222,\"#7201a8\"],[0.3333333333333333,\"#9c179e\"],[0.4444444444444444,\"#bd3786\"],[0.5555555555555556,\"#d8576b\"],[0.6666666666666666,\"#ed7953\"],[0.7777777777777778,\"#fb9f3a\"],[0.8888888888888888,\"#fdca26\"],[1.0,\"#f0f921\"]]}],\"mesh3d\":[{\"type\":\"mesh3d\",\"colorbar\":{\"outlinewidth\":0,\"ticks\":\"\"}}],\"scatter\":[{\"fillpattern\":{\"fillmode\":\"overlay\",\"size\":10,\"solidity\":0.2},\"type\":\"scatter\"}],\"parcoords\":[{\"type\":\"parcoords\",\"line\":{\"colorbar\":{\"outlinewidth\":0,\"ticks\":\"\"}}}],\"scatterpolargl\":[{\"type\":\"scatterpolargl\",\"marker\":{\"colorbar\":{\"outlinewidth\":0,\"ticks\":\"\"}}}],\"bar\":[{\"error_x\":{\"color\":\"#2a3f5f\"},\"error_y\":{\"color\":\"#2a3f5f\"},\"marker\":{\"line\":{\"color\":\"#E5ECF6\",\"width\":0.5},\"pattern\":{\"fillmode\":\"overlay\",\"size\":10,\"solidity\":0.2}},\"type\":\"bar\"}],\"scattergeo\":[{\"type\":\"scattergeo\",\"marker\":{\"colorbar\":{\"outlinewidth\":0,\"ticks\":\"\"}}}],\"scatterpolar\":[{\"type\":\"scatterpolar\",\"marker\":{\"colorbar\":{\"outlinewidth\":0,\"ticks\":\"\"}}}],\"histogram\":[{\"marker\":{\"pattern\":{\"fillmode\":\"overlay\",\"size\":10,\"solidity\":0.2}},\"type\":\"histogram\"}],\"scattergl\":[{\"type\":\"scattergl\",\"marker\":{\"colorbar\":{\"outlinewidth\":0,\"ticks\":\"\"}}}],\"scatter3d\":[{\"type\":\"scatter3d\",\"line\":{\"colorbar\":{\"outlinewidth\":0,\"ticks\":\"\"}},\"marker\":{\"colorbar\":{\"outlinewidth\":0,\"ticks\":\"\"}}}],\"scattermapbox\":[{\"type\":\"scattermapbox\",\"marker\":{\"colorbar\":{\"outlinewidth\":0,\"ticks\":\"\"}}}],\"scatterternary\":[{\"type\":\"scatterternary\",\"marker\":{\"colorbar\":{\"outlinewidth\":0,\"ticks\":\"\"}}}],\"scattercarpet\":[{\"type\":\"scattercarpet\",\"marker\":{\"colorbar\":{\"outlinewidth\":0,\"ticks\":\"\"}}}],\"carpet\":[{\"aaxis\":{\"endlinecolor\":\"#2a3f5f\",\"gridcolor\":\"white\",\"linecolor\":\"white\",\"minorgridcolor\":\"white\",\"startlinecolor\":\"#2a3f5f\"},\"baxis\":{\"endlinecolor\":\"#2a3f5f\",\"gridcolor\":\"white\",\"linecolor\":\"white\",\"minorgridcolor\":\"white\",\"startlinecolor\":\"#2a3f5f\"},\"type\":\"carpet\"}],\"table\":[{\"cells\":{\"fill\":{\"color\":\"#EBF0F8\"},\"line\":{\"color\":\"white\"}},\"header\":{\"fill\":{\"color\":\"#C8D4E3\"},\"line\":{\"color\":\"white\"}},\"type\":\"table\"}],\"barpolar\":[{\"marker\":{\"line\":{\"color\":\"#E5ECF6\",\"width\":0.5},\"pattern\":{\"fillmode\":\"overlay\",\"size\":10,\"solidity\":0.2}},\"type\":\"barpolar\"}],\"pie\":[{\"automargin\":true,\"type\":\"pie\"}]},\"layout\":{\"autotypenumbers\":\"strict\",\"colorway\":[\"#636efa\",\"#EF553B\",\"#00cc96\",\"#ab63fa\",\"#FFA15A\",\"#19d3f3\",\"#FF6692\",\"#B6E880\",\"#FF97FF\",\"#FECB52\"],\"font\":{\"color\":\"#2a3f5f\"},\"hovermode\":\"closest\",\"hoverlabel\":{\"align\":\"left\"},\"paper_bgcolor\":\"white\",\"plot_bgcolor\":\"#E5ECF6\",\"polar\":{\"bgcolor\":\"#E5ECF6\",\"angularaxis\":{\"gridcolor\":\"white\",\"linecolor\":\"white\",\"ticks\":\"\"},\"radialaxis\":{\"gridcolor\":\"white\",\"linecolor\":\"white\",\"ticks\":\"\"}},\"ternary\":{\"bgcolor\":\"#E5ECF6\",\"aaxis\":{\"gridcolor\":\"white\",\"linecolor\":\"white\",\"ticks\":\"\"},\"baxis\":{\"gridcolor\":\"white\",\"linecolor\":\"white\",\"ticks\":\"\"},\"caxis\":{\"gridcolor\":\"white\",\"linecolor\":\"white\",\"ticks\":\"\"}},\"coloraxis\":{\"colorbar\":{\"outlinewidth\":0,\"ticks\":\"\"}},\"colorscale\":{\"sequential\":[[0.0,\"#0d0887\"],[0.1111111111111111,\"#46039f\"],[0.2222222222222222,\"#7201a8\"],[0.3333333333333333,\"#9c179e\"],[0.4444444444444444,\"#bd3786\"],[0.5555555555555556,\"#d8576b\"],[0.6666666666666666,\"#ed7953\"],[0.7777777777777778,\"#fb9f3a\"],[0.8888888888888888,\"#fdca26\"],[1.0,\"#f0f921\"]],\"sequentialminus\":[[0.0,\"#0d0887\"],[0.1111111111111111,\"#46039f\"],[0.2222222222222222,\"#7201a8\"],[0.3333333333333333,\"#9c179e\"],[0.4444444444444444,\"#bd3786\"],[0.5555555555555556,\"#d8576b\"],[0.6666666666666666,\"#ed7953\"],[0.7777777777777778,\"#fb9f3a\"],[0.8888888888888888,\"#fdca26\"],[1.0,\"#f0f921\"]],\"diverging\":[[0,\"#8e0152\"],[0.1,\"#c51b7d\"],[0.2,\"#de77ae\"],[0.3,\"#f1b6da\"],[0.4,\"#fde0ef\"],[0.5,\"#f7f7f7\"],[0.6,\"#e6f5d0\"],[0.7,\"#b8e186\"],[0.8,\"#7fbc41\"],[0.9,\"#4d9221\"],[1,\"#276419\"]]},\"xaxis\":{\"gridcolor\":\"white\",\"linecolor\":\"white\",\"ticks\":\"\",\"title\":{\"standoff\":15},\"zerolinecolor\":\"white\",\"automargin\":true,\"zerolinewidth\":2},\"yaxis\":{\"gridcolor\":\"white\",\"linecolor\":\"white\",\"ticks\":\"\",\"title\":{\"standoff\":15},\"zerolinecolor\":\"white\",\"automargin\":true,\"zerolinewidth\":2},\"scene\":{\"xaxis\":{\"backgroundcolor\":\"#E5ECF6\",\"gridcolor\":\"white\",\"linecolor\":\"white\",\"showbackground\":true,\"ticks\":\"\",\"zerolinecolor\":\"white\",\"gridwidth\":2},\"yaxis\":{\"backgroundcolor\":\"#E5ECF6\",\"gridcolor\":\"white\",\"linecolor\":\"white\",\"showbackground\":true,\"ticks\":\"\",\"zerolinecolor\":\"white\",\"gridwidth\":2},\"zaxis\":{\"backgroundcolor\":\"#E5ECF6\",\"gridcolor\":\"white\",\"linecolor\":\"white\",\"showbackground\":true,\"ticks\":\"\",\"zerolinecolor\":\"white\",\"gridwidth\":2}},\"shapedefaults\":{\"line\":{\"color\":\"#2a3f5f\"}},\"annotationdefaults\":{\"arrowcolor\":\"#2a3f5f\",\"arrowhead\":0,\"arrowwidth\":1},\"geo\":{\"bgcolor\":\"white\",\"landcolor\":\"#E5ECF6\",\"subunitcolor\":\"white\",\"showland\":true,\"showlakes\":true,\"lakecolor\":\"white\"},\"title\":{\"x\":0.05},\"mapbox\":{\"style\":\"light\"}}},\"xaxis\":{\"anchor\":\"y\",\"domain\":[0.0,1.0],\"title\":{\"text\":\"Department\"},\"categoryorder\":\"array\",\"categoryarray\":[\"Engineering\",\"Leadership\",\"Product\",\"HR\",\"Marketing\",\"Data\",\"Sales\"]},\"yaxis\":{\"anchor\":\"x\",\"domain\":[0.0,1.0],\"title\":{\"text\":\"Average Performance Rating\"}},\"legend\":{\"title\":{\"text\":\"Department\"},\"tracegroupgap\":0},\"title\":{\"text\":\"Average Performance Rating by Department\"},\"barmode\":\"relative\"},                        {\"responsive\": true}                    ).then(function(){\n",
              "                            \n",
              "var gd = document.getElementById('871c6f33-b08a-4645-bdc0-c131a77d8177');\n",
              "var x = new MutationObserver(function (mutations, observer) {{\n",
              "        var display = window.getComputedStyle(gd).display;\n",
              "        if (!display || display === 'none') {{\n",
              "            console.log([gd, 'removed!']);\n",
              "            Plotly.purge(gd);\n",
              "            observer.disconnect();\n",
              "        }}\n",
              "}});\n",
              "\n",
              "// Listen for the removal of the full notebook cells\n",
              "var notebookContainer = gd.closest('#notebook-container');\n",
              "if (notebookContainer) {{\n",
              "    x.observe(notebookContainer, {childList: true});\n",
              "}}\n",
              "\n",
              "// Listen for the clearing of the current output cell\n",
              "var outputEl = gd.closest('.output');\n",
              "if (outputEl) {{\n",
              "    x.observe(outputEl, {childList: true});\n",
              "}}\n",
              "\n",
              "                        })                };                            </script>        </div>\n",
              "</body>\n",
              "</html>"
            ]
          },
          "metadata": {}
        }
      ]
    },
    {
      "cell_type": "code",
      "source": [
        "# Job Level Performance Comparison\n",
        "avg_perf_by_job_level_pd = avg_perf_by_job_level.to_pandas()\n",
        "\n",
        "fig_bar_2 = px.bar(\n",
        "   avg_perf_by_job_level_pd,\n",
        "    x='job_level',\n",
        "    y='avg_performance_job_level',\n",
        "    title= 'Average Performance Rating by Job Level',\n",
        "    labels= {'job_level':'Job Level','avg_performance_job_level':'Average Performance Rating'},\n",
        "    color='job_level',\n",
        "    text='avg_performance_job_level'\n",
        "\n",
        ")\n",
        "\n",
        "fig_bar_2.update_traces(texttemplate='%{text:.1f}',textposition='inside')\n",
        "fig_bar_2.show()"
      ],
      "metadata": {
        "colab": {
          "base_uri": "https://localhost:8080/",
          "height": 542
        },
        "id": "9KX26xU62ZIf",
        "outputId": "bc9eed25-2868-406c-bfcf-e8f58adff16e"
      },
      "execution_count": 26,
      "outputs": [
        {
          "output_type": "display_data",
          "data": {
            "text/html": [
              "<html>\n",
              "<head><meta charset=\"utf-8\" /></head>\n",
              "<body>\n",
              "    <div>            <script src=\"https://cdnjs.cloudflare.com/ajax/libs/mathjax/2.7.5/MathJax.js?config=TeX-AMS-MML_SVG\"></script><script type=\"text/javascript\">if (window.MathJax && window.MathJax.Hub && window.MathJax.Hub.Config) {window.MathJax.Hub.Config({SVG: {font: \"STIX-Web\"}});}</script>                <script type=\"text/javascript\">window.PlotlyConfig = {MathJaxConfig: 'local'};</script>\n",
              "        <script charset=\"utf-8\" src=\"https://cdn.plot.ly/plotly-2.35.2.min.js\"></script>                <div id=\"410d1206-a260-4a82-b157-17bee94b50eb\" class=\"plotly-graph-div\" style=\"height:525px; width:100%;\"></div>            <script type=\"text/javascript\">                                    window.PLOTLYENV=window.PLOTLYENV || {};                                    if (document.getElementById(\"410d1206-a260-4a82-b157-17bee94b50eb\")) {                    Plotly.newPlot(                        \"410d1206-a260-4a82-b157-17bee94b50eb\",                        [{\"alignmentgroup\":\"True\",\"hovertemplate\":\"Job Level=%{x}\\u003cbr\\u003eAverage Performance Rating=%{text}\\u003cextra\\u003e\\u003c\\u002fextra\\u003e\",\"legendgroup\":\"T1\",\"marker\":{\"color\":\"#636efa\",\"pattern\":{\"shape\":\"\"}},\"name\":\"T1\",\"offsetgroup\":\"T1\",\"orientation\":\"v\",\"showlegend\":true,\"text\":[3.6],\"textposition\":\"inside\",\"x\":[\"T1\"],\"xaxis\":\"x\",\"y\":[3.6],\"yaxis\":\"y\",\"type\":\"bar\",\"texttemplate\":\"%{text:.1f}\"},{\"alignmentgroup\":\"True\",\"hovertemplate\":\"Job Level=%{x}\\u003cbr\\u003eAverage Performance Rating=%{text}\\u003cextra\\u003e\\u003c\\u002fextra\\u003e\",\"legendgroup\":\"T2\",\"marker\":{\"color\":\"#EF553B\",\"pattern\":{\"shape\":\"\"}},\"name\":\"T2\",\"offsetgroup\":\"T2\",\"orientation\":\"v\",\"showlegend\":true,\"text\":[3.5],\"textposition\":\"inside\",\"x\":[\"T2\"],\"xaxis\":\"x\",\"y\":[3.5],\"yaxis\":\"y\",\"type\":\"bar\",\"texttemplate\":\"%{text:.1f}\"},{\"alignmentgroup\":\"True\",\"hovertemplate\":\"Job Level=%{x}\\u003cbr\\u003eAverage Performance Rating=%{text}\\u003cextra\\u003e\\u003c\\u002fextra\\u003e\",\"legendgroup\":\"T5\",\"marker\":{\"color\":\"#00cc96\",\"pattern\":{\"shape\":\"\"}},\"name\":\"T5\",\"offsetgroup\":\"T5\",\"orientation\":\"v\",\"showlegend\":true,\"text\":[3.5],\"textposition\":\"inside\",\"x\":[\"T5\"],\"xaxis\":\"x\",\"y\":[3.5],\"yaxis\":\"y\",\"type\":\"bar\",\"texttemplate\":\"%{text:.1f}\"},{\"alignmentgroup\":\"True\",\"hovertemplate\":\"Job Level=%{x}\\u003cbr\\u003eAverage Performance Rating=%{text}\\u003cextra\\u003e\\u003c\\u002fextra\\u003e\",\"legendgroup\":\"T3\",\"marker\":{\"color\":\"#ab63fa\",\"pattern\":{\"shape\":\"\"}},\"name\":\"T3\",\"offsetgroup\":\"T3\",\"orientation\":\"v\",\"showlegend\":true,\"text\":[3.5],\"textposition\":\"inside\",\"x\":[\"T3\"],\"xaxis\":\"x\",\"y\":[3.5],\"yaxis\":\"y\",\"type\":\"bar\",\"texttemplate\":\"%{text:.1f}\"},{\"alignmentgroup\":\"True\",\"hovertemplate\":\"Job Level=%{x}\\u003cbr\\u003eAverage Performance Rating=%{text}\\u003cextra\\u003e\\u003c\\u002fextra\\u003e\",\"legendgroup\":\"T4\",\"marker\":{\"color\":\"#FFA15A\",\"pattern\":{\"shape\":\"\"}},\"name\":\"T4\",\"offsetgroup\":\"T4\",\"orientation\":\"v\",\"showlegend\":true,\"text\":[3.4],\"textposition\":\"inside\",\"x\":[\"T4\"],\"xaxis\":\"x\",\"y\":[3.4],\"yaxis\":\"y\",\"type\":\"bar\",\"texttemplate\":\"%{text:.1f}\"}],                        {\"template\":{\"data\":{\"histogram2dcontour\":[{\"type\":\"histogram2dcontour\",\"colorbar\":{\"outlinewidth\":0,\"ticks\":\"\"},\"colorscale\":[[0.0,\"#0d0887\"],[0.1111111111111111,\"#46039f\"],[0.2222222222222222,\"#7201a8\"],[0.3333333333333333,\"#9c179e\"],[0.4444444444444444,\"#bd3786\"],[0.5555555555555556,\"#d8576b\"],[0.6666666666666666,\"#ed7953\"],[0.7777777777777778,\"#fb9f3a\"],[0.8888888888888888,\"#fdca26\"],[1.0,\"#f0f921\"]]}],\"choropleth\":[{\"type\":\"choropleth\",\"colorbar\":{\"outlinewidth\":0,\"ticks\":\"\"}}],\"histogram2d\":[{\"type\":\"histogram2d\",\"colorbar\":{\"outlinewidth\":0,\"ticks\":\"\"},\"colorscale\":[[0.0,\"#0d0887\"],[0.1111111111111111,\"#46039f\"],[0.2222222222222222,\"#7201a8\"],[0.3333333333333333,\"#9c179e\"],[0.4444444444444444,\"#bd3786\"],[0.5555555555555556,\"#d8576b\"],[0.6666666666666666,\"#ed7953\"],[0.7777777777777778,\"#fb9f3a\"],[0.8888888888888888,\"#fdca26\"],[1.0,\"#f0f921\"]]}],\"heatmap\":[{\"type\":\"heatmap\",\"colorbar\":{\"outlinewidth\":0,\"ticks\":\"\"},\"colorscale\":[[0.0,\"#0d0887\"],[0.1111111111111111,\"#46039f\"],[0.2222222222222222,\"#7201a8\"],[0.3333333333333333,\"#9c179e\"],[0.4444444444444444,\"#bd3786\"],[0.5555555555555556,\"#d8576b\"],[0.6666666666666666,\"#ed7953\"],[0.7777777777777778,\"#fb9f3a\"],[0.8888888888888888,\"#fdca26\"],[1.0,\"#f0f921\"]]}],\"heatmapgl\":[{\"type\":\"heatmapgl\",\"colorbar\":{\"outlinewidth\":0,\"ticks\":\"\"},\"colorscale\":[[0.0,\"#0d0887\"],[0.1111111111111111,\"#46039f\"],[0.2222222222222222,\"#7201a8\"],[0.3333333333333333,\"#9c179e\"],[0.4444444444444444,\"#bd3786\"],[0.5555555555555556,\"#d8576b\"],[0.6666666666666666,\"#ed7953\"],[0.7777777777777778,\"#fb9f3a\"],[0.8888888888888888,\"#fdca26\"],[1.0,\"#f0f921\"]]}],\"contourcarpet\":[{\"type\":\"contourcarpet\",\"colorbar\":{\"outlinewidth\":0,\"ticks\":\"\"}}],\"contour\":[{\"type\":\"contour\",\"colorbar\":{\"outlinewidth\":0,\"ticks\":\"\"},\"colorscale\":[[0.0,\"#0d0887\"],[0.1111111111111111,\"#46039f\"],[0.2222222222222222,\"#7201a8\"],[0.3333333333333333,\"#9c179e\"],[0.4444444444444444,\"#bd3786\"],[0.5555555555555556,\"#d8576b\"],[0.6666666666666666,\"#ed7953\"],[0.7777777777777778,\"#fb9f3a\"],[0.8888888888888888,\"#fdca26\"],[1.0,\"#f0f921\"]]}],\"surface\":[{\"type\":\"surface\",\"colorbar\":{\"outlinewidth\":0,\"ticks\":\"\"},\"colorscale\":[[0.0,\"#0d0887\"],[0.1111111111111111,\"#46039f\"],[0.2222222222222222,\"#7201a8\"],[0.3333333333333333,\"#9c179e\"],[0.4444444444444444,\"#bd3786\"],[0.5555555555555556,\"#d8576b\"],[0.6666666666666666,\"#ed7953\"],[0.7777777777777778,\"#fb9f3a\"],[0.8888888888888888,\"#fdca26\"],[1.0,\"#f0f921\"]]}],\"mesh3d\":[{\"type\":\"mesh3d\",\"colorbar\":{\"outlinewidth\":0,\"ticks\":\"\"}}],\"scatter\":[{\"fillpattern\":{\"fillmode\":\"overlay\",\"size\":10,\"solidity\":0.2},\"type\":\"scatter\"}],\"parcoords\":[{\"type\":\"parcoords\",\"line\":{\"colorbar\":{\"outlinewidth\":0,\"ticks\":\"\"}}}],\"scatterpolargl\":[{\"type\":\"scatterpolargl\",\"marker\":{\"colorbar\":{\"outlinewidth\":0,\"ticks\":\"\"}}}],\"bar\":[{\"error_x\":{\"color\":\"#2a3f5f\"},\"error_y\":{\"color\":\"#2a3f5f\"},\"marker\":{\"line\":{\"color\":\"#E5ECF6\",\"width\":0.5},\"pattern\":{\"fillmode\":\"overlay\",\"size\":10,\"solidity\":0.2}},\"type\":\"bar\"}],\"scattergeo\":[{\"type\":\"scattergeo\",\"marker\":{\"colorbar\":{\"outlinewidth\":0,\"ticks\":\"\"}}}],\"scatterpolar\":[{\"type\":\"scatterpolar\",\"marker\":{\"colorbar\":{\"outlinewidth\":0,\"ticks\":\"\"}}}],\"histogram\":[{\"marker\":{\"pattern\":{\"fillmode\":\"overlay\",\"size\":10,\"solidity\":0.2}},\"type\":\"histogram\"}],\"scattergl\":[{\"type\":\"scattergl\",\"marker\":{\"colorbar\":{\"outlinewidth\":0,\"ticks\":\"\"}}}],\"scatter3d\":[{\"type\":\"scatter3d\",\"line\":{\"colorbar\":{\"outlinewidth\":0,\"ticks\":\"\"}},\"marker\":{\"colorbar\":{\"outlinewidth\":0,\"ticks\":\"\"}}}],\"scattermapbox\":[{\"type\":\"scattermapbox\",\"marker\":{\"colorbar\":{\"outlinewidth\":0,\"ticks\":\"\"}}}],\"scatterternary\":[{\"type\":\"scatterternary\",\"marker\":{\"colorbar\":{\"outlinewidth\":0,\"ticks\":\"\"}}}],\"scattercarpet\":[{\"type\":\"scattercarpet\",\"marker\":{\"colorbar\":{\"outlinewidth\":0,\"ticks\":\"\"}}}],\"carpet\":[{\"aaxis\":{\"endlinecolor\":\"#2a3f5f\",\"gridcolor\":\"white\",\"linecolor\":\"white\",\"minorgridcolor\":\"white\",\"startlinecolor\":\"#2a3f5f\"},\"baxis\":{\"endlinecolor\":\"#2a3f5f\",\"gridcolor\":\"white\",\"linecolor\":\"white\",\"minorgridcolor\":\"white\",\"startlinecolor\":\"#2a3f5f\"},\"type\":\"carpet\"}],\"table\":[{\"cells\":{\"fill\":{\"color\":\"#EBF0F8\"},\"line\":{\"color\":\"white\"}},\"header\":{\"fill\":{\"color\":\"#C8D4E3\"},\"line\":{\"color\":\"white\"}},\"type\":\"table\"}],\"barpolar\":[{\"marker\":{\"line\":{\"color\":\"#E5ECF6\",\"width\":0.5},\"pattern\":{\"fillmode\":\"overlay\",\"size\":10,\"solidity\":0.2}},\"type\":\"barpolar\"}],\"pie\":[{\"automargin\":true,\"type\":\"pie\"}]},\"layout\":{\"autotypenumbers\":\"strict\",\"colorway\":[\"#636efa\",\"#EF553B\",\"#00cc96\",\"#ab63fa\",\"#FFA15A\",\"#19d3f3\",\"#FF6692\",\"#B6E880\",\"#FF97FF\",\"#FECB52\"],\"font\":{\"color\":\"#2a3f5f\"},\"hovermode\":\"closest\",\"hoverlabel\":{\"align\":\"left\"},\"paper_bgcolor\":\"white\",\"plot_bgcolor\":\"#E5ECF6\",\"polar\":{\"bgcolor\":\"#E5ECF6\",\"angularaxis\":{\"gridcolor\":\"white\",\"linecolor\":\"white\",\"ticks\":\"\"},\"radialaxis\":{\"gridcolor\":\"white\",\"linecolor\":\"white\",\"ticks\":\"\"}},\"ternary\":{\"bgcolor\":\"#E5ECF6\",\"aaxis\":{\"gridcolor\":\"white\",\"linecolor\":\"white\",\"ticks\":\"\"},\"baxis\":{\"gridcolor\":\"white\",\"linecolor\":\"white\",\"ticks\":\"\"},\"caxis\":{\"gridcolor\":\"white\",\"linecolor\":\"white\",\"ticks\":\"\"}},\"coloraxis\":{\"colorbar\":{\"outlinewidth\":0,\"ticks\":\"\"}},\"colorscale\":{\"sequential\":[[0.0,\"#0d0887\"],[0.1111111111111111,\"#46039f\"],[0.2222222222222222,\"#7201a8\"],[0.3333333333333333,\"#9c179e\"],[0.4444444444444444,\"#bd3786\"],[0.5555555555555556,\"#d8576b\"],[0.6666666666666666,\"#ed7953\"],[0.7777777777777778,\"#fb9f3a\"],[0.8888888888888888,\"#fdca26\"],[1.0,\"#f0f921\"]],\"sequentialminus\":[[0.0,\"#0d0887\"],[0.1111111111111111,\"#46039f\"],[0.2222222222222222,\"#7201a8\"],[0.3333333333333333,\"#9c179e\"],[0.4444444444444444,\"#bd3786\"],[0.5555555555555556,\"#d8576b\"],[0.6666666666666666,\"#ed7953\"],[0.7777777777777778,\"#fb9f3a\"],[0.8888888888888888,\"#fdca26\"],[1.0,\"#f0f921\"]],\"diverging\":[[0,\"#8e0152\"],[0.1,\"#c51b7d\"],[0.2,\"#de77ae\"],[0.3,\"#f1b6da\"],[0.4,\"#fde0ef\"],[0.5,\"#f7f7f7\"],[0.6,\"#e6f5d0\"],[0.7,\"#b8e186\"],[0.8,\"#7fbc41\"],[0.9,\"#4d9221\"],[1,\"#276419\"]]},\"xaxis\":{\"gridcolor\":\"white\",\"linecolor\":\"white\",\"ticks\":\"\",\"title\":{\"standoff\":15},\"zerolinecolor\":\"white\",\"automargin\":true,\"zerolinewidth\":2},\"yaxis\":{\"gridcolor\":\"white\",\"linecolor\":\"white\",\"ticks\":\"\",\"title\":{\"standoff\":15},\"zerolinecolor\":\"white\",\"automargin\":true,\"zerolinewidth\":2},\"scene\":{\"xaxis\":{\"backgroundcolor\":\"#E5ECF6\",\"gridcolor\":\"white\",\"linecolor\":\"white\",\"showbackground\":true,\"ticks\":\"\",\"zerolinecolor\":\"white\",\"gridwidth\":2},\"yaxis\":{\"backgroundcolor\":\"#E5ECF6\",\"gridcolor\":\"white\",\"linecolor\":\"white\",\"showbackground\":true,\"ticks\":\"\",\"zerolinecolor\":\"white\",\"gridwidth\":2},\"zaxis\":{\"backgroundcolor\":\"#E5ECF6\",\"gridcolor\":\"white\",\"linecolor\":\"white\",\"showbackground\":true,\"ticks\":\"\",\"zerolinecolor\":\"white\",\"gridwidth\":2}},\"shapedefaults\":{\"line\":{\"color\":\"#2a3f5f\"}},\"annotationdefaults\":{\"arrowcolor\":\"#2a3f5f\",\"arrowhead\":0,\"arrowwidth\":1},\"geo\":{\"bgcolor\":\"white\",\"landcolor\":\"#E5ECF6\",\"subunitcolor\":\"white\",\"showland\":true,\"showlakes\":true,\"lakecolor\":\"white\"},\"title\":{\"x\":0.05},\"mapbox\":{\"style\":\"light\"}}},\"xaxis\":{\"anchor\":\"y\",\"domain\":[0.0,1.0],\"title\":{\"text\":\"Job Level\"},\"categoryorder\":\"array\",\"categoryarray\":[\"T1\",\"T2\",\"T5\",\"T3\",\"T4\"]},\"yaxis\":{\"anchor\":\"x\",\"domain\":[0.0,1.0],\"title\":{\"text\":\"Average Performance Rating\"}},\"legend\":{\"title\":{\"text\":\"Job Level\"},\"tracegroupgap\":0},\"title\":{\"text\":\"Average Performance Rating by Job Level\"},\"barmode\":\"relative\"},                        {\"responsive\": true}                    ).then(function(){\n",
              "                            \n",
              "var gd = document.getElementById('410d1206-a260-4a82-b157-17bee94b50eb');\n",
              "var x = new MutationObserver(function (mutations, observer) {{\n",
              "        var display = window.getComputedStyle(gd).display;\n",
              "        if (!display || display === 'none') {{\n",
              "            console.log([gd, 'removed!']);\n",
              "            Plotly.purge(gd);\n",
              "            observer.disconnect();\n",
              "        }}\n",
              "}});\n",
              "\n",
              "// Listen for the removal of the full notebook cells\n",
              "var notebookContainer = gd.closest('#notebook-container');\n",
              "if (notebookContainer) {{\n",
              "    x.observe(notebookContainer, {childList: true});\n",
              "}}\n",
              "\n",
              "// Listen for the clearing of the current output cell\n",
              "var outputEl = gd.closest('.output');\n",
              "if (outputEl) {{\n",
              "    x.observe(outputEl, {childList: true});\n",
              "}}\n",
              "\n",
              "                        })                };                            </script>        </div>\n",
              "</body>\n",
              "</html>"
            ]
          },
          "metadata": {}
        }
      ]
    },
    {
      "cell_type": "code",
      "source": [
        "# Tenure vs Performance\n",
        "fig_scatter = px.scatter(\n",
        "    df_performance_viz,\n",
        "    x='tenure_months',\n",
        "    y='performance_rating',\n",
        "    color='job_level',\n",
        "    title='Tenure vs Performance Rating by Job Level',\n",
        "    labels={'tenure_months':'Tenure (Months)','performance_rating':'Performance Rating'}\n",
        "\n",
        ")\n",
        "fig_scatter.show()"
      ],
      "metadata": {
        "colab": {
          "base_uri": "https://localhost:8080/",
          "height": 542
        },
        "id": "zgkHOB1K30Cu",
        "outputId": "5ae33d45-caa8-4257-df3d-b1f032f65f62"
      },
      "execution_count": 27,
      "outputs": [
        {
          "output_type": "display_data",
          "data": {
            "text/html": [
              "<html>\n",
              "<head><meta charset=\"utf-8\" /></head>\n",
              "<body>\n",
              "    <div>            <script src=\"https://cdnjs.cloudflare.com/ajax/libs/mathjax/2.7.5/MathJax.js?config=TeX-AMS-MML_SVG\"></script><script type=\"text/javascript\">if (window.MathJax && window.MathJax.Hub && window.MathJax.Hub.Config) {window.MathJax.Hub.Config({SVG: {font: \"STIX-Web\"}});}</script>                <script type=\"text/javascript\">window.PlotlyConfig = {MathJaxConfig: 'local'};</script>\n",
              "        <script charset=\"utf-8\" src=\"https://cdn.plot.ly/plotly-2.35.2.min.js\"></script>                <div id=\"487aeed4-3105-4691-be26-1bea95f8480b\" class=\"plotly-graph-div\" style=\"height:525px; width:100%;\"></div>            <script type=\"text/javascript\">                                    window.PLOTLYENV=window.PLOTLYENV || {};                                    if (document.getElementById(\"487aeed4-3105-4691-be26-1bea95f8480b\")) {                    Plotly.newPlot(                        \"487aeed4-3105-4691-be26-1bea95f8480b\",                        [{\"hovertemplate\":\"job_level=T4\\u003cbr\\u003eTenure (Months)=%{x}\\u003cbr\\u003ePerformance Rating=%{y}\\u003cextra\\u003e\\u003c\\u002fextra\\u003e\",\"legendgroup\":\"T4\",\"marker\":{\"color\":\"#636efa\",\"symbol\":\"circle\"},\"mode\":\"markers\",\"name\":\"T4\",\"orientation\":\"v\",\"showlegend\":true,\"x\":[59,35,30,23,43,19,51,68,22,29,52,21,24,7,29,48,60,68,35,42,14,70,7,30,35,20,41,11,8,49,25,31,34,49,10,5,13,10,48,62,36,71,2,3,22,61,60,35,36,22,47,70,35,58,22,67,19,37,20,26,25,46,25,70,64,44,40,28,62,29,39,26,64,46,47,48,22,36,2,66,31,23,10,46,31,29,64,48,25,12,11,27,64,33,66,25,45,22,59,65,40,20,4,65,70,30,18,30,58,23,48,50,9,30,29,11,5,11,58,31,36,59,67,23,71,53,64,58,9,14,61,59,10,16,5,61,46,56,70,51,32,17,5,27,46,3,40,23,57,20,45,43,29,45,45,69,22,12,36,56,71,60,5,4,16,21,55,60,58,45,9,61,51,15,5,61,6,13,18,60,28,23,29,49,37,14,3,40,48,12,16,28,11,58,4,40,37,7,41,39,18,43,65,10,14,6,43,57,56,43,54,11,38,46,33,49,69,29],\"xaxis\":\"x\",\"y\":[5,3,4,2,3,2,3,5,1,1,4,3,1,5,3,5,3,4,5,4,3,5,2,3,2,1,3,4,2,4,4,3,3,5,4,4,2,3,5,3,4,5,1,4,3,3,3,4,5,4,4,5,3,3,4,5,4,2,5,5,5,5,1,3,2,2,4,2,5,1,5,3,3,5,2,5,5,4,5,3,5,5,2,3,3,3,3,2,1,2,4,3,5,5,4,5,2,3,3,5,2,2,2,3,5,1,3,4,4,4,4,3,1,5,2,1,4,2,3,4,4,2,2,1,2,2,5,5,2,4,5,2,2,2,2,5,5,5,5,3,1,4,3,1,3,2,5,3,4,4,3,5,3,3,5,4,4,5,4,3,3,3,5,4,1,5,5,3,5,3,1,4,5,5,5,4,2,2,1,3,5,2,4,3,2,2,1,4,3,2,1,4,1,3,4,2,4,3,4,5,4,3,5,3,3,4,5,5,3,3,2,4,3,4,5,2,5,3],\"yaxis\":\"y\",\"type\":\"scatter\"},{\"hovertemplate\":\"job_level=T5\\u003cbr\\u003eTenure (Months)=%{x}\\u003cbr\\u003ePerformance Rating=%{y}\\u003cextra\\u003e\\u003c\\u002fextra\\u003e\",\"legendgroup\":\"T5\",\"marker\":{\"color\":\"#EF553B\",\"symbol\":\"circle\"},\"mode\":\"markers\",\"name\":\"T5\",\"orientation\":\"v\",\"showlegend\":true,\"x\":[36,47,31,50,35,26,20,63,54,6,56,28,31,70,2,49,22,43,31,63,26,27,56,32,35,20,22,60,11,24,21,48,38,26,17,1,50,2,8,33,65,16,12,51,47,15,42,67,29,13,23,14,42,43,58,56,58,9,35,37,71,36,70,49,59,26,53,26,44,9,9,9,57,16,42,37,59,68,35,8,17,35,30,47,28,52,18,24,6,54,25,17,53,56,57,35,59,67,41,28,69,11,50,43,33,64,11,23,8,40,60,39,39,8,33,12,30,69,30,27,14,55,26,45,32,16,49,32,40,58,20,70,43,37,24,33,42,61,8,71,61,2,64,52,44,35,6,66,47,35,30,44,60,23,46,11,4,54,69,44,64,70,23,11,54,19,54,18,69,21,45,14,27,71,34,62,19,31,50,12,16,66,22,68,41,52,25,32,47,7,71,61,49,52,56],\"xaxis\":\"x\",\"y\":[4,5,5,5,4,5,5,4,5,1,4,5,2,3,4,5,5,3,3,2,3,3,5,1,1,1,3,3,2,1,4,5,5,5,1,2,3,4,2,2,2,4,1,5,3,2,4,4,5,1,5,2,3,5,3,2,4,1,3,5,5,4,5,5,5,4,2,4,5,5,5,2,4,4,3,5,5,5,4,2,2,2,2,5,5,5,4,2,2,2,1,4,5,2,5,2,5,3,5,5,3,2,3,5,3,5,4,2,5,3,4,2,3,3,3,2,4,5,3,3,2,5,2,5,4,2,5,2,3,5,3,2,5,5,1,4,3,5,3,2,5,4,5,2,5,3,4,5,3,5,5,5,3,4,4,2,2,5,5,5,4,3,5,3,5,3,5,5,2,2,3,2,3,4,2,3,3,4,3,4,5,4,4,5,4,5,4,1,4,2,2,5,3,4,4],\"yaxis\":\"y\",\"type\":\"scatter\"},{\"hovertemplate\":\"job_level=T2\\u003cbr\\u003eTenure (Months)=%{x}\\u003cbr\\u003ePerformance Rating=%{y}\\u003cextra\\u003e\\u003c\\u002fextra\\u003e\",\"legendgroup\":\"T2\",\"marker\":{\"color\":\"#00cc96\",\"symbol\":\"circle\"},\"mode\":\"markers\",\"name\":\"T2\",\"orientation\":\"v\",\"showlegend\":true,\"x\":[57,12,25,1,3,16,31,64,65,65,17,21,18,12,33,66,65,70,52,50,68,37,42,6,40,13,42,36,47,68,59,9,34,22,70,12,68,51,39,67,17,41,63,35,53,28,30,41,61,68,48,57,14,55,26,20,54,61,59,52,36,18,20,31,53,33,43,30,48,46,34,45,59,11,14,25,22,5,38,47,53,3,45,20,59,42,27,59,3,38,48,60,57,53,30,51,65,46,20,29,40,24,44,1,20,44,38,23,51,42,54,45,31,33,70,23,15,68,45,70,52,11,21,1,9,55,48,6,62,27,71,12,21,28,8,54,8,48,54,19,22,14,7,3,12,56,6,58,3,71,44,54,6,66,19,66,29,1,64,5,43,14,63,28,13,44,66,26,14,55,6,24,4,50,64,55,7,2,37,61,5,1,22,41,7,42,1,61,70,12,71,21,21,48,66,61,41,43,58,48,20,53,38,24,65,50,15,36,25,2,20,21],\"xaxis\":\"x\",\"y\":[2,2,2,3,2,5,4,5,2,2,4,4,2,1,4,5,5,5,5,5,5,5,5,1,2,5,5,4,3,4,5,3,5,3,5,5,5,3,5,3,4,3,4,1,3,3,3,5,3,4,5,5,2,5,1,4,3,2,4,2,2,3,2,5,3,2,3,3,4,5,4,5,5,4,3,5,3,5,3,5,5,2,3,3,5,4,4,5,3,5,3,5,2,3,2,4,3,5,3,3,3,4,2,2,4,3,5,5,3,5,5,4,1,4,5,4,4,3,3,4,5,4,4,1,1,4,4,3,4,5,2,2,3,1,2,2,3,5,4,5,2,1,3,2,2,4,2,5,2,3,2,5,2,3,1,5,4,2,3,4,2,2,5,5,4,5,5,2,4,5,4,4,4,5,3,2,4,2,4,3,5,1,4,5,5,2,4,3,5,2,5,4,3,5,5,5,2,4,3,5,4,5,4,2,2,5,1,2,4,4,2,2],\"yaxis\":\"y\",\"type\":\"scatter\"},{\"hovertemplate\":\"job_level=T3\\u003cbr\\u003eTenure (Months)=%{x}\\u003cbr\\u003ePerformance Rating=%{y}\\u003cextra\\u003e\\u003c\\u002fextra\\u003e\",\"legendgroup\":\"T3\",\"marker\":{\"color\":\"#ab63fa\",\"symbol\":\"circle\"},\"mode\":\"markers\",\"name\":\"T3\",\"orientation\":\"v\",\"showlegend\":true,\"x\":[41,22,57,66,62,46,69,49,45,26,16,57,20,11,43,41,15,56,68,27,6,7,25,3,41,2,24,37,30,54,14,58,3,29,25,62,40,35,57,22,38,46,1,11,11,8,33,71,44,55,47,35,43,47,53,27,67,18,40,27,19,46,46,19,26,58,30,51,38,43,55,54,68,69,56,54,64,46,60,22,70,6,26,15,7,19,23,16,48,15,1,3,61,3,44,12,31,55,64,22,61,39,20,55,40,66,13,8,13,41,16,8,6,50,55,50,70,69,65,31,32,52,69,29,11,11,44,21,48,47,62,51,11,49,61,50,2,40,33,70,38,36,21,32,8,57,32,19,60,68,67,28,54,16,40,39,60,24,61,23,70,2,13,36,49,1,9,56,63,18,59,49,35,14,71,69,46,69,9,60,64,54,16,17,5,56,52,1,10,63,65,2,47,9,69],\"xaxis\":\"x\",\"y\":[3,2,4,4,5,5,5,5,5,2,4,5,4,2,5,5,3,2,4,1,3,2,1,4,5,1,4,3,4,2,5,2,1,5,1,2,3,1,4,5,5,4,2,1,5,2,2,5,4,3,2,3,5,5,5,4,5,2,4,5,2,3,5,1,4,5,5,2,2,5,3,5,5,3,5,4,4,3,5,3,4,4,4,2,4,5,5,5,5,5,4,5,2,1,2,1,2,5,2,4,4,5,3,3,4,5,4,3,5,4,2,3,4,5,5,5,5,3,5,5,2,5,2,4,2,5,2,2,5,3,3,5,2,4,4,5,2,3,5,5,5,4,4,5,2,3,5,4,2,3,5,4,2,2,4,2,2,1,4,1,2,5,2,4,5,4,1,2,2,4,3,3,4,1,4,2,4,4,2,5,3,5,5,3,3,4,5,5,1,5,4,2,5,3,3],\"yaxis\":\"y\",\"type\":\"scatter\"},{\"hovertemplate\":\"job_level=T1\\u003cbr\\u003eTenure (Months)=%{x}\\u003cbr\\u003ePerformance Rating=%{y}\\u003cextra\\u003e\\u003c\\u002fextra\\u003e\",\"legendgroup\":\"T1\",\"marker\":{\"color\":\"#FFA15A\",\"symbol\":\"circle\"},\"mode\":\"markers\",\"name\":\"T1\",\"orientation\":\"v\",\"showlegend\":true,\"x\":[9,33,55,20,63,27,43,34,36,20,21,70,14,38,68,48,47,6,53,51,40,16,17,55,58,17,56,52,52,26,56,23,60,51,24,21,66,9,3,48,66,29,13,67,4,58,43,17,35,67,44,1,39,47,32,57,52,12,14,51,63,39,29,17,60,51,24,16,48,57,70,53,9,59,37,35,27,68,3,45,55,64,56,22,12,34,35,56,65,32,14,67,6,44,18,19,42,70,47,49,32,28,59,66,66,13,19,55,64,13,64,69,23,10,22,55,48,52,59,55,22,53,44,45,16,27,44,42,20,38,45,27,15,14,36,68,53,3,61,17,20,7,25,26,41,2,59,27,44,53,30,17,29,47,25,45,36,53,51,42,17,19,41,51,24,20,36,51,26,23,43,64,50,10,4,26,2,21,4,41],\"xaxis\":\"x\",\"y\":[3,3,5,4,5,2,5,2,4,2,5,5,3,5,3,4,3,4,5,3,5,3,5,3,5,3,5,5,5,4,5,4,5,3,2,4,5,5,2,4,5,5,3,3,2,2,3,2,4,4,2,2,4,3,4,3,5,1,4,2,3,5,4,4,5,2,4,5,3,3,5,4,1,3,2,3,4,4,4,4,3,5,5,4,4,4,5,4,5,5,4,5,5,5,1,2,4,5,4,4,2,1,4,3,5,4,5,5,3,1,2,3,1,2,1,3,5,2,4,2,5,4,5,5,4,2,5,3,2,4,5,2,5,2,5,4,5,2,2,3,5,5,5,2,5,5,3,3,5,4,3,5,4,4,4,5,2,2,2,2,1,1,5,3,3,3,4,5,4,5,3,3,3,5,2,2,3,1,4,3],\"yaxis\":\"y\",\"type\":\"scatter\"}],                        {\"template\":{\"data\":{\"histogram2dcontour\":[{\"type\":\"histogram2dcontour\",\"colorbar\":{\"outlinewidth\":0,\"ticks\":\"\"},\"colorscale\":[[0.0,\"#0d0887\"],[0.1111111111111111,\"#46039f\"],[0.2222222222222222,\"#7201a8\"],[0.3333333333333333,\"#9c179e\"],[0.4444444444444444,\"#bd3786\"],[0.5555555555555556,\"#d8576b\"],[0.6666666666666666,\"#ed7953\"],[0.7777777777777778,\"#fb9f3a\"],[0.8888888888888888,\"#fdca26\"],[1.0,\"#f0f921\"]]}],\"choropleth\":[{\"type\":\"choropleth\",\"colorbar\":{\"outlinewidth\":0,\"ticks\":\"\"}}],\"histogram2d\":[{\"type\":\"histogram2d\",\"colorbar\":{\"outlinewidth\":0,\"ticks\":\"\"},\"colorscale\":[[0.0,\"#0d0887\"],[0.1111111111111111,\"#46039f\"],[0.2222222222222222,\"#7201a8\"],[0.3333333333333333,\"#9c179e\"],[0.4444444444444444,\"#bd3786\"],[0.5555555555555556,\"#d8576b\"],[0.6666666666666666,\"#ed7953\"],[0.7777777777777778,\"#fb9f3a\"],[0.8888888888888888,\"#fdca26\"],[1.0,\"#f0f921\"]]}],\"heatmap\":[{\"type\":\"heatmap\",\"colorbar\":{\"outlinewidth\":0,\"ticks\":\"\"},\"colorscale\":[[0.0,\"#0d0887\"],[0.1111111111111111,\"#46039f\"],[0.2222222222222222,\"#7201a8\"],[0.3333333333333333,\"#9c179e\"],[0.4444444444444444,\"#bd3786\"],[0.5555555555555556,\"#d8576b\"],[0.6666666666666666,\"#ed7953\"],[0.7777777777777778,\"#fb9f3a\"],[0.8888888888888888,\"#fdca26\"],[1.0,\"#f0f921\"]]}],\"heatmapgl\":[{\"type\":\"heatmapgl\",\"colorbar\":{\"outlinewidth\":0,\"ticks\":\"\"},\"colorscale\":[[0.0,\"#0d0887\"],[0.1111111111111111,\"#46039f\"],[0.2222222222222222,\"#7201a8\"],[0.3333333333333333,\"#9c179e\"],[0.4444444444444444,\"#bd3786\"],[0.5555555555555556,\"#d8576b\"],[0.6666666666666666,\"#ed7953\"],[0.7777777777777778,\"#fb9f3a\"],[0.8888888888888888,\"#fdca26\"],[1.0,\"#f0f921\"]]}],\"contourcarpet\":[{\"type\":\"contourcarpet\",\"colorbar\":{\"outlinewidth\":0,\"ticks\":\"\"}}],\"contour\":[{\"type\":\"contour\",\"colorbar\":{\"outlinewidth\":0,\"ticks\":\"\"},\"colorscale\":[[0.0,\"#0d0887\"],[0.1111111111111111,\"#46039f\"],[0.2222222222222222,\"#7201a8\"],[0.3333333333333333,\"#9c179e\"],[0.4444444444444444,\"#bd3786\"],[0.5555555555555556,\"#d8576b\"],[0.6666666666666666,\"#ed7953\"],[0.7777777777777778,\"#fb9f3a\"],[0.8888888888888888,\"#fdca26\"],[1.0,\"#f0f921\"]]}],\"surface\":[{\"type\":\"surface\",\"colorbar\":{\"outlinewidth\":0,\"ticks\":\"\"},\"colorscale\":[[0.0,\"#0d0887\"],[0.1111111111111111,\"#46039f\"],[0.2222222222222222,\"#7201a8\"],[0.3333333333333333,\"#9c179e\"],[0.4444444444444444,\"#bd3786\"],[0.5555555555555556,\"#d8576b\"],[0.6666666666666666,\"#ed7953\"],[0.7777777777777778,\"#fb9f3a\"],[0.8888888888888888,\"#fdca26\"],[1.0,\"#f0f921\"]]}],\"mesh3d\":[{\"type\":\"mesh3d\",\"colorbar\":{\"outlinewidth\":0,\"ticks\":\"\"}}],\"scatter\":[{\"fillpattern\":{\"fillmode\":\"overlay\",\"size\":10,\"solidity\":0.2},\"type\":\"scatter\"}],\"parcoords\":[{\"type\":\"parcoords\",\"line\":{\"colorbar\":{\"outlinewidth\":0,\"ticks\":\"\"}}}],\"scatterpolargl\":[{\"type\":\"scatterpolargl\",\"marker\":{\"colorbar\":{\"outlinewidth\":0,\"ticks\":\"\"}}}],\"bar\":[{\"error_x\":{\"color\":\"#2a3f5f\"},\"error_y\":{\"color\":\"#2a3f5f\"},\"marker\":{\"line\":{\"color\":\"#E5ECF6\",\"width\":0.5},\"pattern\":{\"fillmode\":\"overlay\",\"size\":10,\"solidity\":0.2}},\"type\":\"bar\"}],\"scattergeo\":[{\"type\":\"scattergeo\",\"marker\":{\"colorbar\":{\"outlinewidth\":0,\"ticks\":\"\"}}}],\"scatterpolar\":[{\"type\":\"scatterpolar\",\"marker\":{\"colorbar\":{\"outlinewidth\":0,\"ticks\":\"\"}}}],\"histogram\":[{\"marker\":{\"pattern\":{\"fillmode\":\"overlay\",\"size\":10,\"solidity\":0.2}},\"type\":\"histogram\"}],\"scattergl\":[{\"type\":\"scattergl\",\"marker\":{\"colorbar\":{\"outlinewidth\":0,\"ticks\":\"\"}}}],\"scatter3d\":[{\"type\":\"scatter3d\",\"line\":{\"colorbar\":{\"outlinewidth\":0,\"ticks\":\"\"}},\"marker\":{\"colorbar\":{\"outlinewidth\":0,\"ticks\":\"\"}}}],\"scattermapbox\":[{\"type\":\"scattermapbox\",\"marker\":{\"colorbar\":{\"outlinewidth\":0,\"ticks\":\"\"}}}],\"scatterternary\":[{\"type\":\"scatterternary\",\"marker\":{\"colorbar\":{\"outlinewidth\":0,\"ticks\":\"\"}}}],\"scattercarpet\":[{\"type\":\"scattercarpet\",\"marker\":{\"colorbar\":{\"outlinewidth\":0,\"ticks\":\"\"}}}],\"carpet\":[{\"aaxis\":{\"endlinecolor\":\"#2a3f5f\",\"gridcolor\":\"white\",\"linecolor\":\"white\",\"minorgridcolor\":\"white\",\"startlinecolor\":\"#2a3f5f\"},\"baxis\":{\"endlinecolor\":\"#2a3f5f\",\"gridcolor\":\"white\",\"linecolor\":\"white\",\"minorgridcolor\":\"white\",\"startlinecolor\":\"#2a3f5f\"},\"type\":\"carpet\"}],\"table\":[{\"cells\":{\"fill\":{\"color\":\"#EBF0F8\"},\"line\":{\"color\":\"white\"}},\"header\":{\"fill\":{\"color\":\"#C8D4E3\"},\"line\":{\"color\":\"white\"}},\"type\":\"table\"}],\"barpolar\":[{\"marker\":{\"line\":{\"color\":\"#E5ECF6\",\"width\":0.5},\"pattern\":{\"fillmode\":\"overlay\",\"size\":10,\"solidity\":0.2}},\"type\":\"barpolar\"}],\"pie\":[{\"automargin\":true,\"type\":\"pie\"}]},\"layout\":{\"autotypenumbers\":\"strict\",\"colorway\":[\"#636efa\",\"#EF553B\",\"#00cc96\",\"#ab63fa\",\"#FFA15A\",\"#19d3f3\",\"#FF6692\",\"#B6E880\",\"#FF97FF\",\"#FECB52\"],\"font\":{\"color\":\"#2a3f5f\"},\"hovermode\":\"closest\",\"hoverlabel\":{\"align\":\"left\"},\"paper_bgcolor\":\"white\",\"plot_bgcolor\":\"#E5ECF6\",\"polar\":{\"bgcolor\":\"#E5ECF6\",\"angularaxis\":{\"gridcolor\":\"white\",\"linecolor\":\"white\",\"ticks\":\"\"},\"radialaxis\":{\"gridcolor\":\"white\",\"linecolor\":\"white\",\"ticks\":\"\"}},\"ternary\":{\"bgcolor\":\"#E5ECF6\",\"aaxis\":{\"gridcolor\":\"white\",\"linecolor\":\"white\",\"ticks\":\"\"},\"baxis\":{\"gridcolor\":\"white\",\"linecolor\":\"white\",\"ticks\":\"\"},\"caxis\":{\"gridcolor\":\"white\",\"linecolor\":\"white\",\"ticks\":\"\"}},\"coloraxis\":{\"colorbar\":{\"outlinewidth\":0,\"ticks\":\"\"}},\"colorscale\":{\"sequential\":[[0.0,\"#0d0887\"],[0.1111111111111111,\"#46039f\"],[0.2222222222222222,\"#7201a8\"],[0.3333333333333333,\"#9c179e\"],[0.4444444444444444,\"#bd3786\"],[0.5555555555555556,\"#d8576b\"],[0.6666666666666666,\"#ed7953\"],[0.7777777777777778,\"#fb9f3a\"],[0.8888888888888888,\"#fdca26\"],[1.0,\"#f0f921\"]],\"sequentialminus\":[[0.0,\"#0d0887\"],[0.1111111111111111,\"#46039f\"],[0.2222222222222222,\"#7201a8\"],[0.3333333333333333,\"#9c179e\"],[0.4444444444444444,\"#bd3786\"],[0.5555555555555556,\"#d8576b\"],[0.6666666666666666,\"#ed7953\"],[0.7777777777777778,\"#fb9f3a\"],[0.8888888888888888,\"#fdca26\"],[1.0,\"#f0f921\"]],\"diverging\":[[0,\"#8e0152\"],[0.1,\"#c51b7d\"],[0.2,\"#de77ae\"],[0.3,\"#f1b6da\"],[0.4,\"#fde0ef\"],[0.5,\"#f7f7f7\"],[0.6,\"#e6f5d0\"],[0.7,\"#b8e186\"],[0.8,\"#7fbc41\"],[0.9,\"#4d9221\"],[1,\"#276419\"]]},\"xaxis\":{\"gridcolor\":\"white\",\"linecolor\":\"white\",\"ticks\":\"\",\"title\":{\"standoff\":15},\"zerolinecolor\":\"white\",\"automargin\":true,\"zerolinewidth\":2},\"yaxis\":{\"gridcolor\":\"white\",\"linecolor\":\"white\",\"ticks\":\"\",\"title\":{\"standoff\":15},\"zerolinecolor\":\"white\",\"automargin\":true,\"zerolinewidth\":2},\"scene\":{\"xaxis\":{\"backgroundcolor\":\"#E5ECF6\",\"gridcolor\":\"white\",\"linecolor\":\"white\",\"showbackground\":true,\"ticks\":\"\",\"zerolinecolor\":\"white\",\"gridwidth\":2},\"yaxis\":{\"backgroundcolor\":\"#E5ECF6\",\"gridcolor\":\"white\",\"linecolor\":\"white\",\"showbackground\":true,\"ticks\":\"\",\"zerolinecolor\":\"white\",\"gridwidth\":2},\"zaxis\":{\"backgroundcolor\":\"#E5ECF6\",\"gridcolor\":\"white\",\"linecolor\":\"white\",\"showbackground\":true,\"ticks\":\"\",\"zerolinecolor\":\"white\",\"gridwidth\":2}},\"shapedefaults\":{\"line\":{\"color\":\"#2a3f5f\"}},\"annotationdefaults\":{\"arrowcolor\":\"#2a3f5f\",\"arrowhead\":0,\"arrowwidth\":1},\"geo\":{\"bgcolor\":\"white\",\"landcolor\":\"#E5ECF6\",\"subunitcolor\":\"white\",\"showland\":true,\"showlakes\":true,\"lakecolor\":\"white\"},\"title\":{\"x\":0.05},\"mapbox\":{\"style\":\"light\"}}},\"xaxis\":{\"anchor\":\"y\",\"domain\":[0.0,1.0],\"title\":{\"text\":\"Tenure (Months)\"}},\"yaxis\":{\"anchor\":\"x\",\"domain\":[0.0,1.0],\"title\":{\"text\":\"Performance Rating\"}},\"legend\":{\"title\":{\"text\":\"job_level\"},\"tracegroupgap\":0},\"title\":{\"text\":\"Tenure vs Performance Rating by Job Level\"}},                        {\"responsive\": true}                    ).then(function(){\n",
              "                            \n",
              "var gd = document.getElementById('487aeed4-3105-4691-be26-1bea95f8480b');\n",
              "var x = new MutationObserver(function (mutations, observer) {{\n",
              "        var display = window.getComputedStyle(gd).display;\n",
              "        if (!display || display === 'none') {{\n",
              "            console.log([gd, 'removed!']);\n",
              "            Plotly.purge(gd);\n",
              "            observer.disconnect();\n",
              "        }}\n",
              "}});\n",
              "\n",
              "// Listen for the removal of the full notebook cells\n",
              "var notebookContainer = gd.closest('#notebook-container');\n",
              "if (notebookContainer) {{\n",
              "    x.observe(notebookContainer, {childList: true});\n",
              "}}\n",
              "\n",
              "// Listen for the clearing of the current output cell\n",
              "var outputEl = gd.closest('.output');\n",
              "if (outputEl) {{\n",
              "    x.observe(outputEl, {childList: true});\n",
              "}}\n",
              "\n",
              "                        })                };                            </script>        </div>\n",
              "</body>\n",
              "</html>"
            ]
          },
          "metadata": {}
        }
      ]
    },
    {
      "cell_type": "code",
      "source": [
        "# Investigating Potential Bias\n",
        "\n",
        "fig_box = px.box(\n",
        "    df_performance_viz,\n",
        "    x='gender',\n",
        "    y='performance_rating',\n",
        "    color='gender',\n",
        "    title='Performance Ration Distribution by Gender',\n",
        "    labels={'gender':'Gender','performance_rating':'Performance Rating'}\n",
        ")\n",
        "\n",
        "fig_box.show()"
      ],
      "metadata": {
        "colab": {
          "base_uri": "https://localhost:8080/",
          "height": 542
        },
        "id": "o8AEbKAZ4qHY",
        "outputId": "9769fef4-1250-4934-b33a-d4594728cedf"
      },
      "execution_count": 28,
      "outputs": [
        {
          "output_type": "display_data",
          "data": {
            "text/html": [
              "<html>\n",
              "<head><meta charset=\"utf-8\" /></head>\n",
              "<body>\n",
              "    <div>            <script src=\"https://cdnjs.cloudflare.com/ajax/libs/mathjax/2.7.5/MathJax.js?config=TeX-AMS-MML_SVG\"></script><script type=\"text/javascript\">if (window.MathJax && window.MathJax.Hub && window.MathJax.Hub.Config) {window.MathJax.Hub.Config({SVG: {font: \"STIX-Web\"}});}</script>                <script type=\"text/javascript\">window.PlotlyConfig = {MathJaxConfig: 'local'};</script>\n",
              "        <script charset=\"utf-8\" src=\"https://cdn.plot.ly/plotly-2.35.2.min.js\"></script>                <div id=\"9736f657-fe96-47b6-951f-072309ae87ee\" class=\"plotly-graph-div\" style=\"height:525px; width:100%;\"></div>            <script type=\"text/javascript\">                                    window.PLOTLYENV=window.PLOTLYENV || {};                                    if (document.getElementById(\"9736f657-fe96-47b6-951f-072309ae87ee\")) {                    Plotly.newPlot(                        \"9736f657-fe96-47b6-951f-072309ae87ee\",                        [{\"alignmentgroup\":\"True\",\"hovertemplate\":\"Gender=%{x}\\u003cbr\\u003ePerformance Rating=%{y}\\u003cextra\\u003e\\u003c\\u002fextra\\u003e\",\"legendgroup\":\"Female\",\"marker\":{\"color\":\"#636efa\"},\"name\":\"Female\",\"notched\":false,\"offsetgroup\":\"Female\",\"orientation\":\"v\",\"showlegend\":true,\"x\":[\"Female\",\"Female\",\"Female\",\"Female\",\"Female\",\"Female\",\"Female\",\"Female\",\"Female\",\"Female\",\"Female\",\"Female\",\"Female\",\"Female\",\"Female\",\"Female\",\"Female\",\"Female\",\"Female\",\"Female\",\"Female\",\"Female\",\"Female\",\"Female\",\"Female\",\"Female\",\"Female\",\"Female\",\"Female\",\"Female\",\"Female\",\"Female\",\"Female\",\"Female\",\"Female\",\"Female\",\"Female\",\"Female\",\"Female\",\"Female\",\"Female\",\"Female\",\"Female\",\"Female\",\"Female\",\"Female\",\"Female\",\"Female\",\"Female\",\"Female\",\"Female\",\"Female\",\"Female\",\"Female\",\"Female\",\"Female\",\"Female\",\"Female\",\"Female\",\"Female\",\"Female\",\"Female\",\"Female\",\"Female\",\"Female\",\"Female\",\"Female\",\"Female\",\"Female\",\"Female\",\"Female\",\"Female\",\"Female\",\"Female\",\"Female\",\"Female\",\"Female\",\"Female\",\"Female\",\"Female\",\"Female\",\"Female\",\"Female\",\"Female\",\"Female\",\"Female\",\"Female\",\"Female\",\"Female\",\"Female\",\"Female\",\"Female\",\"Female\",\"Female\",\"Female\",\"Female\",\"Female\",\"Female\",\"Female\",\"Female\",\"Female\",\"Female\",\"Female\",\"Female\",\"Female\",\"Female\",\"Female\",\"Female\",\"Female\",\"Female\",\"Female\",\"Female\",\"Female\",\"Female\",\"Female\",\"Female\",\"Female\",\"Female\",\"Female\",\"Female\",\"Female\",\"Female\",\"Female\",\"Female\",\"Female\",\"Female\",\"Female\",\"Female\",\"Female\",\"Female\",\"Female\",\"Female\",\"Female\",\"Female\",\"Female\",\"Female\",\"Female\",\"Female\",\"Female\",\"Female\",\"Female\",\"Female\",\"Female\",\"Female\",\"Female\",\"Female\",\"Female\",\"Female\",\"Female\",\"Female\",\"Female\",\"Female\",\"Female\",\"Female\",\"Female\",\"Female\",\"Female\",\"Female\",\"Female\",\"Female\",\"Female\",\"Female\",\"Female\",\"Female\",\"Female\",\"Female\",\"Female\",\"Female\",\"Female\",\"Female\",\"Female\",\"Female\",\"Female\",\"Female\",\"Female\",\"Female\",\"Female\",\"Female\",\"Female\",\"Female\",\"Female\",\"Female\",\"Female\",\"Female\",\"Female\",\"Female\",\"Female\",\"Female\",\"Female\",\"Female\",\"Female\",\"Female\",\"Female\",\"Female\",\"Female\",\"Female\",\"Female\",\"Female\",\"Female\",\"Female\",\"Female\",\"Female\",\"Female\",\"Female\",\"Female\",\"Female\",\"Female\",\"Female\",\"Female\",\"Female\",\"Female\",\"Female\",\"Female\",\"Female\",\"Female\",\"Female\",\"Female\",\"Female\",\"Female\",\"Female\",\"Female\",\"Female\",\"Female\",\"Female\",\"Female\",\"Female\",\"Female\",\"Female\",\"Female\",\"Female\",\"Female\",\"Female\",\"Female\",\"Female\",\"Female\",\"Female\",\"Female\",\"Female\",\"Female\",\"Female\",\"Female\",\"Female\",\"Female\",\"Female\",\"Female\",\"Female\",\"Female\",\"Female\",\"Female\",\"Female\",\"Female\",\"Female\",\"Female\",\"Female\",\"Female\",\"Female\",\"Female\",\"Female\",\"Female\",\"Female\",\"Female\",\"Female\",\"Female\",\"Female\",\"Female\",\"Female\",\"Female\",\"Female\",\"Female\",\"Female\",\"Female\",\"Female\",\"Female\",\"Female\",\"Female\",\"Female\",\"Female\",\"Female\",\"Female\",\"Female\",\"Female\",\"Female\",\"Female\",\"Female\",\"Female\",\"Female\",\"Female\",\"Female\",\"Female\",\"Female\",\"Female\",\"Female\",\"Female\",\"Female\",\"Female\",\"Female\",\"Female\",\"Female\",\"Female\",\"Female\",\"Female\",\"Female\",\"Female\",\"Female\",\"Female\",\"Female\",\"Female\",\"Female\",\"Female\",\"Female\",\"Female\",\"Female\",\"Female\",\"Female\",\"Female\",\"Female\",\"Female\",\"Female\",\"Female\",\"Female\",\"Female\",\"Female\",\"Female\",\"Female\",\"Female\",\"Female\",\"Female\",\"Female\",\"Female\",\"Female\",\"Female\",\"Female\",\"Female\",\"Female\",\"Female\",\"Female\",\"Female\",\"Female\",\"Female\",\"Female\",\"Female\",\"Female\",\"Female\",\"Female\",\"Female\",\"Female\",\"Female\",\"Female\",\"Female\",\"Female\",\"Female\",\"Female\",\"Female\",\"Female\",\"Female\",\"Female\",\"Female\",\"Female\",\"Female\",\"Female\",\"Female\",\"Female\",\"Female\",\"Female\",\"Female\",\"Female\",\"Female\",\"Female\",\"Female\",\"Female\",\"Female\",\"Female\",\"Female\",\"Female\",\"Female\",\"Female\",\"Female\",\"Female\",\"Female\",\"Female\",\"Female\",\"Female\",\"Female\",\"Female\",\"Female\",\"Female\",\"Female\",\"Female\",\"Female\",\"Female\",\"Female\",\"Female\",\"Female\",\"Female\",\"Female\",\"Female\",\"Female\",\"Female\",\"Female\",\"Female\",\"Female\",\"Female\",\"Female\",\"Female\",\"Female\",\"Female\",\"Female\",\"Female\",\"Female\",\"Female\",\"Female\",\"Female\",\"Female\",\"Female\",\"Female\",\"Female\",\"Female\",\"Female\",\"Female\",\"Female\",\"Female\",\"Female\",\"Female\",\"Female\",\"Female\",\"Female\",\"Female\",\"Female\",\"Female\",\"Female\",\"Female\",\"Female\",\"Female\",\"Female\",\"Female\",\"Female\",\"Female\",\"Female\",\"Female\",\"Female\",\"Female\",\"Female\",\"Female\",\"Female\",\"Female\",\"Female\",\"Female\",\"Female\",\"Female\",\"Female\",\"Female\",\"Female\",\"Female\",\"Female\",\"Female\",\"Female\",\"Female\",\"Female\",\"Female\",\"Female\",\"Female\",\"Female\",\"Female\",\"Female\",\"Female\",\"Female\",\"Female\",\"Female\"],\"x0\":\" \",\"xaxis\":\"x\",\"y\":[5,4,3,5,3,2,4,5,5,4,2,4,2,5,4,3,4,2,2,4,4,1,5,4,3,1,4,4,5,5,5,5,4,5,2,5,5,4,5,3,5,2,5,3,5,1,3,1,5,3,3,5,4,2,5,3,3,1,5,2,3,3,4,4,5,4,2,3,5,3,4,4,3,3,3,5,1,3,5,5,3,3,4,4,3,4,3,1,4,3,2,4,1,4,5,3,1,5,2,3,4,2,5,4,2,4,2,4,1,5,1,5,3,2,5,2,4,2,2,2,3,5,2,3,2,4,4,5,2,4,1,2,3,2,4,2,2,3,2,3,3,3,5,2,2,4,3,5,4,3,4,3,5,5,2,4,3,4,5,5,5,4,4,5,3,3,3,5,5,1,5,4,2,3,2,4,3,3,5,5,3,4,2,3,4,5,4,4,5,5,5,3,2,5,5,5,5,5,2,4,4,2,2,2,5,4,5,2,4,3,5,5,3,4,2,1,5,4,5,5,3,2,1,1,5,5,4,5,5,1,3,4,3,5,5,5,1,4,2,5,2,4,5,4,4,5,5,4,5,3,2,1,2,4,1,3,3,3,5,5,5,5,5,3,3,4,5,3,4,5,5,4,5,1,4,5,4,3,3,2,4,2,5,3,4,1,3,3,1,2,5,2,3,3,1,2,2,5,2,2,2,3,4,3,4,5,3,2,3,2,3,2,5,5,2,4,4,4,5,2,2,3,3,2,5,5,3,5,5,4,5,5,2,2,4,4,3,3,5,3,5,4,2,4,4,1,5,4,3,5,5,2,2,4,2,5,3,3,4,4,5,2,1,4,2,2,4,5,5,5,5,2,5,4,5,3,4,2,3,2,1,2,1,4,3,5,2,3,4,3,4,3,3,4,4,2,2,2,4,4,2,5,2,5,2,4,2,1,4,4,4,4,3,1,1,3,2,4,5,2,2,3,4,2,2,1,1,4,5,3,5,4,4,4,3,3,3,5,3,3,3,5,4,5,4,5,3,2,5,3,4,4,2,3,2,4,2,2,2,5,4,5,3,2,4,3,3,4],\"y0\":\" \",\"yaxis\":\"y\",\"type\":\"box\"},{\"alignmentgroup\":\"True\",\"hovertemplate\":\"Gender=%{x}\\u003cbr\\u003ePerformance Rating=%{y}\\u003cextra\\u003e\\u003c\\u002fextra\\u003e\",\"legendgroup\":\"Male\",\"marker\":{\"color\":\"#EF553B\"},\"name\":\"Male\",\"notched\":false,\"offsetgroup\":\"Male\",\"orientation\":\"v\",\"showlegend\":true,\"x\":[\"Male\",\"Male\",\"Male\",\"Male\",\"Male\",\"Male\",\"Male\",\"Male\",\"Male\",\"Male\",\"Male\",\"Male\",\"Male\",\"Male\",\"Male\",\"Male\",\"Male\",\"Male\",\"Male\",\"Male\",\"Male\",\"Male\",\"Male\",\"Male\",\"Male\",\"Male\",\"Male\",\"Male\",\"Male\",\"Male\",\"Male\",\"Male\",\"Male\",\"Male\",\"Male\",\"Male\",\"Male\",\"Male\",\"Male\",\"Male\",\"Male\",\"Male\",\"Male\",\"Male\",\"Male\",\"Male\",\"Male\",\"Male\",\"Male\",\"Male\",\"Male\",\"Male\",\"Male\",\"Male\",\"Male\",\"Male\",\"Male\",\"Male\",\"Male\",\"Male\",\"Male\",\"Male\",\"Male\",\"Male\",\"Male\",\"Male\",\"Male\",\"Male\",\"Male\",\"Male\",\"Male\",\"Male\",\"Male\",\"Male\",\"Male\",\"Male\",\"Male\",\"Male\",\"Male\",\"Male\",\"Male\",\"Male\",\"Male\",\"Male\",\"Male\",\"Male\",\"Male\",\"Male\",\"Male\",\"Male\",\"Male\",\"Male\",\"Male\",\"Male\",\"Male\",\"Male\",\"Male\",\"Male\",\"Male\",\"Male\",\"Male\",\"Male\",\"Male\",\"Male\",\"Male\",\"Male\",\"Male\",\"Male\",\"Male\",\"Male\",\"Male\",\"Male\",\"Male\",\"Male\",\"Male\",\"Male\",\"Male\",\"Male\",\"Male\",\"Male\",\"Male\",\"Male\",\"Male\",\"Male\",\"Male\",\"Male\",\"Male\",\"Male\",\"Male\",\"Male\",\"Male\",\"Male\",\"Male\",\"Male\",\"Male\",\"Male\",\"Male\",\"Male\",\"Male\",\"Male\",\"Male\",\"Male\",\"Male\",\"Male\",\"Male\",\"Male\",\"Male\",\"Male\",\"Male\",\"Male\",\"Male\",\"Male\",\"Male\",\"Male\",\"Male\",\"Male\",\"Male\",\"Male\",\"Male\",\"Male\",\"Male\",\"Male\",\"Male\",\"Male\",\"Male\",\"Male\",\"Male\",\"Male\",\"Male\",\"Male\",\"Male\",\"Male\",\"Male\",\"Male\",\"Male\",\"Male\",\"Male\",\"Male\",\"Male\",\"Male\",\"Male\",\"Male\",\"Male\",\"Male\",\"Male\",\"Male\",\"Male\",\"Male\",\"Male\",\"Male\",\"Male\",\"Male\",\"Male\",\"Male\",\"Male\",\"Male\",\"Male\",\"Male\",\"Male\",\"Male\",\"Male\",\"Male\",\"Male\",\"Male\",\"Male\",\"Male\",\"Male\",\"Male\",\"Male\",\"Male\",\"Male\",\"Male\",\"Male\",\"Male\",\"Male\",\"Male\",\"Male\",\"Male\",\"Male\",\"Male\",\"Male\",\"Male\",\"Male\",\"Male\",\"Male\",\"Male\",\"Male\",\"Male\",\"Male\",\"Male\",\"Male\",\"Male\",\"Male\",\"Male\",\"Male\",\"Male\",\"Male\",\"Male\",\"Male\",\"Male\",\"Male\",\"Male\",\"Male\",\"Male\",\"Male\",\"Male\",\"Male\",\"Male\",\"Male\",\"Male\",\"Male\",\"Male\",\"Male\",\"Male\",\"Male\",\"Male\",\"Male\",\"Male\",\"Male\",\"Male\",\"Male\",\"Male\",\"Male\",\"Male\",\"Male\",\"Male\",\"Male\",\"Male\",\"Male\",\"Male\",\"Male\",\"Male\",\"Male\",\"Male\",\"Male\",\"Male\",\"Male\",\"Male\",\"Male\",\"Male\",\"Male\",\"Male\",\"Male\",\"Male\",\"Male\",\"Male\",\"Male\",\"Male\",\"Male\",\"Male\",\"Male\",\"Male\",\"Male\",\"Male\",\"Male\",\"Male\",\"Male\",\"Male\",\"Male\",\"Male\",\"Male\",\"Male\",\"Male\",\"Male\",\"Male\",\"Male\",\"Male\",\"Male\",\"Male\",\"Male\",\"Male\",\"Male\",\"Male\",\"Male\",\"Male\",\"Male\",\"Male\",\"Male\",\"Male\",\"Male\",\"Male\",\"Male\",\"Male\",\"Male\",\"Male\",\"Male\",\"Male\",\"Male\",\"Male\",\"Male\",\"Male\",\"Male\",\"Male\",\"Male\",\"Male\",\"Male\",\"Male\",\"Male\",\"Male\",\"Male\",\"Male\",\"Male\",\"Male\",\"Male\",\"Male\",\"Male\",\"Male\",\"Male\",\"Male\",\"Male\",\"Male\",\"Male\",\"Male\",\"Male\",\"Male\",\"Male\",\"Male\",\"Male\",\"Male\",\"Male\",\"Male\",\"Male\",\"Male\",\"Male\",\"Male\",\"Male\",\"Male\",\"Male\",\"Male\",\"Male\",\"Male\",\"Male\",\"Male\",\"Male\",\"Male\",\"Male\",\"Male\",\"Male\",\"Male\",\"Male\",\"Male\",\"Male\",\"Male\",\"Male\",\"Male\",\"Male\",\"Male\",\"Male\",\"Male\",\"Male\",\"Male\",\"Male\",\"Male\",\"Male\",\"Male\",\"Male\",\"Male\",\"Male\",\"Male\",\"Male\",\"Male\",\"Male\",\"Male\",\"Male\",\"Male\",\"Male\",\"Male\",\"Male\",\"Male\",\"Male\",\"Male\",\"Male\",\"Male\",\"Male\",\"Male\",\"Male\",\"Male\",\"Male\",\"Male\",\"Male\",\"Male\",\"Male\",\"Male\",\"Male\",\"Male\",\"Male\",\"Male\",\"Male\",\"Male\",\"Male\",\"Male\",\"Male\"],\"x0\":\" \",\"xaxis\":\"x\",\"y\":[2,2,3,2,4,5,5,5,5,3,5,3,5,2,2,5,4,5,5,5,2,2,5,5,5,2,1,3,1,1,5,5,3,4,4,3,3,2,5,5,5,5,3,3,2,2,2,5,5,4,1,4,3,5,3,2,4,4,3,4,3,3,5,5,5,3,5,1,5,1,5,1,2,1,4,5,3,3,4,5,1,3,4,5,5,5,5,5,3,1,3,3,2,5,3,4,4,5,5,5,5,2,2,2,5,5,2,5,5,5,4,2,1,3,4,2,2,2,4,5,3,5,3,3,3,5,5,4,5,5,1,2,5,5,5,5,3,3,4,3,2,3,5,4,4,5,4,1,1,5,1,5,2,3,5,5,5,5,5,5,5,4,5,3,3,5,5,4,4,3,3,5,5,5,4,4,5,5,4,5,4,3,5,3,2,3,4,4,3,3,5,1,3,3,3,4,2,4,5,4,2,3,1,2,5,3,5,2,4,1,4,4,3,2,4,4,5,5,3,4,2,5,2,4,2,4,3,2,3,2,4,2,4,3,3,5,5,3,2,5,2,3,4,5,2,3,5,2,4,4,2,5,4,5,4,5,4,5,1,4,2,4,5,2,2,5,2,2,5,2,5,2,5,3,5,2,3,3,3,2,1,3,4,5,4,2,5,3,5,1,1,4,4,5,5,5,2,5,2,2,5,2,5,3,2,4,5,5,5,4,4,3,2,3,2,4,3,2,3,5,4,1,5,5,3,1,2,5,4,5,3,2,5,5,3,5,5,5,5,5,4,5,5,2,4,5,5,3,5,2,4,4,5,5,1,5,2,2,4,5,5,5,3,4,2,1,4,2,2,3,5,4,3,2,3,4,2,4,3,4,2,5,2,3,3,4,2,4,4,5,3,5,5,5,5,3,4,3,5,4,3,5,5,3,3,4,3,5,4,2,5,4,4,2,5,3,5,4,1,5,3,1,5,2,4,2,2,5,4,4,3,3],\"y0\":\" \",\"yaxis\":\"y\",\"type\":\"box\"},{\"alignmentgroup\":\"True\",\"hovertemplate\":\"Gender=%{x}\\u003cbr\\u003ePerformance Rating=%{y}\\u003cextra\\u003e\\u003c\\u002fextra\\u003e\",\"legendgroup\":\"Non-Binary\",\"marker\":{\"color\":\"#00cc96\"},\"name\":\"Non-Binary\",\"notched\":false,\"offsetgroup\":\"Non-Binary\",\"orientation\":\"v\",\"showlegend\":true,\"x\":[\"Non-Binary\",\"Non-Binary\",\"Non-Binary\",\"Non-Binary\",\"Non-Binary\",\"Non-Binary\",\"Non-Binary\",\"Non-Binary\",\"Non-Binary\",\"Non-Binary\",\"Non-Binary\",\"Non-Binary\",\"Non-Binary\",\"Non-Binary\",\"Non-Binary\",\"Non-Binary\",\"Non-Binary\",\"Non-Binary\",\"Non-Binary\",\"Non-Binary\",\"Non-Binary\",\"Non-Binary\",\"Non-Binary\",\"Non-Binary\",\"Non-Binary\",\"Non-Binary\",\"Non-Binary\",\"Non-Binary\",\"Non-Binary\",\"Non-Binary\",\"Non-Binary\",\"Non-Binary\",\"Non-Binary\",\"Non-Binary\",\"Non-Binary\",\"Non-Binary\",\"Non-Binary\",\"Non-Binary\",\"Non-Binary\",\"Non-Binary\",\"Non-Binary\",\"Non-Binary\",\"Non-Binary\",\"Non-Binary\",\"Non-Binary\",\"Non-Binary\",\"Non-Binary\",\"Non-Binary\",\"Non-Binary\",\"Non-Binary\",\"Non-Binary\",\"Non-Binary\",\"Non-Binary\",\"Non-Binary\",\"Non-Binary\",\"Non-Binary\",\"Non-Binary\",\"Non-Binary\",\"Non-Binary\",\"Non-Binary\",\"Non-Binary\",\"Non-Binary\",\"Non-Binary\",\"Non-Binary\",\"Non-Binary\",\"Non-Binary\",\"Non-Binary\",\"Non-Binary\",\"Non-Binary\",\"Non-Binary\",\"Non-Binary\",\"Non-Binary\",\"Non-Binary\",\"Non-Binary\",\"Non-Binary\",\"Non-Binary\",\"Non-Binary\",\"Non-Binary\",\"Non-Binary\",\"Non-Binary\",\"Non-Binary\",\"Non-Binary\",\"Non-Binary\",\"Non-Binary\",\"Non-Binary\",\"Non-Binary\",\"Non-Binary\",\"Non-Binary\",\"Non-Binary\",\"Non-Binary\",\"Non-Binary\",\"Non-Binary\",\"Non-Binary\",\"Non-Binary\",\"Non-Binary\",\"Non-Binary\",\"Non-Binary\",\"Non-Binary\",\"Non-Binary\",\"Non-Binary\"],\"x0\":\" \",\"xaxis\":\"x\",\"y\":[4,3,5,5,2,4,3,4,4,5,3,5,5,4,5,2,3,4,1,4,5,1,4,2,2,3,4,2,2,5,2,2,5,2,3,4,5,2,5,2,4,3,4,2,4,5,4,5,2,4,1,4,5,4,5,2,2,2,5,5,1,4,3,2,4,3,5,5,3,3,5,2,5,5,3,2,3,2,2,5,5,5,1,3,3,4,5,3,4,5,5,1,4,5,5,5,1,4,1,2],\"y0\":\" \",\"yaxis\":\"y\",\"type\":\"box\"}],                        {\"template\":{\"data\":{\"histogram2dcontour\":[{\"type\":\"histogram2dcontour\",\"colorbar\":{\"outlinewidth\":0,\"ticks\":\"\"},\"colorscale\":[[0.0,\"#0d0887\"],[0.1111111111111111,\"#46039f\"],[0.2222222222222222,\"#7201a8\"],[0.3333333333333333,\"#9c179e\"],[0.4444444444444444,\"#bd3786\"],[0.5555555555555556,\"#d8576b\"],[0.6666666666666666,\"#ed7953\"],[0.7777777777777778,\"#fb9f3a\"],[0.8888888888888888,\"#fdca26\"],[1.0,\"#f0f921\"]]}],\"choropleth\":[{\"type\":\"choropleth\",\"colorbar\":{\"outlinewidth\":0,\"ticks\":\"\"}}],\"histogram2d\":[{\"type\":\"histogram2d\",\"colorbar\":{\"outlinewidth\":0,\"ticks\":\"\"},\"colorscale\":[[0.0,\"#0d0887\"],[0.1111111111111111,\"#46039f\"],[0.2222222222222222,\"#7201a8\"],[0.3333333333333333,\"#9c179e\"],[0.4444444444444444,\"#bd3786\"],[0.5555555555555556,\"#d8576b\"],[0.6666666666666666,\"#ed7953\"],[0.7777777777777778,\"#fb9f3a\"],[0.8888888888888888,\"#fdca26\"],[1.0,\"#f0f921\"]]}],\"heatmap\":[{\"type\":\"heatmap\",\"colorbar\":{\"outlinewidth\":0,\"ticks\":\"\"},\"colorscale\":[[0.0,\"#0d0887\"],[0.1111111111111111,\"#46039f\"],[0.2222222222222222,\"#7201a8\"],[0.3333333333333333,\"#9c179e\"],[0.4444444444444444,\"#bd3786\"],[0.5555555555555556,\"#d8576b\"],[0.6666666666666666,\"#ed7953\"],[0.7777777777777778,\"#fb9f3a\"],[0.8888888888888888,\"#fdca26\"],[1.0,\"#f0f921\"]]}],\"heatmapgl\":[{\"type\":\"heatmapgl\",\"colorbar\":{\"outlinewidth\":0,\"ticks\":\"\"},\"colorscale\":[[0.0,\"#0d0887\"],[0.1111111111111111,\"#46039f\"],[0.2222222222222222,\"#7201a8\"],[0.3333333333333333,\"#9c179e\"],[0.4444444444444444,\"#bd3786\"],[0.5555555555555556,\"#d8576b\"],[0.6666666666666666,\"#ed7953\"],[0.7777777777777778,\"#fb9f3a\"],[0.8888888888888888,\"#fdca26\"],[1.0,\"#f0f921\"]]}],\"contourcarpet\":[{\"type\":\"contourcarpet\",\"colorbar\":{\"outlinewidth\":0,\"ticks\":\"\"}}],\"contour\":[{\"type\":\"contour\",\"colorbar\":{\"outlinewidth\":0,\"ticks\":\"\"},\"colorscale\":[[0.0,\"#0d0887\"],[0.1111111111111111,\"#46039f\"],[0.2222222222222222,\"#7201a8\"],[0.3333333333333333,\"#9c179e\"],[0.4444444444444444,\"#bd3786\"],[0.5555555555555556,\"#d8576b\"],[0.6666666666666666,\"#ed7953\"],[0.7777777777777778,\"#fb9f3a\"],[0.8888888888888888,\"#fdca26\"],[1.0,\"#f0f921\"]]}],\"surface\":[{\"type\":\"surface\",\"colorbar\":{\"outlinewidth\":0,\"ticks\":\"\"},\"colorscale\":[[0.0,\"#0d0887\"],[0.1111111111111111,\"#46039f\"],[0.2222222222222222,\"#7201a8\"],[0.3333333333333333,\"#9c179e\"],[0.4444444444444444,\"#bd3786\"],[0.5555555555555556,\"#d8576b\"],[0.6666666666666666,\"#ed7953\"],[0.7777777777777778,\"#fb9f3a\"],[0.8888888888888888,\"#fdca26\"],[1.0,\"#f0f921\"]]}],\"mesh3d\":[{\"type\":\"mesh3d\",\"colorbar\":{\"outlinewidth\":0,\"ticks\":\"\"}}],\"scatter\":[{\"fillpattern\":{\"fillmode\":\"overlay\",\"size\":10,\"solidity\":0.2},\"type\":\"scatter\"}],\"parcoords\":[{\"type\":\"parcoords\",\"line\":{\"colorbar\":{\"outlinewidth\":0,\"ticks\":\"\"}}}],\"scatterpolargl\":[{\"type\":\"scatterpolargl\",\"marker\":{\"colorbar\":{\"outlinewidth\":0,\"ticks\":\"\"}}}],\"bar\":[{\"error_x\":{\"color\":\"#2a3f5f\"},\"error_y\":{\"color\":\"#2a3f5f\"},\"marker\":{\"line\":{\"color\":\"#E5ECF6\",\"width\":0.5},\"pattern\":{\"fillmode\":\"overlay\",\"size\":10,\"solidity\":0.2}},\"type\":\"bar\"}],\"scattergeo\":[{\"type\":\"scattergeo\",\"marker\":{\"colorbar\":{\"outlinewidth\":0,\"ticks\":\"\"}}}],\"scatterpolar\":[{\"type\":\"scatterpolar\",\"marker\":{\"colorbar\":{\"outlinewidth\":0,\"ticks\":\"\"}}}],\"histogram\":[{\"marker\":{\"pattern\":{\"fillmode\":\"overlay\",\"size\":10,\"solidity\":0.2}},\"type\":\"histogram\"}],\"scattergl\":[{\"type\":\"scattergl\",\"marker\":{\"colorbar\":{\"outlinewidth\":0,\"ticks\":\"\"}}}],\"scatter3d\":[{\"type\":\"scatter3d\",\"line\":{\"colorbar\":{\"outlinewidth\":0,\"ticks\":\"\"}},\"marker\":{\"colorbar\":{\"outlinewidth\":0,\"ticks\":\"\"}}}],\"scattermapbox\":[{\"type\":\"scattermapbox\",\"marker\":{\"colorbar\":{\"outlinewidth\":0,\"ticks\":\"\"}}}],\"scatterternary\":[{\"type\":\"scatterternary\",\"marker\":{\"colorbar\":{\"outlinewidth\":0,\"ticks\":\"\"}}}],\"scattercarpet\":[{\"type\":\"scattercarpet\",\"marker\":{\"colorbar\":{\"outlinewidth\":0,\"ticks\":\"\"}}}],\"carpet\":[{\"aaxis\":{\"endlinecolor\":\"#2a3f5f\",\"gridcolor\":\"white\",\"linecolor\":\"white\",\"minorgridcolor\":\"white\",\"startlinecolor\":\"#2a3f5f\"},\"baxis\":{\"endlinecolor\":\"#2a3f5f\",\"gridcolor\":\"white\",\"linecolor\":\"white\",\"minorgridcolor\":\"white\",\"startlinecolor\":\"#2a3f5f\"},\"type\":\"carpet\"}],\"table\":[{\"cells\":{\"fill\":{\"color\":\"#EBF0F8\"},\"line\":{\"color\":\"white\"}},\"header\":{\"fill\":{\"color\":\"#C8D4E3\"},\"line\":{\"color\":\"white\"}},\"type\":\"table\"}],\"barpolar\":[{\"marker\":{\"line\":{\"color\":\"#E5ECF6\",\"width\":0.5},\"pattern\":{\"fillmode\":\"overlay\",\"size\":10,\"solidity\":0.2}},\"type\":\"barpolar\"}],\"pie\":[{\"automargin\":true,\"type\":\"pie\"}]},\"layout\":{\"autotypenumbers\":\"strict\",\"colorway\":[\"#636efa\",\"#EF553B\",\"#00cc96\",\"#ab63fa\",\"#FFA15A\",\"#19d3f3\",\"#FF6692\",\"#B6E880\",\"#FF97FF\",\"#FECB52\"],\"font\":{\"color\":\"#2a3f5f\"},\"hovermode\":\"closest\",\"hoverlabel\":{\"align\":\"left\"},\"paper_bgcolor\":\"white\",\"plot_bgcolor\":\"#E5ECF6\",\"polar\":{\"bgcolor\":\"#E5ECF6\",\"angularaxis\":{\"gridcolor\":\"white\",\"linecolor\":\"white\",\"ticks\":\"\"},\"radialaxis\":{\"gridcolor\":\"white\",\"linecolor\":\"white\",\"ticks\":\"\"}},\"ternary\":{\"bgcolor\":\"#E5ECF6\",\"aaxis\":{\"gridcolor\":\"white\",\"linecolor\":\"white\",\"ticks\":\"\"},\"baxis\":{\"gridcolor\":\"white\",\"linecolor\":\"white\",\"ticks\":\"\"},\"caxis\":{\"gridcolor\":\"white\",\"linecolor\":\"white\",\"ticks\":\"\"}},\"coloraxis\":{\"colorbar\":{\"outlinewidth\":0,\"ticks\":\"\"}},\"colorscale\":{\"sequential\":[[0.0,\"#0d0887\"],[0.1111111111111111,\"#46039f\"],[0.2222222222222222,\"#7201a8\"],[0.3333333333333333,\"#9c179e\"],[0.4444444444444444,\"#bd3786\"],[0.5555555555555556,\"#d8576b\"],[0.6666666666666666,\"#ed7953\"],[0.7777777777777778,\"#fb9f3a\"],[0.8888888888888888,\"#fdca26\"],[1.0,\"#f0f921\"]],\"sequentialminus\":[[0.0,\"#0d0887\"],[0.1111111111111111,\"#46039f\"],[0.2222222222222222,\"#7201a8\"],[0.3333333333333333,\"#9c179e\"],[0.4444444444444444,\"#bd3786\"],[0.5555555555555556,\"#d8576b\"],[0.6666666666666666,\"#ed7953\"],[0.7777777777777778,\"#fb9f3a\"],[0.8888888888888888,\"#fdca26\"],[1.0,\"#f0f921\"]],\"diverging\":[[0,\"#8e0152\"],[0.1,\"#c51b7d\"],[0.2,\"#de77ae\"],[0.3,\"#f1b6da\"],[0.4,\"#fde0ef\"],[0.5,\"#f7f7f7\"],[0.6,\"#e6f5d0\"],[0.7,\"#b8e186\"],[0.8,\"#7fbc41\"],[0.9,\"#4d9221\"],[1,\"#276419\"]]},\"xaxis\":{\"gridcolor\":\"white\",\"linecolor\":\"white\",\"ticks\":\"\",\"title\":{\"standoff\":15},\"zerolinecolor\":\"white\",\"automargin\":true,\"zerolinewidth\":2},\"yaxis\":{\"gridcolor\":\"white\",\"linecolor\":\"white\",\"ticks\":\"\",\"title\":{\"standoff\":15},\"zerolinecolor\":\"white\",\"automargin\":true,\"zerolinewidth\":2},\"scene\":{\"xaxis\":{\"backgroundcolor\":\"#E5ECF6\",\"gridcolor\":\"white\",\"linecolor\":\"white\",\"showbackground\":true,\"ticks\":\"\",\"zerolinecolor\":\"white\",\"gridwidth\":2},\"yaxis\":{\"backgroundcolor\":\"#E5ECF6\",\"gridcolor\":\"white\",\"linecolor\":\"white\",\"showbackground\":true,\"ticks\":\"\",\"zerolinecolor\":\"white\",\"gridwidth\":2},\"zaxis\":{\"backgroundcolor\":\"#E5ECF6\",\"gridcolor\":\"white\",\"linecolor\":\"white\",\"showbackground\":true,\"ticks\":\"\",\"zerolinecolor\":\"white\",\"gridwidth\":2}},\"shapedefaults\":{\"line\":{\"color\":\"#2a3f5f\"}},\"annotationdefaults\":{\"arrowcolor\":\"#2a3f5f\",\"arrowhead\":0,\"arrowwidth\":1},\"geo\":{\"bgcolor\":\"white\",\"landcolor\":\"#E5ECF6\",\"subunitcolor\":\"white\",\"showland\":true,\"showlakes\":true,\"lakecolor\":\"white\"},\"title\":{\"x\":0.05},\"mapbox\":{\"style\":\"light\"}}},\"xaxis\":{\"anchor\":\"y\",\"domain\":[0.0,1.0],\"title\":{\"text\":\"Gender\"},\"categoryorder\":\"array\",\"categoryarray\":[\"Female\",\"Male\",\"Non-Binary\"]},\"yaxis\":{\"anchor\":\"x\",\"domain\":[0.0,1.0],\"title\":{\"text\":\"Performance Rating\"}},\"legend\":{\"title\":{\"text\":\"Gender\"},\"tracegroupgap\":0},\"title\":{\"text\":\"Performance Ration Distribution by Gender\"},\"boxmode\":\"overlay\"},                        {\"responsive\": true}                    ).then(function(){\n",
              "                            \n",
              "var gd = document.getElementById('9736f657-fe96-47b6-951f-072309ae87ee');\n",
              "var x = new MutationObserver(function (mutations, observer) {{\n",
              "        var display = window.getComputedStyle(gd).display;\n",
              "        if (!display || display === 'none') {{\n",
              "            console.log([gd, 'removed!']);\n",
              "            Plotly.purge(gd);\n",
              "            observer.disconnect();\n",
              "        }}\n",
              "}});\n",
              "\n",
              "// Listen for the removal of the full notebook cells\n",
              "var notebookContainer = gd.closest('#notebook-container');\n",
              "if (notebookContainer) {{\n",
              "    x.observe(notebookContainer, {childList: true});\n",
              "}}\n",
              "\n",
              "// Listen for the clearing of the current output cell\n",
              "var outputEl = gd.closest('.output');\n",
              "if (outputEl) {{\n",
              "    x.observe(outputEl, {childList: true});\n",
              "}}\n",
              "\n",
              "                        })                };                            </script>        </div>\n",
              "</body>\n",
              "</html>"
            ]
          },
          "metadata": {}
        }
      ]
    }
  ]
}
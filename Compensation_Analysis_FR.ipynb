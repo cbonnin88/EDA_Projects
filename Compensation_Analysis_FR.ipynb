{
  "nbformat": 4,
  "nbformat_minor": 0,
  "metadata": {
    "colab": {
      "provenance": [],
      "authorship_tag": "ABX9TyOowFk+DvosOeoH9l8uOrek",
      "include_colab_link": true
    },
    "kernelspec": {
      "name": "python3",
      "display_name": "Python 3"
    },
    "language_info": {
      "name": "python"
    }
  },
  "cells": [
    {
      "cell_type": "markdown",
      "metadata": {
        "id": "view-in-github",
        "colab_type": "text"
      },
      "source": [
        "<a href=\"https://colab.research.google.com/github/cbonnin88/EDA_Projects/blob/main/Compensation_Analysis_FR.ipynb\" target=\"_parent\"><img src=\"https://colab.research.google.com/assets/colab-badge.svg\" alt=\"Open In Colab\"/></a>"
      ]
    },
    {
      "cell_type": "code",
      "source": [
        "import re\n",
        "import polars as pl\n",
        "import plotly.express as px\n",
        "import plotly.io as pio"
      ],
      "metadata": {
        "id": "QDbNX1PcAXHT"
      },
      "execution_count": 240,
      "outputs": []
    },
    {
      "cell_type": "code",
      "source": [
        "paystub_text = \"\"\"\n",
        "| BULLETIN DE PAIE |\n",
        "| Période : 01/06/2024 au 30/06/2024 | | Date de paiement : 30/06/2024 |\n",
        "EMPLOYEUR\n",
        "Raison Sociale\n",
        "\tTech Solutions SARL\n",
        "\tAdresse\n",
        "\t123 Rue de l'Innovation, 75012 Paris, France\n",
        "\tSIRET\n",
        "\t123 456 789 00010\n",
        "\tCode NAF (APE)\n",
        "\t6202A - Conseil en systèmes et logiciels informatiques\n",
        "\tURSSAF\n",
        "\tÎle-de-France\n",
        "\tSALARIÉ\n",
        "Nom et Prénom\n",
        "\tDUBOIS, Marie\n",
        "\tAdresse\n",
        "\t45 Avenue du Bloit, 75013 Paris, France\n",
        "\tN° de Sécurité Sociale\n",
        "\t2 85 01 75 123 456 78\n",
        "\tEmploi\n",
        "\tAnalyste de Rémunération\n",
        "\tClassification\n",
        "\tCadre, Coefficient 350\n",
        "\tDate d'entrée\n",
        "\t15/01/2022\n",
        "\tAncienneté\n",
        "\t2 ans, 5 mois\n",
        "\tÉLÉMENTS DE RÉMUNÉRATION\n",
        "Libellé\n",
        "\tBase\n",
        "\tTaux\n",
        "\tMontant\n",
        "Salaire de base\n",
        "\t151,67 h\n",
        "\t25,00 €\n",
        "\t3 791,75 €\n",
        "Prime d'objectif\n",
        "\n",
        "\n",
        "\t500,00 €\n",
        "Salaire Brut\n",
        "\n",
        "\n",
        "\t4 291,75 €\n",
        "COTISATIONS ET CONTRIBUTIONS SOCIALES\n",
        "Libellé\tBase de Calcul\tTaux Salarial\tPart Salariale\tTaux Patronal\tPart Patronale\n",
        "SANTÉ\n",
        "Sécurité sociale - Maladie, Maternité\n",
        "\t4 291,75 €\n",
        "\t-\n",
        "\t-\n",
        "\t7,00%\n",
        "\t300,42 €\n",
        "Complémentaire Incapacité Invalidité Décès\n",
        "\t4 291,75 €\n",
        "\t0,70%\n",
        "\t30,04 €\n",
        "\t0,80%\n",
        "\t34,33 €\n",
        "Complémentaire Santé\n",
        "\t-\n",
        "\t-\n",
        "\t50,00 €\n",
        "\t-\n",
        "\t50,00 €\n",
        "ACCIDENTS DU TRAVAIL\n",
        "Accidents du travail - Maladies professionnelles\n",
        "\t4 291,75 €\n",
        "\t-\n",
        "\t-\n",
        "\t1,20%\n",
        "\t51,50 €\n",
        "RETRAITE\n",
        "Sécurité Sociale Plafonnée\n",
        "\t3 864,00 €\n",
        "\t6,90%\n",
        "\t266,62 €\n",
        "\t8,55%\n",
        "\t330,37 €\n",
        "Sécurité Sociale Déplafonnée\n",
        "\t4 291,75 €\n",
        "\t0,40%\n",
        "\t17,17 €\n",
        "\t1,90%\n",
        "\t81,54 €\n",
        "Complémentaire Tranche 1\n",
        "\t3 864,00 €\n",
        "\t3,15%\n",
        "\t121,72 €\n",
        "\t4,72%\n",
        "\t182,38 €\n",
        "Complémentaire Tranche 2\n",
        "\t427,75 €\n",
        "\t8,64%\n",
        "\t36,96 €\n",
        "\t12,95%\n",
        "\t55,40 €\n",
        "FAMILLE\n",
        "Allocations familiales\n",
        "\t4 291,75 €\n",
        "\t-\n",
        "\t-\n",
        "\t3,45%\n",
        "\t148,07 €\n",
        "CHÔMAGE\n",
        "Assurance chômage\n",
        "\t4 291,75 €\n",
        "\t-\n",
        "\t-\n",
        "\t4,05%\n",
        "\t173,82 €\n",
        "APEC\n",
        "\t4 291,75 €\n",
        "\t0,024%\n",
        "\t1,03 €\n",
        "\t0,036%\n",
        "\t1,54 €\n",
        "AUTRES CONTRIBUTIONS\n",
        "CSG déductible de l'impôt sur le revenu\n",
        "\t4 205,92 €\n",
        "\t6,80%\n",
        "\t286,00 €\n",
        "\t-\n",
        "\t-\n",
        "CSG/CRDS non déductible\n",
        "\t4 205,92 €\n",
        "\t2,90%\n",
        "\t121,97 €\n",
        "\t-\n",
        "\t-\n",
        "Total des retenues salariales\n",
        "\n",
        "\n",
        "\t931,51 €\n",
        "NET À PAYER\n",
        "Libellé\n",
        "\tMontant\n",
        "Salaire Brut\n",
        "\t4 291,75 €\n",
        "Total des retenues salariales\n",
        "\t- 931,51 €\n",
        "Net à payer avant impôt sur le revenu\n",
        "\t3 360,24 €\n",
        "IMPÔT SUR LE REVENU\n",
        "Base du prélèvement à la source\n",
        "\t3 238,27 €\n",
        "Taux de prélèvement (non personnalisé)\n",
        "\t9,00%\n",
        "Montant du prélèvement à la source\n",
        "\t- 291,44 €\n",
        "Net payé\n",
        "\t3 068,80 €\n",
        "\"\"\""
      ],
      "metadata": {
        "id": "1SK2TeizahWW"
      },
      "execution_count": 176,
      "outputs": []
    },
    {
      "cell_type": "code",
      "source": [
        "def parse_paystub(text):\n",
        "\n",
        "  def clean_number(s):\n",
        "   if s is None or s.strip() =='-' or s.strip() == '':\n",
        "      return 0.0\n",
        "   return float(s.strip().replace(' ','').replace('€','').replace(',','.'))\n",
        "\n",
        "\n",
        "  patterns = {\n",
        "      'salaire_brut':r'Salaire Brut\\s+([\\d\\s,.]+)\\s*€',\n",
        "      'total_retenues':r'Total des retenues salariales\\s+-\\s*([\\d\\s,.]+)\\s*€',\n",
        "      'net_avant_impot':r'Net à payer avant impôt sur le revenu\\s+([\\d\\s,.]+)\\s*€',\n",
        "      'impot':r'Montant du prélèvement à la source\\s+-\\s*([\\d\\s,.]+)\\s*€',\n",
        "      'net_paye':r'Net payé\\s+([\\d\\s,.]+)\\s*€'\n",
        "  }\n",
        "\n",
        "  extracted_data = {}\n",
        "  for key,pattern in patterns.items():\n",
        "    match = re.search(pattern,text)\n",
        "    if match:\n",
        "      extracted_data[key] = clean_number(match.group(1))\n",
        "\n",
        "  contributions = []\n",
        "  contribution_labels = [\n",
        "        \"Sécurité sociale - Maladie, Maternité\",\n",
        "        \"Complémentaire Incapacité Invalidité Décès\",\n",
        "        \"Complémentaire Santé\",\n",
        "        \"Accidents du travail - Maladies professionnelles\",\n",
        "        \"Sécurité Sociale Plafonnée\",\n",
        "        \"Sécurité Sociale Déplafonnée\",\n",
        "        \"Complémentaire Tranche 1\",\n",
        "        \"Complémentaire Tranche 2\",\n",
        "        \"Allocations familiales\",\n",
        "        \"Assurance chômage\",\n",
        "        \"APEC\",\n",
        "        \"CSG déductible de l'impôt sur le revenu\",\n",
        "        \"CSG/CRDS non déductible\"\n",
        "    ]\n",
        "\n",
        "  for label in contribution_labels:\n",
        "        pattern = re.compile(rf\"^{re.escape(label)}\\s*\\n\\s*(.*?)\\n\\s*(.*?)\\n\\s*(.*?)\\n\\s*(.*?)\\n\\s*(.*?)$\", re.MULTILINE)\n",
        "        match = pattern.search(text)\n",
        "\n",
        "        if match:\n",
        "            contributions.append({\n",
        "                \"Libellé\": label,\n",
        "                \"Base de Calcul\": clean_number(match.group(1)),\n",
        "                \"Taux Salarial\": match.group(2).strip(),\n",
        "                \"Part Salariale\": clean_number(match.group(3)),\n",
        "                \"Taux Patronal\": match.group(4).strip(),\n",
        "                \"Part Patronale\": clean_number(match.group(5))\n",
        "            })\n",
        "\n",
        "\n",
        "  extracted_data['contributions'] = contributions\n",
        "  return extracted_data\n",
        "\n",
        "pay_data = parse_paystub(paystub_text)\n",
        "\n",
        "if pay_data is None:\n",
        "    print(\"Fatal Error: The parse_paystub function failed and returned None.\")\n",
        "elif not pay_data.get('contributions'):\n",
        "    print(\"Error: No contribution data was extracted. The DataFrame cannot be created.\")\n",
        "else:\n",
        "    print(\"--- Extracted Pay Data (Summary) ---\")\n",
        "    for key, value in pay_data.items():\n",
        "        if key != 'contributions':\n",
        "            print(f\"{key}: {value}\")\n",
        "    print(\"-\" * 20)\n",
        "\n",
        "\n",
        "\n",
        "df_paystub = pl.DataFrame(pay_data['contributions'])\n",
        "df_paystub = df_paystub.with_columns(\n",
        "    pl.when(pl.col('Libellé').str.contains('Santé|Maladie'))\n",
        "      .then(pl.lit('Santé'))\n",
        "      .when(pl.col('Libellé').str.contains('Accident'))\n",
        "      .then(pl.lit('Accidents du Travail'))\n",
        "      .when(pl.col('Libellé').str.contains('Retraite|Sociale|Complémentaire Tranche'))\n",
        "      .then(pl.lit('Retraite'))\n",
        "      .when(pl.col('Libellé').str.contains('familiales'))\n",
        "      .then(pl.lit('Famille'))\n",
        "      .when(pl.col('Libellé').str.contains('chômage|APEC'))\n",
        "      .then(pl.lit('Chômage'))\n",
        "      .when(pl.col('Libellé').str.contains('CSG|CRDS'))\n",
        "      .then(pl.lit('Autres Contributions'))\n",
        "      .otherwise(pl.lit('Autres Contributions'))\n",
        "      .alias('Catégorie')\n",
        "\n",
        ")\n",
        "\n",
        "total_part_patronale = df_paystub['Part Patronale'].sum()\n",
        "total_labor_cost = pay_data['salaire_brut'] + total_part_patronale\n",
        "\n",
        "print('\\n--- Compensation Analysis ---')\n",
        "print(f'Salaire Brut: €{pay_data[\"salaire_brut\"]:.2f}')\n",
        "print(f'Total Cotisations Patronales: €{total_part_patronale:.2f}')\n",
        "print(f'Coût Total Employeur: €{total_labor_cost:.2f}')\n",
        "\n",
        "net_to_cost_ratio = (pay_data['net_paye']/ total_labor_cost) * 100\n",
        "print(f'Ratio Net Payé / Coût Total: {net_to_cost_ratio:.1f}%')\n",
        "\n",
        "employer_contributions_by_cat = df_paystub.group_by('Catégorie').agg(\n",
        "    pl.sum('Part Patronale').alias('Total_Part_Patronale')\n",
        ").sort('Total_Part_Patronale',descending=True)\n",
        "\n",
        "\n",
        "print('\\nRépartition des Cotisations Patronales Par Catégorie')\n",
        "display(employer_contributions_by_cat)"
      ],
      "metadata": {
        "colab": {
          "base_uri": "https://localhost:8080/",
          "height": 515
        },
        "id": "55lRB4GfAtct",
        "outputId": "80c36e26-9843-4c6a-8340-c78e0e22961e"
      },
      "execution_count": 220,
      "outputs": [
        {
          "output_type": "stream",
          "name": "stdout",
          "text": [
            "--- Extracted Pay Data (Summary) ---\n",
            "salaire_brut: 4291.75\n",
            "total_retenues: 931.51\n",
            "net_avant_impot: 3360.24\n",
            "impot: 291.44\n",
            "net_paye: 3068.8\n",
            "--------------------\n",
            "\n",
            "--- Compensation Analysis ---\n",
            "Salaire Brut: €4291.75\n",
            "Total Cotisations Patronales: €1409.37\n",
            "Coût Total Employeur: €5701.12\n",
            "Ratio Net Payé / Coût Total: 53.8%\n",
            "\n",
            "Répartition des Cotisations Patronales Par Catégorie\n"
          ]
        },
        {
          "output_type": "display_data",
          "data": {
            "text/plain": [
              "shape: (5, 2)\n",
              "┌──────────────────────┬──────────────────────┐\n",
              "│ Catégorie            ┆ Total_Part_Patronale │\n",
              "│ ---                  ┆ ---                  │\n",
              "│ str                  ┆ f64                  │\n",
              "╞══════════════════════╪══════════════════════╡\n",
              "│ Retraite             ┆ 649.69               │\n",
              "│ Santé                ┆ 401.92               │\n",
              "│ Chômage              ┆ 175.36               │\n",
              "│ Famille              ┆ 148.07               │\n",
              "│ Autres Contributions ┆ 34.33                │\n",
              "└──────────────────────┴──────────────────────┘"
            ],
            "text/html": [
              "<div><style>\n",
              ".dataframe > thead > tr,\n",
              ".dataframe > tbody > tr {\n",
              "  text-align: right;\n",
              "  white-space: pre-wrap;\n",
              "}\n",
              "</style>\n",
              "<small>shape: (5, 2)</small><table border=\"1\" class=\"dataframe\"><thead><tr><th>Catégorie</th><th>Total_Part_Patronale</th></tr><tr><td>str</td><td>f64</td></tr></thead><tbody><tr><td>&quot;Retraite&quot;</td><td>649.69</td></tr><tr><td>&quot;Santé&quot;</td><td>401.92</td></tr><tr><td>&quot;Chômage&quot;</td><td>175.36</td></tr><tr><td>&quot;Famille&quot;</td><td>148.07</td></tr><tr><td>&quot;Autres Contributions&quot;</td><td>34.33</td></tr></tbody></table></div>"
            ]
          },
          "metadata": {}
        }
      ]
    },
    {
      "cell_type": "markdown",
      "source": [
        "# **Data Visualizations with Plotly**"
      ],
      "metadata": {
        "id": "3GqN6ItacZRP"
      }
    },
    {
      "cell_type": "code",
      "source": [
        "waterfall_data = [\n",
        "    {'measure':'relative','x':'Salaire Brut', 'y':pay_data['salaire_brut']},\n",
        "    {'measure':'relative','x':'Cotisations Salariales','y':-pay_data['total_retenues']},\n",
        "    {'measure':'total','x':'Net Avant Impôt','y':pay_data['net_avant_impot']},\n",
        "    {'measure':'relative','x':'Impôt sur le Revenu','y':-pay_data['impot']},\n",
        "    {'measure':'total','x':'Net Payé','y':pay_data['net_paye']}\n",
        "\n",
        "]\n",
        "waterfall_df = pl.DataFrame(waterfall_data)"
      ],
      "metadata": {
        "id": "GYVT_6HKcJQ1"
      },
      "execution_count": 221,
      "outputs": []
    },
    {
      "cell_type": "code",
      "source": [
        "fig_waterfall = px.bar(waterfall_df,\n",
        "                       x='x',\n",
        "                       y='y',\n",
        "                       color ='measure',\n",
        "                       labels = {'x': 'Etape', 'y':'Montant (€)'},\n",
        "                       title = 'De Salaire Brut à net Payé',\n",
        "                       text= [f'€{val:.2f}' for val in waterfall_df['y']],\n",
        "                       color_discrete_sequence = px.colors.sequential.Viridis_r\n",
        "                     )\n",
        "fig_waterfall.update_traces(textposition='outside')\n",
        "fig_waterfall.update_layout(showlegend=False)\n",
        "fig_waterfall.show()"
      ],
      "metadata": {
        "colab": {
          "base_uri": "https://localhost:8080/",
          "height": 542
        },
        "id": "phry4Uj0IWuQ",
        "outputId": "14a24790-88ec-4168-f67b-28525c1ad105"
      },
      "execution_count": 222,
      "outputs": [
        {
          "output_type": "display_data",
          "data": {
            "text/html": [
              "<html>\n",
              "<head><meta charset=\"utf-8\" /></head>\n",
              "<body>\n",
              "    <div>            <script src=\"https://cdnjs.cloudflare.com/ajax/libs/mathjax/2.7.5/MathJax.js?config=TeX-AMS-MML_SVG\"></script><script type=\"text/javascript\">if (window.MathJax && window.MathJax.Hub && window.MathJax.Hub.Config) {window.MathJax.Hub.Config({SVG: {font: \"STIX-Web\"}});}</script>                <script type=\"text/javascript\">window.PlotlyConfig = {MathJaxConfig: 'local'};</script>\n",
              "        <script charset=\"utf-8\" src=\"https://cdn.plot.ly/plotly-2.35.2.min.js\"></script>                <div id=\"e133a162-5866-42fa-8b23-225559379839\" class=\"plotly-graph-div\" style=\"height:525px; width:100%;\"></div>            <script type=\"text/javascript\">                                    window.PLOTLYENV=window.PLOTLYENV || {};                                    if (document.getElementById(\"e133a162-5866-42fa-8b23-225559379839\")) {                    Plotly.newPlot(                        \"e133a162-5866-42fa-8b23-225559379839\",                        [{\"alignmentgroup\":\"True\",\"hovertemplate\":\"measure=relative\\u003cbr\\u003eEtape=%{x}\\u003cbr\\u003eMontant (€)=%{y}\\u003cbr\\u003etext=%{text}\\u003cextra\\u003e\\u003c\\u002fextra\\u003e\",\"legendgroup\":\"relative\",\"marker\":{\"color\":\"#fde725\",\"pattern\":{\"shape\":\"\"}},\"name\":\"relative\",\"offsetgroup\":\"relative\",\"orientation\":\"v\",\"showlegend\":true,\"text\":[\"€4291.75\",\"€-931.51\",\"€-291.44\"],\"textposition\":\"outside\",\"x\":[\"Salaire Brut\",\"Cotisations Salariales\",\"Impôt sur le Revenu\"],\"xaxis\":\"x\",\"y\":[4291.75,-931.51,-291.44],\"yaxis\":\"y\",\"type\":\"bar\"},{\"alignmentgroup\":\"True\",\"hovertemplate\":\"measure=total\\u003cbr\\u003eEtape=%{x}\\u003cbr\\u003eMontant (€)=%{y}\\u003cbr\\u003etext=%{text}\\u003cextra\\u003e\\u003c\\u002fextra\\u003e\",\"legendgroup\":\"total\",\"marker\":{\"color\":\"#b5de2b\",\"pattern\":{\"shape\":\"\"}},\"name\":\"total\",\"offsetgroup\":\"total\",\"orientation\":\"v\",\"showlegend\":true,\"text\":[\"€3360.24\",\"€3068.80\"],\"textposition\":\"outside\",\"x\":[\"Net Avant Impôt\",\"Net Payé\"],\"xaxis\":\"x\",\"y\":[3360.24,3068.8],\"yaxis\":\"y\",\"type\":\"bar\"}],                        {\"template\":{\"data\":{\"histogram2dcontour\":[{\"type\":\"histogram2dcontour\",\"colorbar\":{\"outlinewidth\":0,\"ticks\":\"\"},\"colorscale\":[[0.0,\"#0d0887\"],[0.1111111111111111,\"#46039f\"],[0.2222222222222222,\"#7201a8\"],[0.3333333333333333,\"#9c179e\"],[0.4444444444444444,\"#bd3786\"],[0.5555555555555556,\"#d8576b\"],[0.6666666666666666,\"#ed7953\"],[0.7777777777777778,\"#fb9f3a\"],[0.8888888888888888,\"#fdca26\"],[1.0,\"#f0f921\"]]}],\"choropleth\":[{\"type\":\"choropleth\",\"colorbar\":{\"outlinewidth\":0,\"ticks\":\"\"}}],\"histogram2d\":[{\"type\":\"histogram2d\",\"colorbar\":{\"outlinewidth\":0,\"ticks\":\"\"},\"colorscale\":[[0.0,\"#0d0887\"],[0.1111111111111111,\"#46039f\"],[0.2222222222222222,\"#7201a8\"],[0.3333333333333333,\"#9c179e\"],[0.4444444444444444,\"#bd3786\"],[0.5555555555555556,\"#d8576b\"],[0.6666666666666666,\"#ed7953\"],[0.7777777777777778,\"#fb9f3a\"],[0.8888888888888888,\"#fdca26\"],[1.0,\"#f0f921\"]]}],\"heatmap\":[{\"type\":\"heatmap\",\"colorbar\":{\"outlinewidth\":0,\"ticks\":\"\"},\"colorscale\":[[0.0,\"#0d0887\"],[0.1111111111111111,\"#46039f\"],[0.2222222222222222,\"#7201a8\"],[0.3333333333333333,\"#9c179e\"],[0.4444444444444444,\"#bd3786\"],[0.5555555555555556,\"#d8576b\"],[0.6666666666666666,\"#ed7953\"],[0.7777777777777778,\"#fb9f3a\"],[0.8888888888888888,\"#fdca26\"],[1.0,\"#f0f921\"]]}],\"heatmapgl\":[{\"type\":\"heatmapgl\",\"colorbar\":{\"outlinewidth\":0,\"ticks\":\"\"},\"colorscale\":[[0.0,\"#0d0887\"],[0.1111111111111111,\"#46039f\"],[0.2222222222222222,\"#7201a8\"],[0.3333333333333333,\"#9c179e\"],[0.4444444444444444,\"#bd3786\"],[0.5555555555555556,\"#d8576b\"],[0.6666666666666666,\"#ed7953\"],[0.7777777777777778,\"#fb9f3a\"],[0.8888888888888888,\"#fdca26\"],[1.0,\"#f0f921\"]]}],\"contourcarpet\":[{\"type\":\"contourcarpet\",\"colorbar\":{\"outlinewidth\":0,\"ticks\":\"\"}}],\"contour\":[{\"type\":\"contour\",\"colorbar\":{\"outlinewidth\":0,\"ticks\":\"\"},\"colorscale\":[[0.0,\"#0d0887\"],[0.1111111111111111,\"#46039f\"],[0.2222222222222222,\"#7201a8\"],[0.3333333333333333,\"#9c179e\"],[0.4444444444444444,\"#bd3786\"],[0.5555555555555556,\"#d8576b\"],[0.6666666666666666,\"#ed7953\"],[0.7777777777777778,\"#fb9f3a\"],[0.8888888888888888,\"#fdca26\"],[1.0,\"#f0f921\"]]}],\"surface\":[{\"type\":\"surface\",\"colorbar\":{\"outlinewidth\":0,\"ticks\":\"\"},\"colorscale\":[[0.0,\"#0d0887\"],[0.1111111111111111,\"#46039f\"],[0.2222222222222222,\"#7201a8\"],[0.3333333333333333,\"#9c179e\"],[0.4444444444444444,\"#bd3786\"],[0.5555555555555556,\"#d8576b\"],[0.6666666666666666,\"#ed7953\"],[0.7777777777777778,\"#fb9f3a\"],[0.8888888888888888,\"#fdca26\"],[1.0,\"#f0f921\"]]}],\"mesh3d\":[{\"type\":\"mesh3d\",\"colorbar\":{\"outlinewidth\":0,\"ticks\":\"\"}}],\"scatter\":[{\"fillpattern\":{\"fillmode\":\"overlay\",\"size\":10,\"solidity\":0.2},\"type\":\"scatter\"}],\"parcoords\":[{\"type\":\"parcoords\",\"line\":{\"colorbar\":{\"outlinewidth\":0,\"ticks\":\"\"}}}],\"scatterpolargl\":[{\"type\":\"scatterpolargl\",\"marker\":{\"colorbar\":{\"outlinewidth\":0,\"ticks\":\"\"}}}],\"bar\":[{\"error_x\":{\"color\":\"#2a3f5f\"},\"error_y\":{\"color\":\"#2a3f5f\"},\"marker\":{\"line\":{\"color\":\"#E5ECF6\",\"width\":0.5},\"pattern\":{\"fillmode\":\"overlay\",\"size\":10,\"solidity\":0.2}},\"type\":\"bar\"}],\"scattergeo\":[{\"type\":\"scattergeo\",\"marker\":{\"colorbar\":{\"outlinewidth\":0,\"ticks\":\"\"}}}],\"scatterpolar\":[{\"type\":\"scatterpolar\",\"marker\":{\"colorbar\":{\"outlinewidth\":0,\"ticks\":\"\"}}}],\"histogram\":[{\"marker\":{\"pattern\":{\"fillmode\":\"overlay\",\"size\":10,\"solidity\":0.2}},\"type\":\"histogram\"}],\"scattergl\":[{\"type\":\"scattergl\",\"marker\":{\"colorbar\":{\"outlinewidth\":0,\"ticks\":\"\"}}}],\"scatter3d\":[{\"type\":\"scatter3d\",\"line\":{\"colorbar\":{\"outlinewidth\":0,\"ticks\":\"\"}},\"marker\":{\"colorbar\":{\"outlinewidth\":0,\"ticks\":\"\"}}}],\"scattermapbox\":[{\"type\":\"scattermapbox\",\"marker\":{\"colorbar\":{\"outlinewidth\":0,\"ticks\":\"\"}}}],\"scatterternary\":[{\"type\":\"scatterternary\",\"marker\":{\"colorbar\":{\"outlinewidth\":0,\"ticks\":\"\"}}}],\"scattercarpet\":[{\"type\":\"scattercarpet\",\"marker\":{\"colorbar\":{\"outlinewidth\":0,\"ticks\":\"\"}}}],\"carpet\":[{\"aaxis\":{\"endlinecolor\":\"#2a3f5f\",\"gridcolor\":\"white\",\"linecolor\":\"white\",\"minorgridcolor\":\"white\",\"startlinecolor\":\"#2a3f5f\"},\"baxis\":{\"endlinecolor\":\"#2a3f5f\",\"gridcolor\":\"white\",\"linecolor\":\"white\",\"minorgridcolor\":\"white\",\"startlinecolor\":\"#2a3f5f\"},\"type\":\"carpet\"}],\"table\":[{\"cells\":{\"fill\":{\"color\":\"#EBF0F8\"},\"line\":{\"color\":\"white\"}},\"header\":{\"fill\":{\"color\":\"#C8D4E3\"},\"line\":{\"color\":\"white\"}},\"type\":\"table\"}],\"barpolar\":[{\"marker\":{\"line\":{\"color\":\"#E5ECF6\",\"width\":0.5},\"pattern\":{\"fillmode\":\"overlay\",\"size\":10,\"solidity\":0.2}},\"type\":\"barpolar\"}],\"pie\":[{\"automargin\":true,\"type\":\"pie\"}]},\"layout\":{\"autotypenumbers\":\"strict\",\"colorway\":[\"#636efa\",\"#EF553B\",\"#00cc96\",\"#ab63fa\",\"#FFA15A\",\"#19d3f3\",\"#FF6692\",\"#B6E880\",\"#FF97FF\",\"#FECB52\"],\"font\":{\"color\":\"#2a3f5f\"},\"hovermode\":\"closest\",\"hoverlabel\":{\"align\":\"left\"},\"paper_bgcolor\":\"white\",\"plot_bgcolor\":\"#E5ECF6\",\"polar\":{\"bgcolor\":\"#E5ECF6\",\"angularaxis\":{\"gridcolor\":\"white\",\"linecolor\":\"white\",\"ticks\":\"\"},\"radialaxis\":{\"gridcolor\":\"white\",\"linecolor\":\"white\",\"ticks\":\"\"}},\"ternary\":{\"bgcolor\":\"#E5ECF6\",\"aaxis\":{\"gridcolor\":\"white\",\"linecolor\":\"white\",\"ticks\":\"\"},\"baxis\":{\"gridcolor\":\"white\",\"linecolor\":\"white\",\"ticks\":\"\"},\"caxis\":{\"gridcolor\":\"white\",\"linecolor\":\"white\",\"ticks\":\"\"}},\"coloraxis\":{\"colorbar\":{\"outlinewidth\":0,\"ticks\":\"\"}},\"colorscale\":{\"sequential\":[[0.0,\"#0d0887\"],[0.1111111111111111,\"#46039f\"],[0.2222222222222222,\"#7201a8\"],[0.3333333333333333,\"#9c179e\"],[0.4444444444444444,\"#bd3786\"],[0.5555555555555556,\"#d8576b\"],[0.6666666666666666,\"#ed7953\"],[0.7777777777777778,\"#fb9f3a\"],[0.8888888888888888,\"#fdca26\"],[1.0,\"#f0f921\"]],\"sequentialminus\":[[0.0,\"#0d0887\"],[0.1111111111111111,\"#46039f\"],[0.2222222222222222,\"#7201a8\"],[0.3333333333333333,\"#9c179e\"],[0.4444444444444444,\"#bd3786\"],[0.5555555555555556,\"#d8576b\"],[0.6666666666666666,\"#ed7953\"],[0.7777777777777778,\"#fb9f3a\"],[0.8888888888888888,\"#fdca26\"],[1.0,\"#f0f921\"]],\"diverging\":[[0,\"#8e0152\"],[0.1,\"#c51b7d\"],[0.2,\"#de77ae\"],[0.3,\"#f1b6da\"],[0.4,\"#fde0ef\"],[0.5,\"#f7f7f7\"],[0.6,\"#e6f5d0\"],[0.7,\"#b8e186\"],[0.8,\"#7fbc41\"],[0.9,\"#4d9221\"],[1,\"#276419\"]]},\"xaxis\":{\"gridcolor\":\"white\",\"linecolor\":\"white\",\"ticks\":\"\",\"title\":{\"standoff\":15},\"zerolinecolor\":\"white\",\"automargin\":true,\"zerolinewidth\":2},\"yaxis\":{\"gridcolor\":\"white\",\"linecolor\":\"white\",\"ticks\":\"\",\"title\":{\"standoff\":15},\"zerolinecolor\":\"white\",\"automargin\":true,\"zerolinewidth\":2},\"scene\":{\"xaxis\":{\"backgroundcolor\":\"#E5ECF6\",\"gridcolor\":\"white\",\"linecolor\":\"white\",\"showbackground\":true,\"ticks\":\"\",\"zerolinecolor\":\"white\",\"gridwidth\":2},\"yaxis\":{\"backgroundcolor\":\"#E5ECF6\",\"gridcolor\":\"white\",\"linecolor\":\"white\",\"showbackground\":true,\"ticks\":\"\",\"zerolinecolor\":\"white\",\"gridwidth\":2},\"zaxis\":{\"backgroundcolor\":\"#E5ECF6\",\"gridcolor\":\"white\",\"linecolor\":\"white\",\"showbackground\":true,\"ticks\":\"\",\"zerolinecolor\":\"white\",\"gridwidth\":2}},\"shapedefaults\":{\"line\":{\"color\":\"#2a3f5f\"}},\"annotationdefaults\":{\"arrowcolor\":\"#2a3f5f\",\"arrowhead\":0,\"arrowwidth\":1},\"geo\":{\"bgcolor\":\"white\",\"landcolor\":\"#E5ECF6\",\"subunitcolor\":\"white\",\"showland\":true,\"showlakes\":true,\"lakecolor\":\"white\"},\"title\":{\"x\":0.05},\"mapbox\":{\"style\":\"light\"}}},\"xaxis\":{\"anchor\":\"y\",\"domain\":[0.0,1.0],\"title\":{\"text\":\"Etape\"}},\"yaxis\":{\"anchor\":\"x\",\"domain\":[0.0,1.0],\"title\":{\"text\":\"Montant (€)\"}},\"legend\":{\"title\":{\"text\":\"measure\"},\"tracegroupgap\":0},\"title\":{\"text\":\"De Salaire Brut à net Payé\"},\"barmode\":\"relative\",\"showlegend\":false},                        {\"responsive\": true}                    ).then(function(){\n",
              "                            \n",
              "var gd = document.getElementById('e133a162-5866-42fa-8b23-225559379839');\n",
              "var x = new MutationObserver(function (mutations, observer) {{\n",
              "        var display = window.getComputedStyle(gd).display;\n",
              "        if (!display || display === 'none') {{\n",
              "            console.log([gd, 'removed!']);\n",
              "            Plotly.purge(gd);\n",
              "            observer.disconnect();\n",
              "        }}\n",
              "}});\n",
              "\n",
              "// Listen for the removal of the full notebook cells\n",
              "var notebookContainer = gd.closest('#notebook-container');\n",
              "if (notebookContainer) {{\n",
              "    x.observe(notebookContainer, {childList: true});\n",
              "}}\n",
              "\n",
              "// Listen for the clearing of the current output cell\n",
              "var outputEl = gd.closest('.output');\n",
              "if (outputEl) {{\n",
              "    x.observe(outputEl, {childList: true});\n",
              "}}\n",
              "\n",
              "                        })                };                            </script>        </div>\n",
              "</body>\n",
              "</html>"
            ]
          },
          "metadata": {}
        }
      ]
    },
    {
      "cell_type": "code",
      "source": [
        "sunburst_data = {\n",
        "        'ids': ['Coût Total Employeur', 'Salaire Brut', 'Cotisations Patronales'],\n",
        "        'parents': ['', 'Coût Total Employeur', 'Coût Total Employeur'],\n",
        "        'values': [total_labor_cost, pay_data.get('salaire_brut', 0), total_part_patronale]\n",
        "    }\n",
        "\n",
        "for row in employer_contributions_by_cat.iter_rows(named=True):\n",
        "    if row['Total_Part_Patronale'] > 0:\n",
        "      sunburst_data['ids'].append(row['Catégorie'])\n",
        "      sunburst_data['parents'].append('Cotisations Patronales')\n",
        "      sunburst_data['values'].append(row['Total_Part_Patronale'])\n",
        "\n",
        "plot_df = pl.DataFrame(sunburst_data)\n",
        "\n",
        "print(\"\\n--- Sunburst Chart DataFrame (plot_df) ---\")\n",
        "display(plot_df)"
      ],
      "metadata": {
        "colab": {
          "base_uri": "https://localhost:8080/",
          "height": 383
        },
        "id": "TNkJVrhNzerg",
        "outputId": "3860651b-487d-4d40-a0f1-0462d2acfc2c"
      },
      "execution_count": 238,
      "outputs": [
        {
          "output_type": "stream",
          "name": "stdout",
          "text": [
            "\n",
            "--- Sunburst Chart DataFrame (plot_df) ---\n"
          ]
        },
        {
          "output_type": "display_data",
          "data": {
            "text/plain": [
              "shape: (8, 3)\n",
              "┌────────────────────────┬────────────────────────┬─────────┐\n",
              "│ ids                    ┆ parents                ┆ values  │\n",
              "│ ---                    ┆ ---                    ┆ ---     │\n",
              "│ str                    ┆ str                    ┆ f64     │\n",
              "╞════════════════════════╪════════════════════════╪═════════╡\n",
              "│ Coût Total Employeur   ┆                        ┆ 5701.12 │\n",
              "│ Salaire Brut           ┆ Coût Total Employeur   ┆ 4291.75 │\n",
              "│ Cotisations Patronales ┆ Coût Total Employeur   ┆ 1409.37 │\n",
              "│ Retraite               ┆ Cotisations Patronales ┆ 649.69  │\n",
              "│ Santé                  ┆ Cotisations Patronales ┆ 401.92  │\n",
              "│ Chômage                ┆ Cotisations Patronales ┆ 175.36  │\n",
              "│ Famille                ┆ Cotisations Patronales ┆ 148.07  │\n",
              "│ Autres Contributions   ┆ Cotisations Patronales ┆ 34.33   │\n",
              "└────────────────────────┴────────────────────────┴─────────┘"
            ],
            "text/html": [
              "<div><style>\n",
              ".dataframe > thead > tr,\n",
              ".dataframe > tbody > tr {\n",
              "  text-align: right;\n",
              "  white-space: pre-wrap;\n",
              "}\n",
              "</style>\n",
              "<small>shape: (8, 3)</small><table border=\"1\" class=\"dataframe\"><thead><tr><th>ids</th><th>parents</th><th>values</th></tr><tr><td>str</td><td>str</td><td>f64</td></tr></thead><tbody><tr><td>&quot;Coût Total Employeur&quot;</td><td>&quot;&quot;</td><td>5701.12</td></tr><tr><td>&quot;Salaire Brut&quot;</td><td>&quot;Coût Total Employeur&quot;</td><td>4291.75</td></tr><tr><td>&quot;Cotisations Patronales&quot;</td><td>&quot;Coût Total Employeur&quot;</td><td>1409.37</td></tr><tr><td>&quot;Retraite&quot;</td><td>&quot;Cotisations Patronales&quot;</td><td>649.69</td></tr><tr><td>&quot;Santé&quot;</td><td>&quot;Cotisations Patronales&quot;</td><td>401.92</td></tr><tr><td>&quot;Chômage&quot;</td><td>&quot;Cotisations Patronales&quot;</td><td>175.36</td></tr><tr><td>&quot;Famille&quot;</td><td>&quot;Cotisations Patronales&quot;</td><td>148.07</td></tr><tr><td>&quot;Autres Contributions&quot;</td><td>&quot;Cotisations Patronales&quot;</td><td>34.33</td></tr></tbody></table></div>"
            ]
          },
          "metadata": {}
        }
      ]
    },
    {
      "cell_type": "code",
      "source": [
        "pio.renderers.default = 'colab'\n",
        "\n",
        "fig_sunburst = px.sunburst(\n",
        "        plot_df,\n",
        "        names='ids',\n",
        "        parents='parents',\n",
        "        values='values',\n",
        "        title='Répartition du Coût Total Employeur',\n",
        "        branchvalues='total',\n",
        "        color_discrete_sequence = px.colors.sequential.Plasma_r\n",
        "    )\n",
        "\n",
        "fig_sunburst.update_traces(textinfo='label+percent parent')\n",
        "fig_sunburst.show()"
      ],
      "metadata": {
        "colab": {
          "base_uri": "https://localhost:8080/",
          "height": 542
        },
        "id": "n60uGlFnz_Mf",
        "outputId": "bccc71b6-1045-4f0d-ba68-1634d9f923da"
      },
      "execution_count": 250,
      "outputs": [
        {
          "output_type": "display_data",
          "data": {
            "text/html": [
              "<html>\n",
              "<head><meta charset=\"utf-8\" /></head>\n",
              "<body>\n",
              "    <div>            <script src=\"https://cdnjs.cloudflare.com/ajax/libs/mathjax/2.7.5/MathJax.js?config=TeX-AMS-MML_SVG\"></script><script type=\"text/javascript\">if (window.MathJax && window.MathJax.Hub && window.MathJax.Hub.Config) {window.MathJax.Hub.Config({SVG: {font: \"STIX-Web\"}});}</script>                <script type=\"text/javascript\">window.PlotlyConfig = {MathJaxConfig: 'local'};</script>\n",
              "        <script charset=\"utf-8\" src=\"https://cdn.plot.ly/plotly-2.35.2.min.js\"></script>                <div id=\"81b71c5a-add4-40a7-a5f1-45ed2a98dc6d\" class=\"plotly-graph-div\" style=\"height:525px; width:100%;\"></div>            <script type=\"text/javascript\">                                    window.PLOTLYENV=window.PLOTLYENV || {};                                    if (document.getElementById(\"81b71c5a-add4-40a7-a5f1-45ed2a98dc6d\")) {                    Plotly.newPlot(                        \"81b71c5a-add4-40a7-a5f1-45ed2a98dc6d\",                        [{\"branchvalues\":\"total\",\"domain\":{\"x\":[0.0,1.0],\"y\":[0.0,1.0]},\"hovertemplate\":\"ids=%{label}\\u003cbr\\u003evalue=%{value}\\u003cbr\\u003eparent=%{parent}\\u003cextra\\u003e\\u003c\\u002fextra\\u003e\",\"labels\":[\"Coût Total Employeur\",\"Salaire Brut\",\"Cotisations Patronales\",\"Retraite\",\"Santé\",\"Chômage\",\"Famille\",\"Autres Contributions\"],\"name\":\"\",\"parents\":[\"\",\"Coût Total Employeur\",\"Coût Total Employeur\",\"Cotisations Patronales\",\"Cotisations Patronales\",\"Cotisations Patronales\",\"Cotisations Patronales\",\"Cotisations Patronales\"],\"values\":[5701.12,4291.75,1409.37,649.6899999999999,401.92,175.35999999999999,148.07,34.33],\"type\":\"sunburst\",\"textinfo\":\"label+percent parent\"}],                        {\"template\":{\"data\":{\"histogram2dcontour\":[{\"type\":\"histogram2dcontour\",\"colorbar\":{\"outlinewidth\":0,\"ticks\":\"\"},\"colorscale\":[[0.0,\"#0d0887\"],[0.1111111111111111,\"#46039f\"],[0.2222222222222222,\"#7201a8\"],[0.3333333333333333,\"#9c179e\"],[0.4444444444444444,\"#bd3786\"],[0.5555555555555556,\"#d8576b\"],[0.6666666666666666,\"#ed7953\"],[0.7777777777777778,\"#fb9f3a\"],[0.8888888888888888,\"#fdca26\"],[1.0,\"#f0f921\"]]}],\"choropleth\":[{\"type\":\"choropleth\",\"colorbar\":{\"outlinewidth\":0,\"ticks\":\"\"}}],\"histogram2d\":[{\"type\":\"histogram2d\",\"colorbar\":{\"outlinewidth\":0,\"ticks\":\"\"},\"colorscale\":[[0.0,\"#0d0887\"],[0.1111111111111111,\"#46039f\"],[0.2222222222222222,\"#7201a8\"],[0.3333333333333333,\"#9c179e\"],[0.4444444444444444,\"#bd3786\"],[0.5555555555555556,\"#d8576b\"],[0.6666666666666666,\"#ed7953\"],[0.7777777777777778,\"#fb9f3a\"],[0.8888888888888888,\"#fdca26\"],[1.0,\"#f0f921\"]]}],\"heatmap\":[{\"type\":\"heatmap\",\"colorbar\":{\"outlinewidth\":0,\"ticks\":\"\"},\"colorscale\":[[0.0,\"#0d0887\"],[0.1111111111111111,\"#46039f\"],[0.2222222222222222,\"#7201a8\"],[0.3333333333333333,\"#9c179e\"],[0.4444444444444444,\"#bd3786\"],[0.5555555555555556,\"#d8576b\"],[0.6666666666666666,\"#ed7953\"],[0.7777777777777778,\"#fb9f3a\"],[0.8888888888888888,\"#fdca26\"],[1.0,\"#f0f921\"]]}],\"heatmapgl\":[{\"type\":\"heatmapgl\",\"colorbar\":{\"outlinewidth\":0,\"ticks\":\"\"},\"colorscale\":[[0.0,\"#0d0887\"],[0.1111111111111111,\"#46039f\"],[0.2222222222222222,\"#7201a8\"],[0.3333333333333333,\"#9c179e\"],[0.4444444444444444,\"#bd3786\"],[0.5555555555555556,\"#d8576b\"],[0.6666666666666666,\"#ed7953\"],[0.7777777777777778,\"#fb9f3a\"],[0.8888888888888888,\"#fdca26\"],[1.0,\"#f0f921\"]]}],\"contourcarpet\":[{\"type\":\"contourcarpet\",\"colorbar\":{\"outlinewidth\":0,\"ticks\":\"\"}}],\"contour\":[{\"type\":\"contour\",\"colorbar\":{\"outlinewidth\":0,\"ticks\":\"\"},\"colorscale\":[[0.0,\"#0d0887\"],[0.1111111111111111,\"#46039f\"],[0.2222222222222222,\"#7201a8\"],[0.3333333333333333,\"#9c179e\"],[0.4444444444444444,\"#bd3786\"],[0.5555555555555556,\"#d8576b\"],[0.6666666666666666,\"#ed7953\"],[0.7777777777777778,\"#fb9f3a\"],[0.8888888888888888,\"#fdca26\"],[1.0,\"#f0f921\"]]}],\"surface\":[{\"type\":\"surface\",\"colorbar\":{\"outlinewidth\":0,\"ticks\":\"\"},\"colorscale\":[[0.0,\"#0d0887\"],[0.1111111111111111,\"#46039f\"],[0.2222222222222222,\"#7201a8\"],[0.3333333333333333,\"#9c179e\"],[0.4444444444444444,\"#bd3786\"],[0.5555555555555556,\"#d8576b\"],[0.6666666666666666,\"#ed7953\"],[0.7777777777777778,\"#fb9f3a\"],[0.8888888888888888,\"#fdca26\"],[1.0,\"#f0f921\"]]}],\"mesh3d\":[{\"type\":\"mesh3d\",\"colorbar\":{\"outlinewidth\":0,\"ticks\":\"\"}}],\"scatter\":[{\"fillpattern\":{\"fillmode\":\"overlay\",\"size\":10,\"solidity\":0.2},\"type\":\"scatter\"}],\"parcoords\":[{\"type\":\"parcoords\",\"line\":{\"colorbar\":{\"outlinewidth\":0,\"ticks\":\"\"}}}],\"scatterpolargl\":[{\"type\":\"scatterpolargl\",\"marker\":{\"colorbar\":{\"outlinewidth\":0,\"ticks\":\"\"}}}],\"bar\":[{\"error_x\":{\"color\":\"#2a3f5f\"},\"error_y\":{\"color\":\"#2a3f5f\"},\"marker\":{\"line\":{\"color\":\"#E5ECF6\",\"width\":0.5},\"pattern\":{\"fillmode\":\"overlay\",\"size\":10,\"solidity\":0.2}},\"type\":\"bar\"}],\"scattergeo\":[{\"type\":\"scattergeo\",\"marker\":{\"colorbar\":{\"outlinewidth\":0,\"ticks\":\"\"}}}],\"scatterpolar\":[{\"type\":\"scatterpolar\",\"marker\":{\"colorbar\":{\"outlinewidth\":0,\"ticks\":\"\"}}}],\"histogram\":[{\"marker\":{\"pattern\":{\"fillmode\":\"overlay\",\"size\":10,\"solidity\":0.2}},\"type\":\"histogram\"}],\"scattergl\":[{\"type\":\"scattergl\",\"marker\":{\"colorbar\":{\"outlinewidth\":0,\"ticks\":\"\"}}}],\"scatter3d\":[{\"type\":\"scatter3d\",\"line\":{\"colorbar\":{\"outlinewidth\":0,\"ticks\":\"\"}},\"marker\":{\"colorbar\":{\"outlinewidth\":0,\"ticks\":\"\"}}}],\"scattermapbox\":[{\"type\":\"scattermapbox\",\"marker\":{\"colorbar\":{\"outlinewidth\":0,\"ticks\":\"\"}}}],\"scatterternary\":[{\"type\":\"scatterternary\",\"marker\":{\"colorbar\":{\"outlinewidth\":0,\"ticks\":\"\"}}}],\"scattercarpet\":[{\"type\":\"scattercarpet\",\"marker\":{\"colorbar\":{\"outlinewidth\":0,\"ticks\":\"\"}}}],\"carpet\":[{\"aaxis\":{\"endlinecolor\":\"#2a3f5f\",\"gridcolor\":\"white\",\"linecolor\":\"white\",\"minorgridcolor\":\"white\",\"startlinecolor\":\"#2a3f5f\"},\"baxis\":{\"endlinecolor\":\"#2a3f5f\",\"gridcolor\":\"white\",\"linecolor\":\"white\",\"minorgridcolor\":\"white\",\"startlinecolor\":\"#2a3f5f\"},\"type\":\"carpet\"}],\"table\":[{\"cells\":{\"fill\":{\"color\":\"#EBF0F8\"},\"line\":{\"color\":\"white\"}},\"header\":{\"fill\":{\"color\":\"#C8D4E3\"},\"line\":{\"color\":\"white\"}},\"type\":\"table\"}],\"barpolar\":[{\"marker\":{\"line\":{\"color\":\"#E5ECF6\",\"width\":0.5},\"pattern\":{\"fillmode\":\"overlay\",\"size\":10,\"solidity\":0.2}},\"type\":\"barpolar\"}],\"pie\":[{\"automargin\":true,\"type\":\"pie\"}]},\"layout\":{\"autotypenumbers\":\"strict\",\"colorway\":[\"#636efa\",\"#EF553B\",\"#00cc96\",\"#ab63fa\",\"#FFA15A\",\"#19d3f3\",\"#FF6692\",\"#B6E880\",\"#FF97FF\",\"#FECB52\"],\"font\":{\"color\":\"#2a3f5f\"},\"hovermode\":\"closest\",\"hoverlabel\":{\"align\":\"left\"},\"paper_bgcolor\":\"white\",\"plot_bgcolor\":\"#E5ECF6\",\"polar\":{\"bgcolor\":\"#E5ECF6\",\"angularaxis\":{\"gridcolor\":\"white\",\"linecolor\":\"white\",\"ticks\":\"\"},\"radialaxis\":{\"gridcolor\":\"white\",\"linecolor\":\"white\",\"ticks\":\"\"}},\"ternary\":{\"bgcolor\":\"#E5ECF6\",\"aaxis\":{\"gridcolor\":\"white\",\"linecolor\":\"white\",\"ticks\":\"\"},\"baxis\":{\"gridcolor\":\"white\",\"linecolor\":\"white\",\"ticks\":\"\"},\"caxis\":{\"gridcolor\":\"white\",\"linecolor\":\"white\",\"ticks\":\"\"}},\"coloraxis\":{\"colorbar\":{\"outlinewidth\":0,\"ticks\":\"\"}},\"colorscale\":{\"sequential\":[[0.0,\"#0d0887\"],[0.1111111111111111,\"#46039f\"],[0.2222222222222222,\"#7201a8\"],[0.3333333333333333,\"#9c179e\"],[0.4444444444444444,\"#bd3786\"],[0.5555555555555556,\"#d8576b\"],[0.6666666666666666,\"#ed7953\"],[0.7777777777777778,\"#fb9f3a\"],[0.8888888888888888,\"#fdca26\"],[1.0,\"#f0f921\"]],\"sequentialminus\":[[0.0,\"#0d0887\"],[0.1111111111111111,\"#46039f\"],[0.2222222222222222,\"#7201a8\"],[0.3333333333333333,\"#9c179e\"],[0.4444444444444444,\"#bd3786\"],[0.5555555555555556,\"#d8576b\"],[0.6666666666666666,\"#ed7953\"],[0.7777777777777778,\"#fb9f3a\"],[0.8888888888888888,\"#fdca26\"],[1.0,\"#f0f921\"]],\"diverging\":[[0,\"#8e0152\"],[0.1,\"#c51b7d\"],[0.2,\"#de77ae\"],[0.3,\"#f1b6da\"],[0.4,\"#fde0ef\"],[0.5,\"#f7f7f7\"],[0.6,\"#e6f5d0\"],[0.7,\"#b8e186\"],[0.8,\"#7fbc41\"],[0.9,\"#4d9221\"],[1,\"#276419\"]]},\"xaxis\":{\"gridcolor\":\"white\",\"linecolor\":\"white\",\"ticks\":\"\",\"title\":{\"standoff\":15},\"zerolinecolor\":\"white\",\"automargin\":true,\"zerolinewidth\":2},\"yaxis\":{\"gridcolor\":\"white\",\"linecolor\":\"white\",\"ticks\":\"\",\"title\":{\"standoff\":15},\"zerolinecolor\":\"white\",\"automargin\":true,\"zerolinewidth\":2},\"scene\":{\"xaxis\":{\"backgroundcolor\":\"#E5ECF6\",\"gridcolor\":\"white\",\"linecolor\":\"white\",\"showbackground\":true,\"ticks\":\"\",\"zerolinecolor\":\"white\",\"gridwidth\":2},\"yaxis\":{\"backgroundcolor\":\"#E5ECF6\",\"gridcolor\":\"white\",\"linecolor\":\"white\",\"showbackground\":true,\"ticks\":\"\",\"zerolinecolor\":\"white\",\"gridwidth\":2},\"zaxis\":{\"backgroundcolor\":\"#E5ECF6\",\"gridcolor\":\"white\",\"linecolor\":\"white\",\"showbackground\":true,\"ticks\":\"\",\"zerolinecolor\":\"white\",\"gridwidth\":2}},\"shapedefaults\":{\"line\":{\"color\":\"#2a3f5f\"}},\"annotationdefaults\":{\"arrowcolor\":\"#2a3f5f\",\"arrowhead\":0,\"arrowwidth\":1},\"geo\":{\"bgcolor\":\"white\",\"landcolor\":\"#E5ECF6\",\"subunitcolor\":\"white\",\"showland\":true,\"showlakes\":true,\"lakecolor\":\"white\"},\"title\":{\"x\":0.05},\"mapbox\":{\"style\":\"light\"}}},\"legend\":{\"tracegroupgap\":0},\"title\":{\"text\":\"Répartition du Coût Total Employeur\"},\"sunburstcolorway\":[\"#f0f921\",\"#fdca26\",\"#fb9f3a\",\"#ed7953\",\"#d8576b\",\"#bd3786\",\"#9c179e\",\"#7201a8\",\"#46039f\",\"#0d0887\"]},                        {\"responsive\": true}                    ).then(function(){\n",
              "                            \n",
              "var gd = document.getElementById('81b71c5a-add4-40a7-a5f1-45ed2a98dc6d');\n",
              "var x = new MutationObserver(function (mutations, observer) {{\n",
              "        var display = window.getComputedStyle(gd).display;\n",
              "        if (!display || display === 'none') {{\n",
              "            console.log([gd, 'removed!']);\n",
              "            Plotly.purge(gd);\n",
              "            observer.disconnect();\n",
              "        }}\n",
              "}});\n",
              "\n",
              "// Listen for the removal of the full notebook cells\n",
              "var notebookContainer = gd.closest('#notebook-container');\n",
              "if (notebookContainer) {{\n",
              "    x.observe(notebookContainer, {childList: true});\n",
              "}}\n",
              "\n",
              "// Listen for the clearing of the current output cell\n",
              "var outputEl = gd.closest('.output');\n",
              "if (outputEl) {{\n",
              "    x.observe(outputEl, {childList: true});\n",
              "}}\n",
              "\n",
              "                        })                };                            </script>        </div>\n",
              "</body>\n",
              "</html>"
            ]
          },
          "metadata": {}
        }
      ]
    },
    {
      "cell_type": "code",
      "source": [
        "contributions_by_type = df_paystub.group_by('Catégorie').agg(\n",
        "    pl.sum('Part Salariale').alias('Salariale'),\n",
        "    pl.sum('Part Patronale').alias('Patronale')\n",
        ")"
      ],
      "metadata": {
        "id": "boI6jxRt0_Hm"
      },
      "execution_count": 253,
      "outputs": []
    },
    {
      "cell_type": "code",
      "source": [
        "plot_df_grouped = contributions_by_type.melt(\n",
        "    id_vars = 'Catégorie',\n",
        "    value_vars = ['Salariale','Patronale'],\n",
        "    variable_name='Type de Cotisation',\n",
        "    value_name = 'Montant'\n",
        ")\n",
        "\n",
        "print('\\n--- Group Bar Chart DataFrame (plot_df_grouped) ---')\n",
        "display(plot_df_grouped)"
      ],
      "metadata": {
        "colab": {
          "base_uri": "https://localhost:8080/",
          "height": 446
        },
        "id": "-fJWwHEBG5nL",
        "outputId": "fbc0ee8d-4e2c-4043-b4d7-ec684a531608"
      },
      "execution_count": 258,
      "outputs": [
        {
          "output_type": "stream",
          "name": "stdout",
          "text": [
            "\n",
            "--- Group Bar Chart DataFrame (plot_df_grouped) ---\n"
          ]
        },
        {
          "output_type": "display_data",
          "data": {
            "text/plain": [
              "shape: (10, 3)\n",
              "┌──────────────────────┬────────────────────┬─────────┐\n",
              "│ Catégorie            ┆ Type de Cotisation ┆ Montant │\n",
              "│ ---                  ┆ ---                ┆ ---     │\n",
              "│ str                  ┆ str                ┆ f64     │\n",
              "╞══════════════════════╪════════════════════╪═════════╡\n",
              "│ Retraite             ┆ Salariale          ┆ 442.47  │\n",
              "│ Famille              ┆ Salariale          ┆ 0.0     │\n",
              "│ Chômage              ┆ Salariale          ┆ 1.03    │\n",
              "│ Autres Contributions ┆ Salariale          ┆ 438.01  │\n",
              "│ Santé                ┆ Salariale          ┆ 50.0    │\n",
              "│ Retraite             ┆ Patronale          ┆ 649.69  │\n",
              "│ Famille              ┆ Patronale          ┆ 148.07  │\n",
              "│ Chômage              ┆ Patronale          ┆ 175.36  │\n",
              "│ Autres Contributions ┆ Patronale          ┆ 34.33   │\n",
              "│ Santé                ┆ Patronale          ┆ 401.92  │\n",
              "└──────────────────────┴────────────────────┴─────────┘"
            ],
            "text/html": [
              "<div><style>\n",
              ".dataframe > thead > tr,\n",
              ".dataframe > tbody > tr {\n",
              "  text-align: right;\n",
              "  white-space: pre-wrap;\n",
              "}\n",
              "</style>\n",
              "<small>shape: (10, 3)</small><table border=\"1\" class=\"dataframe\"><thead><tr><th>Catégorie</th><th>Type de Cotisation</th><th>Montant</th></tr><tr><td>str</td><td>str</td><td>f64</td></tr></thead><tbody><tr><td>&quot;Retraite&quot;</td><td>&quot;Salariale&quot;</td><td>442.47</td></tr><tr><td>&quot;Famille&quot;</td><td>&quot;Salariale&quot;</td><td>0.0</td></tr><tr><td>&quot;Chômage&quot;</td><td>&quot;Salariale&quot;</td><td>1.03</td></tr><tr><td>&quot;Autres Contributions&quot;</td><td>&quot;Salariale&quot;</td><td>438.01</td></tr><tr><td>&quot;Santé&quot;</td><td>&quot;Salariale&quot;</td><td>50.0</td></tr><tr><td>&quot;Retraite&quot;</td><td>&quot;Patronale&quot;</td><td>649.69</td></tr><tr><td>&quot;Famille&quot;</td><td>&quot;Patronale&quot;</td><td>148.07</td></tr><tr><td>&quot;Chômage&quot;</td><td>&quot;Patronale&quot;</td><td>175.36</td></tr><tr><td>&quot;Autres Contributions&quot;</td><td>&quot;Patronale&quot;</td><td>34.33</td></tr><tr><td>&quot;Santé&quot;</td><td>&quot;Patronale&quot;</td><td>401.92</td></tr></tbody></table></div>"
            ]
          },
          "metadata": {}
        }
      ]
    },
    {
      "cell_type": "code",
      "source": [
        "fig_grouped_bar= px.bar(\n",
        "    plot_df_grouped,\n",
        "    x='Catégorie',\n",
        "    y='Montant',\n",
        "    color ='Type de Cotisation',\n",
        "    barmode='group',\n",
        "    title='Répartition des Cotisations par Type (Salariale vs Patronale)',\n",
        "    labels={'Montant':'Montant Total (€)','Catégorie':'Catégorie de Cotisation'},\n",
        "    text_auto = '.2f',\n",
        "    color_discrete_map={\n",
        "            'Salariale': '#90CAF9',\n",
        "            'Patronale': '#77DD77'\n",
        "        }\n",
        ")\n",
        "\n",
        "fig_grouped_bar.show()"
      ],
      "metadata": {
        "colab": {
          "base_uri": "https://localhost:8080/",
          "height": 542
        },
        "id": "p_Y6v2JfHeuD",
        "outputId": "304a0599-5dd0-4e17-d937-d45e7609a70e"
      },
      "execution_count": 263,
      "outputs": [
        {
          "output_type": "display_data",
          "data": {
            "text/html": [
              "<html>\n",
              "<head><meta charset=\"utf-8\" /></head>\n",
              "<body>\n",
              "    <div>            <script src=\"https://cdnjs.cloudflare.com/ajax/libs/mathjax/2.7.5/MathJax.js?config=TeX-AMS-MML_SVG\"></script><script type=\"text/javascript\">if (window.MathJax && window.MathJax.Hub && window.MathJax.Hub.Config) {window.MathJax.Hub.Config({SVG: {font: \"STIX-Web\"}});}</script>                <script type=\"text/javascript\">window.PlotlyConfig = {MathJaxConfig: 'local'};</script>\n",
              "        <script charset=\"utf-8\" src=\"https://cdn.plot.ly/plotly-2.35.2.min.js\"></script>                <div id=\"d39cdf1b-6062-4aa2-b336-51ee749190ee\" class=\"plotly-graph-div\" style=\"height:525px; width:100%;\"></div>            <script type=\"text/javascript\">                                    window.PLOTLYENV=window.PLOTLYENV || {};                                    if (document.getElementById(\"d39cdf1b-6062-4aa2-b336-51ee749190ee\")) {                    Plotly.newPlot(                        \"d39cdf1b-6062-4aa2-b336-51ee749190ee\",                        [{\"alignmentgroup\":\"True\",\"hovertemplate\":\"Type de Cotisation=Salariale\\u003cbr\\u003eCatégorie de Cotisation=%{x}\\u003cbr\\u003eMontant Total (€)=%{y}\\u003cextra\\u003e\\u003c\\u002fextra\\u003e\",\"legendgroup\":\"Salariale\",\"marker\":{\"color\":\"#90CAF9\",\"pattern\":{\"shape\":\"\"}},\"name\":\"Salariale\",\"offsetgroup\":\"Salariale\",\"orientation\":\"v\",\"showlegend\":true,\"textposition\":\"auto\",\"texttemplate\":\"%{y:.2f}\",\"x\":[\"Retraite\",\"Famille\",\"Chômage\",\"Autres Contributions\",\"Santé\"],\"xaxis\":\"x\",\"y\":[442.46999999999997,0.0,1.03,438.01,50.0],\"yaxis\":\"y\",\"type\":\"bar\"},{\"alignmentgroup\":\"True\",\"hovertemplate\":\"Type de Cotisation=Patronale\\u003cbr\\u003eCatégorie de Cotisation=%{x}\\u003cbr\\u003eMontant Total (€)=%{y}\\u003cextra\\u003e\\u003c\\u002fextra\\u003e\",\"legendgroup\":\"Patronale\",\"marker\":{\"color\":\"#77DD77\",\"pattern\":{\"shape\":\"\"}},\"name\":\"Patronale\",\"offsetgroup\":\"Patronale\",\"orientation\":\"v\",\"showlegend\":true,\"textposition\":\"auto\",\"texttemplate\":\"%{y:.2f}\",\"x\":[\"Retraite\",\"Famille\",\"Chômage\",\"Autres Contributions\",\"Santé\"],\"xaxis\":\"x\",\"y\":[649.6899999999999,148.07,175.35999999999999,34.33,401.92],\"yaxis\":\"y\",\"type\":\"bar\"}],                        {\"template\":{\"data\":{\"histogram2dcontour\":[{\"type\":\"histogram2dcontour\",\"colorbar\":{\"outlinewidth\":0,\"ticks\":\"\"},\"colorscale\":[[0.0,\"#0d0887\"],[0.1111111111111111,\"#46039f\"],[0.2222222222222222,\"#7201a8\"],[0.3333333333333333,\"#9c179e\"],[0.4444444444444444,\"#bd3786\"],[0.5555555555555556,\"#d8576b\"],[0.6666666666666666,\"#ed7953\"],[0.7777777777777778,\"#fb9f3a\"],[0.8888888888888888,\"#fdca26\"],[1.0,\"#f0f921\"]]}],\"choropleth\":[{\"type\":\"choropleth\",\"colorbar\":{\"outlinewidth\":0,\"ticks\":\"\"}}],\"histogram2d\":[{\"type\":\"histogram2d\",\"colorbar\":{\"outlinewidth\":0,\"ticks\":\"\"},\"colorscale\":[[0.0,\"#0d0887\"],[0.1111111111111111,\"#46039f\"],[0.2222222222222222,\"#7201a8\"],[0.3333333333333333,\"#9c179e\"],[0.4444444444444444,\"#bd3786\"],[0.5555555555555556,\"#d8576b\"],[0.6666666666666666,\"#ed7953\"],[0.7777777777777778,\"#fb9f3a\"],[0.8888888888888888,\"#fdca26\"],[1.0,\"#f0f921\"]]}],\"heatmap\":[{\"type\":\"heatmap\",\"colorbar\":{\"outlinewidth\":0,\"ticks\":\"\"},\"colorscale\":[[0.0,\"#0d0887\"],[0.1111111111111111,\"#46039f\"],[0.2222222222222222,\"#7201a8\"],[0.3333333333333333,\"#9c179e\"],[0.4444444444444444,\"#bd3786\"],[0.5555555555555556,\"#d8576b\"],[0.6666666666666666,\"#ed7953\"],[0.7777777777777778,\"#fb9f3a\"],[0.8888888888888888,\"#fdca26\"],[1.0,\"#f0f921\"]]}],\"heatmapgl\":[{\"type\":\"heatmapgl\",\"colorbar\":{\"outlinewidth\":0,\"ticks\":\"\"},\"colorscale\":[[0.0,\"#0d0887\"],[0.1111111111111111,\"#46039f\"],[0.2222222222222222,\"#7201a8\"],[0.3333333333333333,\"#9c179e\"],[0.4444444444444444,\"#bd3786\"],[0.5555555555555556,\"#d8576b\"],[0.6666666666666666,\"#ed7953\"],[0.7777777777777778,\"#fb9f3a\"],[0.8888888888888888,\"#fdca26\"],[1.0,\"#f0f921\"]]}],\"contourcarpet\":[{\"type\":\"contourcarpet\",\"colorbar\":{\"outlinewidth\":0,\"ticks\":\"\"}}],\"contour\":[{\"type\":\"contour\",\"colorbar\":{\"outlinewidth\":0,\"ticks\":\"\"},\"colorscale\":[[0.0,\"#0d0887\"],[0.1111111111111111,\"#46039f\"],[0.2222222222222222,\"#7201a8\"],[0.3333333333333333,\"#9c179e\"],[0.4444444444444444,\"#bd3786\"],[0.5555555555555556,\"#d8576b\"],[0.6666666666666666,\"#ed7953\"],[0.7777777777777778,\"#fb9f3a\"],[0.8888888888888888,\"#fdca26\"],[1.0,\"#f0f921\"]]}],\"surface\":[{\"type\":\"surface\",\"colorbar\":{\"outlinewidth\":0,\"ticks\":\"\"},\"colorscale\":[[0.0,\"#0d0887\"],[0.1111111111111111,\"#46039f\"],[0.2222222222222222,\"#7201a8\"],[0.3333333333333333,\"#9c179e\"],[0.4444444444444444,\"#bd3786\"],[0.5555555555555556,\"#d8576b\"],[0.6666666666666666,\"#ed7953\"],[0.7777777777777778,\"#fb9f3a\"],[0.8888888888888888,\"#fdca26\"],[1.0,\"#f0f921\"]]}],\"mesh3d\":[{\"type\":\"mesh3d\",\"colorbar\":{\"outlinewidth\":0,\"ticks\":\"\"}}],\"scatter\":[{\"fillpattern\":{\"fillmode\":\"overlay\",\"size\":10,\"solidity\":0.2},\"type\":\"scatter\"}],\"parcoords\":[{\"type\":\"parcoords\",\"line\":{\"colorbar\":{\"outlinewidth\":0,\"ticks\":\"\"}}}],\"scatterpolargl\":[{\"type\":\"scatterpolargl\",\"marker\":{\"colorbar\":{\"outlinewidth\":0,\"ticks\":\"\"}}}],\"bar\":[{\"error_x\":{\"color\":\"#2a3f5f\"},\"error_y\":{\"color\":\"#2a3f5f\"},\"marker\":{\"line\":{\"color\":\"#E5ECF6\",\"width\":0.5},\"pattern\":{\"fillmode\":\"overlay\",\"size\":10,\"solidity\":0.2}},\"type\":\"bar\"}],\"scattergeo\":[{\"type\":\"scattergeo\",\"marker\":{\"colorbar\":{\"outlinewidth\":0,\"ticks\":\"\"}}}],\"scatterpolar\":[{\"type\":\"scatterpolar\",\"marker\":{\"colorbar\":{\"outlinewidth\":0,\"ticks\":\"\"}}}],\"histogram\":[{\"marker\":{\"pattern\":{\"fillmode\":\"overlay\",\"size\":10,\"solidity\":0.2}},\"type\":\"histogram\"}],\"scattergl\":[{\"type\":\"scattergl\",\"marker\":{\"colorbar\":{\"outlinewidth\":0,\"ticks\":\"\"}}}],\"scatter3d\":[{\"type\":\"scatter3d\",\"line\":{\"colorbar\":{\"outlinewidth\":0,\"ticks\":\"\"}},\"marker\":{\"colorbar\":{\"outlinewidth\":0,\"ticks\":\"\"}}}],\"scattermapbox\":[{\"type\":\"scattermapbox\",\"marker\":{\"colorbar\":{\"outlinewidth\":0,\"ticks\":\"\"}}}],\"scatterternary\":[{\"type\":\"scatterternary\",\"marker\":{\"colorbar\":{\"outlinewidth\":0,\"ticks\":\"\"}}}],\"scattercarpet\":[{\"type\":\"scattercarpet\",\"marker\":{\"colorbar\":{\"outlinewidth\":0,\"ticks\":\"\"}}}],\"carpet\":[{\"aaxis\":{\"endlinecolor\":\"#2a3f5f\",\"gridcolor\":\"white\",\"linecolor\":\"white\",\"minorgridcolor\":\"white\",\"startlinecolor\":\"#2a3f5f\"},\"baxis\":{\"endlinecolor\":\"#2a3f5f\",\"gridcolor\":\"white\",\"linecolor\":\"white\",\"minorgridcolor\":\"white\",\"startlinecolor\":\"#2a3f5f\"},\"type\":\"carpet\"}],\"table\":[{\"cells\":{\"fill\":{\"color\":\"#EBF0F8\"},\"line\":{\"color\":\"white\"}},\"header\":{\"fill\":{\"color\":\"#C8D4E3\"},\"line\":{\"color\":\"white\"}},\"type\":\"table\"}],\"barpolar\":[{\"marker\":{\"line\":{\"color\":\"#E5ECF6\",\"width\":0.5},\"pattern\":{\"fillmode\":\"overlay\",\"size\":10,\"solidity\":0.2}},\"type\":\"barpolar\"}],\"pie\":[{\"automargin\":true,\"type\":\"pie\"}]},\"layout\":{\"autotypenumbers\":\"strict\",\"colorway\":[\"#636efa\",\"#EF553B\",\"#00cc96\",\"#ab63fa\",\"#FFA15A\",\"#19d3f3\",\"#FF6692\",\"#B6E880\",\"#FF97FF\",\"#FECB52\"],\"font\":{\"color\":\"#2a3f5f\"},\"hovermode\":\"closest\",\"hoverlabel\":{\"align\":\"left\"},\"paper_bgcolor\":\"white\",\"plot_bgcolor\":\"#E5ECF6\",\"polar\":{\"bgcolor\":\"#E5ECF6\",\"angularaxis\":{\"gridcolor\":\"white\",\"linecolor\":\"white\",\"ticks\":\"\"},\"radialaxis\":{\"gridcolor\":\"white\",\"linecolor\":\"white\",\"ticks\":\"\"}},\"ternary\":{\"bgcolor\":\"#E5ECF6\",\"aaxis\":{\"gridcolor\":\"white\",\"linecolor\":\"white\",\"ticks\":\"\"},\"baxis\":{\"gridcolor\":\"white\",\"linecolor\":\"white\",\"ticks\":\"\"},\"caxis\":{\"gridcolor\":\"white\",\"linecolor\":\"white\",\"ticks\":\"\"}},\"coloraxis\":{\"colorbar\":{\"outlinewidth\":0,\"ticks\":\"\"}},\"colorscale\":{\"sequential\":[[0.0,\"#0d0887\"],[0.1111111111111111,\"#46039f\"],[0.2222222222222222,\"#7201a8\"],[0.3333333333333333,\"#9c179e\"],[0.4444444444444444,\"#bd3786\"],[0.5555555555555556,\"#d8576b\"],[0.6666666666666666,\"#ed7953\"],[0.7777777777777778,\"#fb9f3a\"],[0.8888888888888888,\"#fdca26\"],[1.0,\"#f0f921\"]],\"sequentialminus\":[[0.0,\"#0d0887\"],[0.1111111111111111,\"#46039f\"],[0.2222222222222222,\"#7201a8\"],[0.3333333333333333,\"#9c179e\"],[0.4444444444444444,\"#bd3786\"],[0.5555555555555556,\"#d8576b\"],[0.6666666666666666,\"#ed7953\"],[0.7777777777777778,\"#fb9f3a\"],[0.8888888888888888,\"#fdca26\"],[1.0,\"#f0f921\"]],\"diverging\":[[0,\"#8e0152\"],[0.1,\"#c51b7d\"],[0.2,\"#de77ae\"],[0.3,\"#f1b6da\"],[0.4,\"#fde0ef\"],[0.5,\"#f7f7f7\"],[0.6,\"#e6f5d0\"],[0.7,\"#b8e186\"],[0.8,\"#7fbc41\"],[0.9,\"#4d9221\"],[1,\"#276419\"]]},\"xaxis\":{\"gridcolor\":\"white\",\"linecolor\":\"white\",\"ticks\":\"\",\"title\":{\"standoff\":15},\"zerolinecolor\":\"white\",\"automargin\":true,\"zerolinewidth\":2},\"yaxis\":{\"gridcolor\":\"white\",\"linecolor\":\"white\",\"ticks\":\"\",\"title\":{\"standoff\":15},\"zerolinecolor\":\"white\",\"automargin\":true,\"zerolinewidth\":2},\"scene\":{\"xaxis\":{\"backgroundcolor\":\"#E5ECF6\",\"gridcolor\":\"white\",\"linecolor\":\"white\",\"showbackground\":true,\"ticks\":\"\",\"zerolinecolor\":\"white\",\"gridwidth\":2},\"yaxis\":{\"backgroundcolor\":\"#E5ECF6\",\"gridcolor\":\"white\",\"linecolor\":\"white\",\"showbackground\":true,\"ticks\":\"\",\"zerolinecolor\":\"white\",\"gridwidth\":2},\"zaxis\":{\"backgroundcolor\":\"#E5ECF6\",\"gridcolor\":\"white\",\"linecolor\":\"white\",\"showbackground\":true,\"ticks\":\"\",\"zerolinecolor\":\"white\",\"gridwidth\":2}},\"shapedefaults\":{\"line\":{\"color\":\"#2a3f5f\"}},\"annotationdefaults\":{\"arrowcolor\":\"#2a3f5f\",\"arrowhead\":0,\"arrowwidth\":1},\"geo\":{\"bgcolor\":\"white\",\"landcolor\":\"#E5ECF6\",\"subunitcolor\":\"white\",\"showland\":true,\"showlakes\":true,\"lakecolor\":\"white\"},\"title\":{\"x\":0.05},\"mapbox\":{\"style\":\"light\"}}},\"xaxis\":{\"anchor\":\"y\",\"domain\":[0.0,1.0],\"title\":{\"text\":\"Catégorie de Cotisation\"}},\"yaxis\":{\"anchor\":\"x\",\"domain\":[0.0,1.0],\"title\":{\"text\":\"Montant Total (€)\"}},\"legend\":{\"title\":{\"text\":\"Type de Cotisation\"},\"tracegroupgap\":0},\"title\":{\"text\":\"Répartition des Cotisations par Type (Salariale vs Patronale)\"},\"barmode\":\"group\"},                        {\"responsive\": true}                    ).then(function(){\n",
              "                            \n",
              "var gd = document.getElementById('d39cdf1b-6062-4aa2-b336-51ee749190ee');\n",
              "var x = new MutationObserver(function (mutations, observer) {{\n",
              "        var display = window.getComputedStyle(gd).display;\n",
              "        if (!display || display === 'none') {{\n",
              "            console.log([gd, 'removed!']);\n",
              "            Plotly.purge(gd);\n",
              "            observer.disconnect();\n",
              "        }}\n",
              "}});\n",
              "\n",
              "// Listen for the removal of the full notebook cells\n",
              "var notebookContainer = gd.closest('#notebook-container');\n",
              "if (notebookContainer) {{\n",
              "    x.observe(notebookContainer, {childList: true});\n",
              "}}\n",
              "\n",
              "// Listen for the clearing of the current output cell\n",
              "var outputEl = gd.closest('.output');\n",
              "if (outputEl) {{\n",
              "    x.observe(outputEl, {childList: true});\n",
              "}}\n",
              "\n",
              "                        })                };                            </script>        </div>\n",
              "</body>\n",
              "</html>"
            ]
          },
          "metadata": {}
        }
      ]
    }
  ]
}